{
 "cells": [
  {
   "cell_type": "code",
   "execution_count": null,
   "id": "d22d7ce9-2638-4921-a346-fbc26034d037",
   "metadata": {},
   "outputs": [],
   "source": [
    "import anndata\n",
    "import scanpy as sc\n",
    "import pandas as pd\n",
    "from scipy import sparse\n",
    "from modules.process_data import *\n",
    "from collections import Counter\n",
    "from matplotlib.ticker import PercentFormatter"
   ]
  },
  {
   "cell_type": "code",
   "execution_count": null,
   "id": "3a6fcd9d-6308-42c1-b48a-a4a30d74d1c1",
   "metadata": {},
   "outputs": [],
   "source": [
    "adata = anndata.read_h5ad(\"data/fede_count.h5ad\")"
   ]
  },
  {
   "cell_type": "code",
   "execution_count": null,
   "id": "ac01259a-e390-4759-89c8-9f80323262ac",
   "metadata": {},
   "outputs": [],
   "source": [
    "anno_df = pd.read_csv(\"data/fede_mapping.csv\", skiprows=4)"
   ]
  },
  {
   "cell_type": "code",
   "execution_count": null,
   "id": "a36fb989-c5ad-4ea9-9ea7-6f8d5c6c4228",
   "metadata": {},
   "outputs": [],
   "source": [
    "sc_df['Sample_Tag'].map(mapping2)"
   ]
  },
  {
   "cell_type": "code",
   "execution_count": null,
   "id": "69f27ef0-473f-416d-95e4-86f232c36d0d",
   "metadata": {},
   "outputs": [],
   "source": [
    "sc_df['Sample_Tag'].values"
   ]
  },
  {
   "cell_type": "code",
   "execution_count": null,
   "id": "3a6064d8-87c1-4a57-8c36-9bae79864460",
   "metadata": {},
   "outputs": [],
   "source": []
  },
  {
   "cell_type": "code",
   "execution_count": null,
   "id": "bb69685b-8e5a-45da-9ed2-9eada0a76769",
   "metadata": {},
   "outputs": [],
   "source": []
  },
  {
   "cell_type": "code",
   "execution_count": null,
   "id": "cf26c583-49e4-4b37-98cd-b32564077e1a",
   "metadata": {},
   "outputs": [],
   "source": [
    "data = Counter([x for x in adata.obs.Sample_Tag.values])\n",
    "sorted_data = dict(sorted(data.items(), key=lambda item: item[1]))\n",
    "labels = sorted_data.keys()\n",
    "sizes = sorted_data.values()\n",
    "cmap = plt.get_cmap(\"viridis\")\n",
    "colors = cmap(np.linspace(0, 1, len(labels)))\n",
    "plt.figure(figsize=(10, 7))\n",
    "plt.pie(sizes, labels=labels, autopct='%1.1f%%', startangle=140, colors=colors)\n",
    "plt.axis('equal')  \n",
    "plt.title('Sample tag distribution')\n",
    "plt.show()"
   ]
  },
  {
   "cell_type": "code",
   "execution_count": null,
   "id": "a78a0ea1-7bc8-43cb-8be8-685c64e8fbda",
   "metadata": {},
   "outputs": [],
   "source": [
    "sc_df = pd.DataFrame(adata.X.toarray() if hasattr(adata.X, 'toarray') else adata.X, index=adata.obs_names, columns=adata.var_names)"
   ]
  },
  {
   "cell_type": "code",
   "execution_count": null,
   "id": "fab0cb80-ea6b-4e12-9acd-ee15f50766ce",
   "metadata": {},
   "outputs": [],
   "source": [
    "sample_tags = pd.DataFrame(adata.obs.Sample_Tag)"
   ]
  },
  {
   "cell_type": "code",
   "execution_count": null,
   "id": "cce7c043-9e68-4db3-8032-07f2529ed3d4",
   "metadata": {},
   "outputs": [],
   "source": [
    "sc_df = sc_df.join(sample_tags)"
   ]
  },
  {
   "cell_type": "code",
   "execution_count": null,
   "id": "2549adb9-a882-4a61-a785-83873ed93bcf",
   "metadata": {},
   "outputs": [],
   "source": []
  },
  {
   "cell_type": "code",
   "execution_count": null,
   "id": "48947dea-3ef8-4165-9395-4430f4024ed0",
   "metadata": {},
   "outputs": [],
   "source": [
    "mito_genes = [col for col in sc_df.columns if col.startswith('mt-')]\n",
    "mito_reads = sc_df[mito_genes].sum(axis=1)\n",
    "numeric_df = sc_df.select_dtypes(include=[int, float])\n",
    "total_reads = numeric_df.sum(axis=1)\n",
    "mito_percentage = (mito_reads / total_reads) * 100\n",
    "mito_percentage_list = mito_percentage.tolist()\n",
    "plt.xlabel('Percentage of counts mapping to mitochondrial genes')\n",
    "plt.ylabel('Number of cells')\n",
    "plt.hist(mito_percentage_list, bins=20)\n",
    "plt.show()"
   ]
  },
  {
   "cell_type": "code",
   "execution_count": null,
   "id": "53d5b240-c675-4a51-80bc-5bf2fe5bcab2",
   "metadata": {},
   "outputs": [],
   "source": []
  },
  {
   "cell_type": "code",
   "execution_count": null,
   "id": "6607be3b-1944-4ad6-91fe-f97b5a376583",
   "metadata": {},
   "outputs": [],
   "source": []
  },
  {
   "cell_type": "code",
   "execution_count": null,
   "id": "2674ec79-72cd-49b2-8dcd-8033261fc371",
   "metadata": {},
   "outputs": [],
   "source": [
    "mito_genes = [col for col in sc_df.columns if col.startswith('mt-')]\n",
    "numeric_df = sc_df.select_dtypes(include=[int, float])\n",
    "results = {}\n",
    "grouped = sc_df.groupby('Sample_Tag')\n",
    "for sample_tag, group in grouped:\n",
    "    group_numeric = group.select_dtypes(include=[int, float])\n",
    "    mito_reads = group[mito_genes].sum(axis=1)\n",
    "    total_reads = group_numeric.sum(axis=1)\n",
    "    mito_percentage = (mito_reads / total_reads) * 100\n",
    "    results[sample_tag] = mito_percentage.tolist()\n",
    "\n",
    "    plt.xlabel('Percentage of counts mapping to mitochondrial genes')\n",
    "    plt.ylabel('Number of cells')\n",
    "    plt.title(f'{sample_tag}')\n",
    "    plt.hist(results[sample_tag], bins=20)\n",
    "    plt.show()"
   ]
  },
  {
   "cell_type": "code",
   "execution_count": null,
   "id": "14bac263-daf7-4e23-9eeb-7ee5f9ef2ebc",
   "metadata": {},
   "outputs": [],
   "source": []
  },
  {
   "cell_type": "code",
   "execution_count": null,
   "id": "bb8891eb-dd7d-4b97-ba06-cffdb3ba3bb3",
   "metadata": {},
   "outputs": [],
   "source": [
    "anno_df = anno_df.set_index('cell_id')[['class_name']]"
   ]
  },
  {
   "cell_type": "code",
   "execution_count": null,
   "id": "d65f31ee-2b94-4e1b-91db-dbd3ab9f975c",
   "metadata": {},
   "outputs": [],
   "source": [
    "sc_df.index = sc_df.index.astype('int64')"
   ]
  },
  {
   "cell_type": "code",
   "execution_count": null,
   "id": "e98a2df4-7979-4c75-93b1-fcaf56c52349",
   "metadata": {
    "scrolled": true
   },
   "outputs": [],
   "source": [
    "sc_df = sc_df.join(anno_df)"
   ]
  },
  {
   "cell_type": "code",
   "execution_count": null,
   "id": "dba6408b-0f71-4a74-bef8-d73571a9d7bc",
   "metadata": {},
   "outputs": [],
   "source": []
  },
  {
   "cell_type": "code",
   "execution_count": null,
   "id": "e4b8b2c5-f634-4510-ab5e-9a74bfc81537",
   "metadata": {},
   "outputs": [],
   "source": [
    "class_name_values = sc_df['class_name'].values\n",
    "class_counts = Counter(class_name_values)\n",
    "total_counts = sum(class_counts.values())\n",
    "threshold = 0.01\n",
    "other_count = 0\n",
    "final_counts = {}\n",
    "for class_name, count in class_counts.items():\n",
    "    percentage = count / total_counts\n",
    "    if percentage < threshold:\n",
    "        other_count += count\n",
    "    else:\n",
    "        final_counts[class_name] = count\n",
    "\n",
    "if other_count > 0:\n",
    "    final_counts['Others'] = other_count\n",
    "\n",
    "sorted_counts = dict(sorted(final_counts.items(), key=lambda item: item[1]))\n",
    "labels = sorted_counts.keys()\n",
    "sizes = sorted_counts.values()\n",
    "cmap = plt.get_cmap(\"viridis\")\n",
    "colors = cmap(np.linspace(0, 1, len(labels)))\n",
    "plt.figure(figsize=(10, 7))\n",
    "plt.pie(sizes, labels=labels, autopct='%1.1f%%', startangle=140, colors=colors)\n",
    "plt.axis('equal')  \n",
    "plt.title('Cell type distribution')\n",
    "plt.show()"
   ]
  },
  {
   "cell_type": "code",
   "execution_count": null,
   "id": "08b45d38-f969-4b7a-a0bb-211d94e8a971",
   "metadata": {},
   "outputs": [],
   "source": []
  },
  {
   "cell_type": "code",
   "execution_count": null,
   "id": "54405801-30f5-4e97-9a6a-832e3a9e56bf",
   "metadata": {},
   "outputs": [],
   "source": []
  },
  {
   "cell_type": "code",
   "execution_count": null,
   "id": "e3d34837-3edd-4004-8c88-9648f62f9018",
   "metadata": {},
   "outputs": [],
   "source": []
  },
  {
   "cell_type": "code",
   "execution_count": null,
   "id": "2b3c0115-fde8-4c28-82db-7c8657c5c9f5",
   "metadata": {},
   "outputs": [],
   "source": [
    "mito_genes = [col for col in sc_df.columns if col.startswith('mt-')]\n",
    "mito_reads = sc_df[mito_genes].sum(axis=1)\n",
    "numeric_df = sc_df.select_dtypes(include=[int, float])\n",
    "total_reads = numeric_df.sum(axis=1)\n",
    "sc_df['mito_percentage'] = (mito_reads / total_reads) * 100\n",
    "\n",
    "top_classes = sc_df['class_name'].value_counts().nlargest(5).index\n",
    "\n",
    "fig, axes = plt.subplots(len(top_classes), 1, figsize=(8, 5 * len(top_classes)), sharex=True)\n",
    "\n",
    "for ax, class_name in zip(axes, top_classes):\n",
    "    class_data = sc_df[sc_df['class_name'] == class_name]['mito_percentage']\n",
    "    ax.hist(class_data, bins=20, alpha=0.7, color='blue')\n",
    "    ax.set_title(f'{class_name}')\n",
    "    ax.set_xlabel('Percentage of counts mapping to mitochondrial genes')\n",
    "    ax.set_ylabel('Number of cells')\n",
    "    ax.xaxis.set_major_formatter(PercentFormatter())\n",
    "\n",
    "plt.tight_layout()\n",
    "plt.show()"
   ]
  },
  {
   "cell_type": "code",
   "execution_count": null,
   "id": "df256985-c195-42d9-8e5d-b29c9cb75a1b",
   "metadata": {},
   "outputs": [],
   "source": []
  },
  {
   "cell_type": "code",
   "execution_count": null,
   "id": "4a8ce751-4b1f-482d-affd-81a73d1cbeda",
   "metadata": {},
   "outputs": [],
   "source": []
  },
  {
   "cell_type": "code",
   "execution_count": null,
   "id": "9bff815e-bfec-4ef2-944a-260267143c9f",
   "metadata": {},
   "outputs": [],
   "source": [
    "sc_df.drop(['Sample_Tag', 'class_name'], axis=1)"
   ]
  },
  {
   "cell_type": "code",
   "execution_count": null,
   "id": "492000e2-a290-4148-83a0-cfebf9afb37e",
   "metadata": {},
   "outputs": [],
   "source": []
  }
 ],
 "metadata": {
  "kernelspec": {
   "display_name": "Python 3 (ipykernel)",
   "language": "python",
   "name": "python3"
  },
  "language_info": {
   "codemirror_mode": {
    "name": "ipython",
    "version": 3
   },
   "file_extension": ".py",
   "mimetype": "text/x-python",
   "name": "python",
   "nbconvert_exporter": "python",
   "pygments_lexer": "ipython3",
   "version": "3.10.12"
  }
 },
 "nbformat": 4,
 "nbformat_minor": 5
}
