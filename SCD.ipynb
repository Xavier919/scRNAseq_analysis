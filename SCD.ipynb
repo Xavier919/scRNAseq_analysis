{
 "cells": [
  {
   "cell_type": "code",
   "execution_count": null,
   "id": "1f398bef-2b32-4ad1-8dca-dfb0741c260a",
   "metadata": {},
   "outputs": [],
   "source": [
    "import numpy as np\n",
    "import matplotlib.pyplot as plt\n",
    "from sklearn.decomposition import PCA\n",
    "import umap\n",
    "from sklearn.cluster import KMeans\n",
    "from matplotlib.lines import Line2D\n",
    "from scipy import stats\n",
    "from statsmodels.stats.multitest import multipletests"
   ]
  },
  {
   "cell_type": "code",
   "execution_count": null,
   "id": "d22d7ce9-2638-4921-a346-fbc26034d037",
   "metadata": {},
   "outputs": [],
   "source": [
    "import anndata\n",
    "import scanpy as sc\n",
    "import pandas as pd\n",
    "from scipy import sparse\n",
    "from modules.process_data import *\n",
    "from collections import Counter\n",
    "from matplotlib.ticker import PercentFormatter\n",
    "from modules.process_data import mapping1, mapping2\n",
    "from modules.utils import *"
   ]
  },
  {
   "cell_type": "code",
   "execution_count": null,
   "id": "87720e45-0c79-48cd-99bd-aa0f46723c45",
   "metadata": {},
   "outputs": [],
   "source": []
  },
  {
   "cell_type": "code",
   "execution_count": null,
   "id": "2e47a87f-02ed-4b15-80b9-3f992ec7cb01",
   "metadata": {},
   "outputs": [],
   "source": [
    "def visualize_umap(X, Y):\n",
    "    plt.figure(figsize=(10, 8))\n",
    "    unique_targets = np.unique(cell_type)\n",
    "    colors = plt.cm.jet(np.linspace(0, 1, len(unique_targets)))\n",
    "    markersize_scatter = 0.1  \n",
    "    markersize_legend = 10\n",
    "    for target, color in zip(unique_targets, colors):\n",
    "        indices = np.where(cell_type == target)\n",
    "        plt.scatter(X[indices, 0], X[indices, 1], color=color, label=target, s=markersize_scatter)\n",
    "    plt.xlabel('UMAP 1')\n",
    "    plt.ylabel('UMAP 2')\n",
    "    handles = [Line2D([0], [0], marker='o', color='w', markerfacecolor=color, markersize=markersize_legend, label=target)\n",
    "               for target, color in zip(unique_targets, colors)]\n",
    "    plt.legend(handles=handles, loc='center left', bbox_to_anchor=(1, 0.5))\n",
    "    plt.grid(True)\n",
    "    plt.show()\n",
    "\n",
    "def get_clustering(umap_result, kmeans_result):\n",
    "    plt.figure(figsize=(10, 8))\n",
    "    unique_labels = np.unique(kmeans_result)\n",
    "    colors = plt.cm.viridis(np.linspace(0, 1, len(unique_labels)))\n",
    "    for label, color in zip(unique_labels, colors):\n",
    "        indices = np.where(kmeans_result == label)\n",
    "        plt.scatter(umap_result[indices, 0], umap_result[indices, 1], color=color, label=f'Cluster {label}', s=0.1)\n",
    "    plt.xlabel('UMAP 1')\n",
    "    plt.ylabel('UMAP 2')\n",
    "    plt.grid(True)\n",
    "    handles = [Line2D([0], [0], marker='o', color='w', markerfacecolor=color, markersize=10, label=f'Cluster {label}')\n",
    "               for label, color in zip(unique_labels, colors)]\n",
    "    plt.legend(handles=handles, loc='center left', bbox_to_anchor=(1, 0.5))\n",
    "    plt.show()\n",
    "    \n",
    "def get_cluster_composition(kmeans_result, labels):\n",
    "    clusters = np.unique(kmeans_result)\n",
    "    cluster_composition = {}\n",
    "    for cluster in clusters:\n",
    "        indices = np.where(kmeans_result == cluster)[0]\n",
    "        cluster_labels = labels[indices]\n",
    "        counter = Counter(cluster_labels)\n",
    "        sorted_counter = dict(sorted(counter.items(), key=lambda item: item[1], reverse=True))\n",
    "        cluster_composition[cluster] = {y: count for y, count in sorted_counter.items()}\n",
    "    return cluster_composition\n",
    "    \n",
    "def plot_cluster_composition(cluster_composition):\n",
    "    cluster_labels = list(cluster_composition.keys())\n",
    "    all_sub_labels = sorted({sub_label for comp in cluster_composition.values() for sub_label in comp.keys()})\n",
    "    composition_matrix = np.zeros((len(cluster_labels), len(all_sub_labels)))\n",
    "    for i, cluster in enumerate(cluster_labels):\n",
    "        for j, sub_label in enumerate(all_sub_labels):\n",
    "            composition_matrix[i, j] = cluster_composition[cluster].get(sub_label, 0)\n",
    "    fig, ax = plt.subplots(figsize=(12, 8))\n",
    "    colors = plt.cm.jet(np.linspace(0, 1, len(all_sub_labels)))\n",
    "    bottom = np.zeros(len(cluster_labels))\n",
    "    for j, sub_label in enumerate(all_sub_labels):\n",
    "        ax.bar(cluster_labels, composition_matrix[:, j], bottom=bottom, color=colors[j], label=sub_label)\n",
    "        bottom += composition_matrix[:, j]\n",
    "    ax.set_xlabel('Clusters')\n",
    "    ax.set_ylabel('Cell count')\n",
    "    ax.set_title('Cluster Composition')\n",
    "    ax.legend(bbox_to_anchor=(1.05, 1), loc='upper left')\n",
    "    plt.xticks(cluster_labels)\n",
    "    plt.grid(True)\n",
    "    plt.show()\n",
    "\n",
    "def get_pie_chart(cluster_data, min_pct=1):\n",
    "    total = sum(cluster_data.values())\n",
    "    sorted_cluster_data = {k: v for k, v in sorted(cluster_data.items(), key=lambda item: item[1], reverse=True)}\n",
    "    top_labels, top_values, others_value = [], [], 0\n",
    "    for label, value in sorted_cluster_data.items():\n",
    "        percentage = (value / total) * 100\n",
    "        if percentage < min_pct:\n",
    "            others_value += value\n",
    "        else:\n",
    "            top_labels.append(label)\n",
    "            top_values.append(value)\n",
    "    if others_value > 0:\n",
    "        top_labels.append('Others')\n",
    "        top_values.append(others_value)\n",
    "    jet = plt.get_cmap('jet')\n",
    "    norm = plt.Normalize(0, len(top_labels))\n",
    "    colors = [jet(norm(i)) for i in range(len(top_labels))]\n",
    "    fig, ax = plt.subplots()\n",
    "    wedges, texts, autotexts = ax.pie(\n",
    "        top_values, labels=top_labels, autopct='%1.1f%%', colors=colors,\n",
    "        startangle=90, counterclock=False\n",
    "    )\n",
    "    plt.setp(autotexts, size=10, weight=\"bold\", color=\"white\")\n",
    "    plt.axis('equal')  \n",
    "    plt.show()"
   ]
  },
  {
   "cell_type": "code",
   "execution_count": null,
   "id": "b6b243d1-a02d-4b7c-9f2d-bc006e7f5efc",
   "metadata": {},
   "outputs": [],
   "source": [
    "def filter_cells_by_gene_counts(adata, min_genes=200, max_genes=6000):\n",
    "    nonzero_counts = (adata.X > 0).sum(axis=1)\n",
    "    cell_mask = (nonzero_counts >= min_genes) & (nonzero_counts <= max_genes)\n",
    "    filtered_adata = adata[cell_mask]\n",
    "    return filtered_adata\n",
    "\n",
    "def rm_high_mt(adata, threshold=0):\n",
    "    mito_genes = [gene for gene in adata.var_names if gene.startswith('mt-')]\n",
    "    total_counts = adata.X.sum(axis=1).A1 if isinstance(adata.X, np.matrix) else adata.X.sum(axis=1)\n",
    "    mito_counts = adata[:, mito_genes].X.sum(axis=1).A1 if isinstance(adata.X, np.matrix) else adata[:, mito_genes].X.sum(axis=1)\n",
    "    mito_percentage = mito_counts / total_counts\n",
    "    cells_to_keep = mito_percentage <= threshold\n",
    "    return adata[cells_to_keep, :]"
   ]
  },
  {
   "cell_type": "code",
   "execution_count": null,
   "id": "ad588159-56da-44ac-963b-f2acd9825e1c",
   "metadata": {},
   "outputs": [],
   "source": []
  },
  {
   "cell_type": "code",
   "execution_count": null,
   "id": "fa1fab77-f034-405e-ace8-ee72b79bcd16",
   "metadata": {},
   "outputs": [],
   "source": [
    "mapping = {'Multiplet': 'Multiplet',\n",
    "           'SampleTag17_flex': 'WT-DMSO',\n",
    "           'SampleTag18_flex': '3xTg-DMSO',\n",
    "           'SampleTag19_flex': 'WT-SCDi',\n",
    "           'SampleTag20_flex': '3xTg-SCDi',\n",
    "           'Undetermined': 'Undetermined'}"
   ]
  },
  {
   "cell_type": "code",
   "execution_count": null,
   "id": "3a6fcd9d-6308-42c1-b48a-a4a30d74d1c1",
   "metadata": {},
   "outputs": [],
   "source": [
    "#load sc data\n",
    "adata = anndata.read_h5ad(\"data/fede_count.h5ad\")"
   ]
  },
  {
   "cell_type": "code",
   "execution_count": null,
   "id": "a6746466-a1bb-45a2-96f1-8b25e817a63d",
   "metadata": {},
   "outputs": [],
   "source": [
    "#data cleaning\n",
    "adata = rm_high_mt(adata, threshold=0.6)\n",
    "adata = filter_cells_by_gene_counts(adata)"
   ]
  },
  {
   "cell_type": "code",
   "execution_count": null,
   "id": "df9c07fc-e974-4d74-b4f0-58c887fea94a",
   "metadata": {},
   "outputs": [],
   "source": [
    "mt_genes = adata.var_names.str.startswith('mt-')\n",
    "adata.X[:, mt_genes] = 0"
   ]
  },
  {
   "cell_type": "code",
   "execution_count": null,
   "id": "4944fda8-b5db-4dd2-a632-829909dcb450",
   "metadata": {},
   "outputs": [],
   "source": [
    "#normalize, log and scale data\n",
    "sc.pp.normalize_total(adata, target_sum=1)\n",
    "sc.pp.log1p(adata)\n",
    "#sc.pp.scale(adata)"
   ]
  },
  {
   "cell_type": "code",
   "execution_count": null,
   "id": "ac01259a-e390-4759-89c8-9f80323262ac",
   "metadata": {},
   "outputs": [],
   "source": [
    "#load annotation data\n",
    "anno_df = pd.read_csv(\"data/fede_mapping.csv\", skiprows=4)\n",
    "anno_df = anno_df.set_index('cell_id')[['class_name']]\n",
    "anno_df.index = anno_df.index.astype('int64')"
   ]
  },
  {
   "cell_type": "code",
   "execution_count": null,
   "id": "fab0cb80-ea6b-4e12-9acd-ee15f50766ce",
   "metadata": {},
   "outputs": [],
   "source": [
    "#Create df with metadata - sample_tag and cell type\n",
    "sample_tags = pd.DataFrame(adata.obs.Sample_Tag)\n",
    "sample_tags.index = sample_tags.index.astype('int64')\n",
    "sample_tags = pd.DataFrame(sample_tags['Sample_Tag'].map(mapping))\n",
    "sc_df = pd.DataFrame(adata.X.toarray() if hasattr(adata.X, 'toarray') else adata.X, index=adata.obs_names, columns=adata.var_names)\n",
    "sc_df.index = sc_df.index.astype('int64')\n",
    "sc_df = sc_df.join(sample_tags)\n",
    "sc_df = sc_df.join(anno_df)"
   ]
  },
  {
   "cell_type": "code",
   "execution_count": null,
   "id": "53d5b240-c675-4a51-80bc-5bf2fe5bcab2",
   "metadata": {},
   "outputs": [],
   "source": [
    "#remove cell with sample tags \"multiplet\" or \"undetermined\"\n",
    "sc_df = sc_df[~sc_df['Sample_Tag'].isin(['Multiplet', 'Undetermined'])]"
   ]
  },
  {
   "cell_type": "code",
   "execution_count": null,
   "id": "a25af091-fc61-4c15-9dcb-0a1cbce82bfa",
   "metadata": {},
   "outputs": [],
   "source": [
    "#keep only a specific cell type\n",
    "#sc_df = sc_df[sc_df[\"class_name\"] == \"30 Astro-Epen\"]"
   ]
  },
  {
   "cell_type": "code",
   "execution_count": null,
   "id": "9bff815e-bfec-4ef2-944a-260267143c9f",
   "metadata": {},
   "outputs": [],
   "source": [
    "#split cell type, pheno and gene_expression \n",
    "X = sc_df.drop(['Sample_Tag', 'class_name'], axis=1).values\n",
    "cell_pheno = sc_df['Sample_Tag'].values\n",
    "cell_type = sc_df['class_name'].values"
   ]
  },
  {
   "cell_type": "code",
   "execution_count": null,
   "id": "8120b142-75fb-425f-b933-3c1c3bde0f42",
   "metadata": {},
   "outputs": [],
   "source": []
  },
  {
   "cell_type": "code",
   "execution_count": null,
   "id": "256a651b-e770-4892-8cea-642d57594abb",
   "metadata": {},
   "outputs": [],
   "source": [
    "#PCA dim. reduction\n",
    "pca = PCA(n_components=10, random_state=42)\n",
    "pca_result = pca.fit_transform(X)"
   ]
  },
  {
   "cell_type": "code",
   "execution_count": null,
   "id": "b5a74cc6-d817-4f6d-8525-7fdbe2a160df",
   "metadata": {},
   "outputs": [],
   "source": [
    "#UMAP dim. reduction\n",
    "reducer = UMAP(n_neighbors=100, n_components=2, random_state=42)\n",
    "umap_result = reducer.fit_transform(pca_result)"
   ]
  },
  {
   "cell_type": "code",
   "execution_count": null,
   "id": "9b8f3e4f-6c10-4696-8be7-90e7fadc939e",
   "metadata": {},
   "outputs": [],
   "source": [
    "#KMEANS clustering\n",
    "kmeans = KMeans(n_clusters=5, random_state=42)\n",
    "kmeans_result = kmeans.fit_predict(umap_result)"
   ]
  },
  {
   "cell_type": "code",
   "execution_count": null,
   "id": "7c9bb20b-5e2b-44ae-a076-911a29f50d84",
   "metadata": {},
   "outputs": [],
   "source": []
  },
  {
   "cell_type": "code",
   "execution_count": null,
   "id": "e79b99a2-bd16-4fb3-bd2f-e849880b8652",
   "metadata": {
    "scrolled": true
   },
   "outputs": [],
   "source": [
    "visualize_umap(umap_result, cell_type)"
   ]
  },
  {
   "cell_type": "code",
   "execution_count": null,
   "id": "aa583cd7-7905-423c-8212-e80c1c3c738e",
   "metadata": {},
   "outputs": [],
   "source": []
  },
  {
   "cell_type": "code",
   "execution_count": null,
   "id": "cc492db0-a4fb-4a67-b92f-bc39114e5260",
   "metadata": {},
   "outputs": [],
   "source": [
    "get_clustering(umap_result, kmeans_result)"
   ]
  },
  {
   "cell_type": "code",
   "execution_count": null,
   "id": "95348680-862e-42c6-9d39-70715af4ab50",
   "metadata": {},
   "outputs": [],
   "source": []
  },
  {
   "cell_type": "code",
   "execution_count": null,
   "id": "cfff2868-4b62-4c0d-9dbf-efa91ba02979",
   "metadata": {},
   "outputs": [],
   "source": [
    "cluster_composition = get_cluster_composition(kmeans_result, cell_type)"
   ]
  },
  {
   "cell_type": "code",
   "execution_count": null,
   "id": "fab82d90-fc50-4e33-99f3-c466277fefd7",
   "metadata": {},
   "outputs": [],
   "source": [
    "get_pie_chart(cluster_composition[1], min_pct=5)"
   ]
  },
  {
   "cell_type": "code",
   "execution_count": null,
   "id": "8faa0742-db36-4673-a2e8-4527444e4090",
   "metadata": {},
   "outputs": [],
   "source": []
  },
  {
   "cell_type": "code",
   "execution_count": null,
   "id": "2f1c3733-1451-47f8-b526-10ad2d89db86",
   "metadata": {},
   "outputs": [],
   "source": []
  },
  {
   "cell_type": "code",
   "execution_count": null,
   "id": "47e879d5-fc81-4b65-9020-21c78afd59bc",
   "metadata": {},
   "outputs": [],
   "source": [
    "wt_dmso = sc_df[sc_df['Sample_Tag'] == 'WT-DMSO'].drop(['class_name', 'Sample_Tag'], axis=1)"
   ]
  },
  {
   "cell_type": "code",
   "execution_count": null,
   "id": "3980fadc-3e49-42d5-bc7d-f9047f9b25c3",
   "metadata": {},
   "outputs": [],
   "source": [
    "tg_dmso = sc_df[sc_df['Sample_Tag'] == '3xTg-DMSO'].drop(['class_name', 'Sample_Tag'], axis=1)"
   ]
  },
  {
   "cell_type": "code",
   "execution_count": null,
   "id": "9ca05c8b-2d36-474b-bce8-32ba6e0f98d3",
   "metadata": {},
   "outputs": [],
   "source": []
  },
  {
   "cell_type": "code",
   "execution_count": null,
   "id": "d649a740-8a91-41d0-9654-abf75946f283",
   "metadata": {},
   "outputs": [],
   "source": [
    "# Combine the data into a single DataFrame\n",
    "combined_data = pd.concat([wt_dmso, tg_dmso], axis=0)\n",
    "labels = ['wt'] * wt_dmso.shape[0] + ['tg'] * tg_dmso.shape[0]\n",
    "\n",
    "# Create AnnData object\n",
    "adata = sc.AnnData(combined_data)\n",
    "adata.obs['condition'] = labels\n",
    "\n",
    "# Identify highly variable genes\n",
    "sc.pp.highly_variable_genes(adata, n_top_genes=3000)\n",
    "\n",
    "# Handle potential NaNs or infinite values\n",
    "adata.raw = adata  # Save the raw data before filtering\n",
    "adata = adata[:, adata.var['highly_variable']]\n",
    "\n",
    "# Perform differential expression analysis\n",
    "sc.tl.rank_genes_groups(adata, groupby='condition', method='t-test')\n",
    "\n",
    "# Extract results and ensure proper numerical values\n",
    "degs = adata.uns['rank_genes_groups']\n",
    "pvals = degs['pvals']['tg']  # Extract p-values for the 'tg' group\n",
    "logfoldchanges = degs['logfoldchanges']['tg']  # Extract log fold changes for the 'tg' group\n",
    "genes = degs['names']['tg']  # Extract gene names for the 'tg' group\n",
    "\n",
    "# Adjust p-values for multiple testing using the Benjamini-Hochberg procedure\n",
    "adjusted_pvals = multipletests(pvals, method='fdr_bh')[1]"
   ]
  },
  {
   "cell_type": "code",
   "execution_count": null,
   "id": "825da28d-da31-4610-8ead-1c35b7eff524",
   "metadata": {},
   "outputs": [],
   "source": []
  },
  {
   "cell_type": "code",
   "execution_count": null,
   "id": "561a65a5-f0f5-470f-ad65-9618d40a577a",
   "metadata": {},
   "outputs": [],
   "source": [
    "# Create a DataFrame for plotting\n",
    "volcano_data = pd.DataFrame({\n",
    "    'gene': genes,\n",
    "    'log2_fold_change': logfoldchanges,\n",
    "    'p_value': pvals,\n",
    "    'adjusted_p_value': adjusted_pvals\n",
    "})\n",
    "\n",
    "# Calculate -log10(p-value)\n",
    "volcano_data['-log10_p_value'] = -np.log10(volcano_data['adjusted_p_value'])\n",
    "\n",
    "# Plot the volcano plot\n",
    "plt.figure(figsize=(10, 8))\n",
    "\n",
    "# Plot non-significant points in gray\n",
    "plt.scatter(volcano_data['log2_fold_change'], volcano_data['-log10_p_value'], c='black', alpha=0.5, s=10)\n",
    "\n",
    "# Highlight significant genes\n",
    "significant = volcano_data['adjusted_p_value'] < 0.01\n",
    "\n",
    "# Plot significant points: red for positive log2 fold change, blue for negative\n",
    "plt.scatter(volcano_data.loc[significant & (volcano_data['log2_fold_change'] > 0), 'log2_fold_change'],\n",
    "            volcano_data.loc[significant & (volcano_data['log2_fold_change'] > 0), '-log10_p_value'],\n",
    "            c='red', s=10)\n",
    "\n",
    "plt.scatter(volcano_data.loc[significant & (volcano_data['log2_fold_change'] < 0), 'log2_fold_change'],\n",
    "            volcano_data.loc[significant & (volcano_data['log2_fold_change'] < 0), '-log10_p_value'],\n",
    "            c='blue', s=10)\n",
    "\n",
    "# Calculate the number of significant DEGs\n",
    "upregulated = significant & (volcano_data['log2_fold_change'] > 0)\n",
    "downregulated = significant & (volcano_data['log2_fold_change'] < 0)\n",
    "num_upregulated = upregulated.sum()\n",
    "num_downregulated = downregulated.sum()\n",
    "\n",
    "# Annotate the number of DEGs\n",
    "plt.text(-14, max(volcano_data['-log10_p_value']) - 1, f'{num_downregulated} DEGs', color='blue', fontsize=12)\n",
    "plt.text(14, max(volcano_data['-log10_p_value']) - 1, f'{num_upregulated} DEGs', color='red', fontsize=12, horizontalalignment='right')\n",
    "\n",
    "# Annotate some top genes\n",
    "top_genes = volcano_data[significant].nlargest(10, '-log10_p_value')\n",
    "for i, row in top_genes.iterrows():\n",
    "    plt.text(row['log2_fold_change'], row['-log10_p_value'], row['gene'], fontsize=8)\n",
    "\n",
    "plt.xlabel('Log2 Fold Change')\n",
    "plt.ylabel('-Log10 Adjusted P-value')\n",
    "plt.title('Volcano plot (wt_dmso vs tg_dmso DEGs)')\n",
    "plt.show()"
   ]
  },
  {
   "cell_type": "code",
   "execution_count": null,
   "id": "64a6c529-14e2-4fc2-9cef-ffae96f168d0",
   "metadata": {},
   "outputs": [],
   "source": []
  },
  {
   "cell_type": "code",
   "execution_count": null,
   "id": "61ea526e-4033-4a11-8af0-5fb3e2ce6456",
   "metadata": {},
   "outputs": [],
   "source": []
  },
  {
   "cell_type": "code",
   "execution_count": null,
   "id": "29b74fb9-7181-4757-9182-299783be6961",
   "metadata": {},
   "outputs": [],
   "source": []
  },
  {
   "cell_type": "code",
   "execution_count": 2,
   "id": "f8468bc9-a57c-4512-be4f-344cb4cdeecd",
   "metadata": {},
   "outputs": [
    {
     "data": {
      "image/png": "[encoded data removed]",
      "text/plain": [
       "<Figure size 1000x800 with 4 Axes>"
      ]
     },
     "metadata": {},
     "output_type": "display_data"
    }
   ],
   "source": [
    "import scanpy as sc\n",
    "import matplotlib.pyplot as plt\n",
    "import seaborn as sns\n",
    "import pandas as pd\n",
    "import numpy as np\n",
    "\n",
    "# Create a toy dataset\n",
    "np.random.seed(0)\n",
    "n_genes = 100\n",
    "n_cells = 100\n",
    "genes = [f'Gene{i}' for i in range(1, n_genes + 1)]\n",
    "conditions = ['WT-DMSO', '3xTg-DMSO']\n",
    "\n",
    "# Generate random expression data\n",
    "data = np.random.rand(n_cells, n_genes)\n",
    "cell_conditions = np.random.choice(conditions, n_cells)\n",
    "\n",
    "# Create an AnnData object\n",
    "adata = sc.AnnData(X=data, obs={'condition': cell_conditions}, var=pd.DataFrame(index=genes))\n",
    "\n",
    "# Select some top genes (in this case, all genes)\n",
    "top_genes = pd.DataFrame({'gene': genes})\n",
    "\n",
    "# Subset the data to the top genes\n",
    "markers = top_genes['gene'].values\n",
    "adata_subset = adata[:, markers]\n",
    "\n",
    "# Average expression per condition\n",
    "mean_expression = adata_subset.to_df().groupby(adata_subset.obs['condition']).mean()\n",
    "\n",
    "# Transpose the dataframe to have genes as rows and conditions as columns\n",
    "heatmap_data = mean_expression.T\n",
    "\n",
    "# Create a color palette for the conditions\n",
    "condition_colors = {\n",
    "    'WT-DMSO': 'black',  \n",
    "    '3xTg-DMSO': 'black',  \n",
    "}\n",
    "\n",
    "# Create a color palette list for conditions\n",
    "condition_palette = [condition_colors[condition] for condition in heatmap_data.columns]\n",
    "\n",
    "# Generate a clustermap without the condition dendrogram\n",
    "sns.set(context='notebook', font_scale=1.2)\n",
    "cg = sns.clustermap(\n",
    "    heatmap_data,\n",
    "    cmap='coolwarm',\n",
    "    linewidths=.5,\n",
    "    figsize=(10, 8),\n",
    "    #col_colors=condition_palette,\n",
    "    row_cluster=True,  # Cluster rows (genes)\n",
    "    col_cluster=False  # Do not cluster columns (conditions)\n",
    ")\n",
    "\n",
    "# Customize the condition colors (color bar)\n",
    "for tick_label, tick_color in zip(cg.ax_heatmap.get_xticklabels(), condition_palette):\n",
    "    tick_label.set_color(tick_color)\n",
    "\n",
    "# Hide the gene names on the right\n",
    "cg.ax_heatmap.set_yticklabels([])\n",
    "\n",
    "# Move the color legend to the right\n",
    "cg.cax.set_position([1, .2, .03, .45])\n",
    "\n",
    "# Show the plot\n",
    "plt.show()\n"
   ]
  },
  {
   "cell_type": "code",
   "execution_count": null,
   "id": "e7f490bb-7fa6-4855-bedb-b445da644f5e",
   "metadata": {},
   "outputs": [],
   "source": []
  },
  {
   "cell_type": "code",
   "execution_count": 18,
   "id": "92aa4e63-e13d-4f8f-a6b5-b6d80819c471",
   "metadata": {},
   "outputs": [
    {
     "data": {
      "image/png": "[encoded data removed]",
      "text/plain": [
       "<Figure size 1000x800 with 4 Axes>"
      ]
     },
     "metadata": {},
     "output_type": "display_data"
    }
   ],
   "source": [
    "import scanpy as sc\n",
    "import matplotlib.pyplot as plt\n",
    "import seaborn as sns\n",
    "import pandas as pd\n",
    "import numpy as np\n",
    "\n",
    "# Create a toy dataset\n",
    "np.random.seed(0)\n",
    "n_genes = 250\n",
    "n_cells = 1000\n",
    "genes = [f'Gene{i}' for i in range(1, n_genes + 1)]\n",
    "conditions = ['WT-DMSO', '3xTg-DMSO']\n",
    "\n",
    "# Generate random expression data\n",
    "data = np.random.rand(n_cells, n_genes)\n",
    "cell_conditions = np.random.choice(conditions, n_cells)\n",
    "\n",
    "# Create an AnnData object\n",
    "adata = sc.AnnData(X=data, obs={'condition': cell_conditions}, var=pd.DataFrame(index=genes))\n",
    "\n",
    "# Select some top genes (in this case, all genes)\n",
    "top_genes = pd.DataFrame({'gene': genes})\n",
    "\n",
    "# Subset the data to the top genes\n",
    "markers = top_genes['gene'].values\n",
    "adata_subset = adata[:, markers]\n",
    "\n",
    "# Average expression per condition\n",
    "mean_expression = adata_subset.to_df().groupby(adata_subset.obs['condition']).mean()\n",
    "\n",
    "# Transpose the dataframe to have genes as rows and conditions as columns\n",
    "heatmap_data = mean_expression.T\n",
    "\n",
    "# Create a color palette for the conditions\n",
    "condition_colors = {\n",
    "    'WT-DMSO': 'black',  \n",
    "    '3xTg-DMSO': 'black',  \n",
    "}\n",
    "\n",
    "# Create a color palette list for conditions\n",
    "condition_palette = [condition_colors[condition] for condition in heatmap_data.columns]\n",
    "\n",
    "# Generate a clustermap without the condition dendrogram\n",
    "sns.set(context='notebook', font_scale=1.2)\n",
    "cg = sns.clustermap(\n",
    "    heatmap_data,\n",
    "    cmap='coolwarm',\n",
    "    linewidths=.5,\n",
    "    figsize=(10, 8),\n",
    "    row_cluster=True,  # Cluster rows (genes)\n",
    "    col_cluster=False  # Do not cluster columns (conditions)\n",
    ")\n",
    "\n",
    "# Customize the condition colors (color bar)\n",
    "for tick_label, tick_color in zip(cg.ax_heatmap.get_xticklabels(), condition_palette):\n",
    "    tick_label.set_color(tick_color)\n",
    "\n",
    "# Hide the gene names on the right\n",
    "cg.ax_heatmap.set_yticklabels([])\n",
    "\n",
    "# Move the color legend to the right\n",
    "cg.cax.set_position([1, .2, .03, .45])\n",
    "\n",
    "# Move the column labels to the top and center them\n",
    "cg.ax_heatmap.xaxis.set_label_position('top')\n",
    "cg.ax_heatmap.xaxis.tick_top()\n",
    "\n",
    "# Center the x-tick labels\n",
    "for tick in cg.ax_heatmap.get_xticklabels():\n",
    "    tick.set_ha('center')\n",
    "\n",
    "# Remove the 'Condition' word\n",
    "cg.ax_heatmap.set_xlabel('')\n",
    "cg.ax_heatmap.set_xticklabels(cg.ax_heatmap.get_xticklabels(), rotation=0)\n",
    "\n",
    "#plt.ylabel('')\n",
    "\n",
    "# Show the plot\n",
    "plt.show()\n"
   ]
  },
  {
   "cell_type": "code",
   "execution_count": null,
   "id": "4a6cbb85-e7e1-4fce-9b0f-874f4917a918",
   "metadata": {},
   "outputs": [],
   "source": []
  }
 ],
 "metadata": {
  "kernelspec": {
   "display_name": "Python 3 (ipykernel)",
   "language": "python",
   "name": "python3"
  },
  "language_info": {
   "codemirror_mode": {
    "name": "ipython",
    "version": 3
   },
   "file_extension": ".py",
   "mimetype": "text/x-python",
   "name": "python",
   "nbconvert_exporter": "python",
   "pygments_lexer": "ipython3",
   "version": "3.10.12"
  }
 },
 "nbformat": 4,
 "nbformat_minor": 5
}
