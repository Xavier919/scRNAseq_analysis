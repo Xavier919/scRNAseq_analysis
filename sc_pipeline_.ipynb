{
 "cells": [
  {
   "cell_type": "markdown",
   "id": "cba0c715-cc6f-4334-8806-7f2d9ff1dd05",
   "metadata": {},
   "source": [
    "# Packages"
   ]
  },
  {
   "cell_type": "code",
   "execution_count": null,
   "id": "76f8e864",
   "metadata": {
    "scrolled": true
   },
   "outputs": [],
   "source": [
    "import pandas as pd\n",
    "import numpy as np\n",
    "import scanpy as sc\n",
    "import matplotlib.pyplot as plt\n",
    "import harmonypy as hm\n",
    "from modules.visualize import *\n",
    "from modules.deg_analysis import *\n",
    "import seaborn as sns\n",
    "from collections import Counter\n",
    "from MCML.modules import MCML, bMCML"
   ]
  },
  {
   "cell_type": "code",
   "execution_count": null,
   "id": "4c7e2e67-8c1d-4b20-958c-15374c3dbfe9",
   "metadata": {},
   "outputs": [],
   "source": []
  },
  {
   "cell_type": "markdown",
   "id": "516ce7f9-f306-4e22-9ecc-39109be533e3",
   "metadata": {},
   "source": [
    "# Import dataset and annotation"
   ]
  },
  {
   "cell_type": "code",
   "execution_count": null,
   "id": "f3224e5c-282b-4033-83e1-a3c06e2bb8bb",
   "metadata": {},
   "outputs": [],
   "source": [
    "sample_tag_mapping = {'SampleTag17_flex':'WT-DMSO',\n",
    "                      'SampleTag18_flex':'3xTg-DMSO',\n",
    "                      'SampleTag19_flex':'WT-SCDi',\n",
    "                      'SampleTag20_flex':'3xTg-SCDi',\n",
    "                      'Undetermined':'Undetermined',\n",
    "                      'Multiplet':'Multiplet'}\n",
    "adata = anndata.read_h5ad(\"data/fede_count.h5ad\")\n",
    "adata.obs['Sample_Tag'] = adata.obs['Sample_Tag'].map(sample_tag_mapping)\n",
    "anno_df = pd.read_csv(\"data/fede_mapping.csv\", skiprows=4)"
   ]
  },
  {
   "cell_type": "code",
   "execution_count": null,
   "id": "035ee3aa-8cf9-48c0-8da9-935178ae1974",
   "metadata": {
    "scrolled": true
   },
   "outputs": [],
   "source": [
    "# adata1 = anndata.read_h5ad(\"data/A_count.h5ad\")\n",
    "# adata1.obs['Sample_Tag'] = 'LD_5xFAD'\n",
    "# adata2 = anndata.read_h5ad(\"data/B_count.h5ad\")\n",
    "# adata2.obs['Sample_Tag'] = \"LD_NC\"\n",
    "# adata3 = anndata.read_h5ad(\"data/C_count.h5ad\")\n",
    "# adata3.obs['Sample_Tag'] = \"run_5xFAD\"\n",
    "# adata4 = anndata.read_h5ad(\"data/D_count.h5ad\")\n",
    "# adata4.obs['Sample_Tag'] = \"run_NC\"\n",
    "# adata = anndata.concat([adata1, adata2, adata3, adata4], axis=0)\n",
    "\n",
    "# anno_df1 = pd.read_csv(\"data/A_mapping.csv\", skiprows=4)\n",
    "# anno_df2 = pd.read_csv(\"data/B_mapping.csv\", skiprows=4)\n",
    "# anno_df3 = pd.read_csv(\"data/C_mapping.csv\", skiprows=4)\n",
    "# anno_df4 = pd.read_csv(\"data/D_mapping.csv\", skiprows=4)\n",
    "# anno_df = pd.concat([anno_df1, anno_df2, anno_df3, anno_df4])"
   ]
  },
  {
   "cell_type": "code",
   "execution_count": null,
   "id": "ad604e42-b71f-422a-99c0-d9e551e57376",
   "metadata": {},
   "outputs": [],
   "source": [
    "adata = annotate_adata(adata, anno_df)"
   ]
  },
  {
   "cell_type": "code",
   "execution_count": null,
   "id": "5ba2de8d-96c5-4142-ae95-96e41faa07fb",
   "metadata": {},
   "outputs": [],
   "source": []
  },
  {
   "cell_type": "markdown",
   "id": "d35515d1-0ee0-4e4d-af2c-3c7947bfc970",
   "metadata": {},
   "source": [
    "# Data preprocessing"
   ]
  },
  {
   "cell_type": "code",
   "execution_count": null,
   "id": "01403daa-f2bc-4a7b-9ccc-5604b79de890",
   "metadata": {},
   "outputs": [],
   "source": [
    "sc.pp.filter_cells(adata, min_genes=150)\n",
    "sc.pp.filter_genes(adata, min_cells=3)"
   ]
  },
  {
   "cell_type": "code",
   "execution_count": null,
   "id": "c5c21288-7733-4237-ae78-3f18eb72268e",
   "metadata": {},
   "outputs": [],
   "source": []
  },
  {
   "cell_type": "code",
   "execution_count": null,
   "id": "a607698a-444e-4719-8632-37572731119f",
   "metadata": {
    "scrolled": true
   },
   "outputs": [],
   "source": [
    "adata.var['mt'] = adata.var_names.str.startswith('mt-')\n",
    "sc.pp.calculate_qc_metrics(adata, qc_vars=['mt'], percent_top=None, log1p=False, inplace=True)\n",
    "adata.obs['high_mt'] = adata.obs['pct_counts_mt'] > 50"
   ]
  },
  {
   "cell_type": "code",
   "execution_count": null,
   "id": "8dd45f2b-922d-46c8-a8bb-af96def8d33b",
   "metadata": {
    "scrolled": true
   },
   "outputs": [],
   "source": [
    "sc.pl.violin(adata, ['n_genes_by_counts', 'total_counts', 'pct_counts_mt'], jitter=0.4, multi_panel=True, save='violin.png')"
   ]
  },
  {
   "cell_type": "code",
   "execution_count": null,
   "id": "3eae1eaa-44c4-4339-8210-d2391f2417f8",
   "metadata": {
    "scrolled": true
   },
   "outputs": [],
   "source": [
    "adata = adata[~adata.obs['high_mt'], :]"
   ]
  },
  {
   "cell_type": "code",
   "execution_count": null,
   "id": "aa4acca7-808d-4e48-92f8-ed5d60b925ce",
   "metadata": {},
   "outputs": [],
   "source": [
    "adata = adata[adata.obs['Sample_Tag'] != \"Multiplet\", :]"
   ]
  },
  {
   "cell_type": "code",
   "execution_count": null,
   "id": "82791476-bdcd-4399-88b7-bdda2301315f",
   "metadata": {},
   "outputs": [],
   "source": [
    "#adata = adata[:, ~adata.var['mt']]"
   ]
  },
  {
   "cell_type": "code",
   "execution_count": null,
   "id": "e1b0179f-0d6f-4219-8b3c-d4c9cc81bafa",
   "metadata": {},
   "outputs": [],
   "source": []
  },
  {
   "cell_type": "markdown",
   "id": "403226c8-fe5c-447b-add9-dddca5725b91",
   "metadata": {},
   "source": [
    "# Select adata object to use for analysis"
   ]
  },
  {
   "cell_type": "code",
   "execution_count": null,
   "id": "a01574f5-261b-4cbc-9244-91bfc232f807",
   "metadata": {},
   "outputs": [],
   "source": [
    "#file_path = 'data/filtered_adata.h5ad'\n",
    "#adata = anndata.read_h5ad(file_path)"
   ]
  },
  {
   "cell_type": "code",
   "execution_count": null,
   "id": "5e553bc5-7978-4ac1-a7f0-3359cc0a79bd",
   "metadata": {},
   "outputs": [],
   "source": [
    "adata.raw = adata"
   ]
  },
  {
   "cell_type": "code",
   "execution_count": null,
   "id": "a8d840eb-87fa-4fb8-8369-3334643864ea",
   "metadata": {},
   "outputs": [],
   "source": [
    "sc.pp.normalize_total(adata)\n",
    "#sc.pp.log1p(adata)\n",
    "#sc.pp.highly_variable_genes(adata, n_top_genes=2000, subset=True)\n",
    "#sc.pp.scale(adata)"
   ]
  },
  {
   "cell_type": "code",
   "execution_count": null,
   "id": "ee6db562-2817-4de4-8207-35feaec58f87",
   "metadata": {},
   "outputs": [],
   "source": []
  },
  {
   "cell_type": "markdown",
   "id": "ad23249e-b185-4d90-9560-fec937dd2758",
   "metadata": {},
   "source": [
    "# Dimensionality reduction"
   ]
  },
  {
   "cell_type": "code",
   "execution_count": null,
   "id": "22e7eea9-c992-482f-8913-428880e615b0",
   "metadata": {
    "scrolled": true
   },
   "outputs": [],
   "source": [
    "#elbow_plot(adata, save_path='figures/elbow_plot.png')"
   ]
  },
  {
   "cell_type": "code",
   "execution_count": null,
   "id": "4ecb40e0-e673-4683-890a-19750c6da90c",
   "metadata": {
    "scrolled": true
   },
   "outputs": [],
   "source": [
    "#dimension_heatmap(adata, n_components=20, n_cells=500, save_path='figures/dimension_heatmap.png')"
   ]
  },
  {
   "cell_type": "code",
   "execution_count": null,
   "id": "c224eea3-567d-4e4a-955d-48a1d8f087a9",
   "metadata": {
    "scrolled": true
   },
   "outputs": [],
   "source": [
    "#sc.tl.pca(adata, n_comps=10)"
   ]
  },
  {
   "cell_type": "code",
   "execution_count": null,
   "id": "0a719b8c-5ea8-44c6-92ae-913550034fc6",
   "metadata": {},
   "outputs": [],
   "source": []
  },
  {
   "cell_type": "code",
   "execution_count": null,
   "id": "72543c16-4b62-415d-963f-15f16f9ff06c",
   "metadata": {},
   "outputs": [],
   "source": [
    "mcml = MCML(n_latent = 50, epochs = 100) \n",
    "class_name = adata.obs['class_name'].values.tolist()\n",
    "#sample_tag = adata.obs['Sample_Tag'].values.tolist()\n",
    "latentMCML = mcml.fit(adata.X.toarray(), np.array([class_name]) , fracNCA = 0.8 , silent = True)\n",
    "mcml.plotLosses(figsize=(10,3),axisFontSize=10,tickFontSize=8)\n",
    "adata.obsm['latents'] = latentMCML"
   ]
  },
  {
   "cell_type": "markdown",
   "id": "d2ff4d28-06b8-437b-b37d-9827b27255f9",
   "metadata": {},
   "source": [
    "# Batch correction"
   ]
  },
  {
   "cell_type": "code",
   "execution_count": null,
   "id": "a52881ec-e969-4d16-a3ed-25eaefdd84c0",
   "metadata": {},
   "outputs": [],
   "source": [
    "#harmony_out = hm.run_harmony(adata.obsm['X_pca'], adata.obs, 'Sample_Tag')\n",
    "#adata.obsm['X_pca_harmony'] = harmony_out.Z_corr.T"
   ]
  },
  {
   "cell_type": "code",
   "execution_count": null,
   "id": "6430828b-4035-4710-a55d-271f0c7c9020",
   "metadata": {},
   "outputs": [],
   "source": [
    "harmony_out = hm.run_harmony(adata.obsm['latents'], adata.obs, 'Sample_Tag')\n",
    "adata.obsm['latents_harmony'] = harmony_out.Z_corr.T"
   ]
  },
  {
   "cell_type": "code",
   "execution_count": null,
   "id": "b5b7bf0a-c98e-413a-9fbb-d1c4b16cef8a",
   "metadata": {},
   "outputs": [],
   "source": []
  },
  {
   "cell_type": "markdown",
   "id": "4eee8305-25d5-433b-ad03-5385430f95c0",
   "metadata": {},
   "source": [
    "# Clustering"
   ]
  },
  {
   "cell_type": "code",
   "execution_count": null,
   "id": "cda31f88-bf35-4a7f-b5e4-0bea1fdfda47",
   "metadata": {
    "scrolled": true
   },
   "outputs": [],
   "source": [
    "sc.pp.neighbors(adata, use_rep='latents_harmony', n_pcs=50)\n",
    "sc.tl.leiden(adata, resolution=0.25)"
   ]
  },
  {
   "cell_type": "markdown",
   "id": "5c668286-395b-43f4-bc7b-0702f4b0b8a0",
   "metadata": {},
   "source": [
    "# Visualization"
   ]
  },
  {
   "cell_type": "code",
   "execution_count": null,
   "id": "b3cdd1fd-c09f-4184-904c-458a0207a1ff",
   "metadata": {
    "scrolled": true
   },
   "outputs": [],
   "source": [
    "sc.tl.umap(adata)"
   ]
  },
  {
   "cell_type": "code",
   "execution_count": null,
   "id": "d04cdc0c-0ad6-4999-9f47-118b29e8ebe9",
   "metadata": {
    "scrolled": true
   },
   "outputs": [],
   "source": [
    "sc.pl.umap(adata, color=['leiden'], save='_leiden.png')\n",
    "sc.pl.umap(adata, color=['Sample_Tag'], save='_sample_tag.png')\n",
    "sc.pl.umap(adata, color=['high_mt'], save='_high_mt.png')"
   ]
  },
  {
   "cell_type": "markdown",
   "id": "32bb2baa-872e-42cc-a220-4b2d1894491e",
   "metadata": {},
   "source": [
    "# Cluster annotation"
   ]
  },
  {
   "cell_type": "code",
   "execution_count": null,
   "id": "73c76f7d-4849-4b09-8c70-abd0994b8355",
   "metadata": {},
   "outputs": [],
   "source": [
    "assign_unique_cell_type_names(adata, cluster_key='leiden', cluster_types=['class_name', 'subclass_name'])"
   ]
  },
  {
   "cell_type": "markdown",
   "id": "a5ff777d-3a97-4f12-8ccd-8fb98b9ea20f",
   "metadata": {},
   "source": [
    "# Cluster visualization"
   ]
  },
  {
   "cell_type": "code",
   "execution_count": null,
   "id": "76b8e5da-bd32-41a7-9704-d86dc7baaa2a",
   "metadata": {
    "scrolled": true
   },
   "outputs": [],
   "source": [
    "sc.pl.umap(adata, color=['cluster_class_name'], save='_cluster_anno.png', title=f'After QC - {adata.shape[0]} cells', size=10)"
   ]
  },
  {
   "cell_type": "code",
   "execution_count": null,
   "id": "72dc5323-8788-44d2-a50b-efcca629d0f7",
   "metadata": {},
   "outputs": [],
   "source": [
    "sc.pl.umap(adata, color=['cluster_subclass_name'], save='_subcluster_anno.png', title=f'After QC - {adata.shape[0]} cells', size=10)"
   ]
  },
  {
   "cell_type": "code",
   "execution_count": null,
   "id": "03e3abc2-58b1-45a3-9b6e-d464f8d53fc3",
   "metadata": {
    "scrolled": true
   },
   "outputs": [],
   "source": [
    "plot_umap(adata, cluster_type='cluster_subclass_name', legend_fontsize=7, save_path='_sample_tag')"
   ]
  },
  {
   "cell_type": "code",
   "execution_count": null,
   "id": "0833145d-160d-410b-841a-8cb18bb7d1ff",
   "metadata": {},
   "outputs": [],
   "source": []
  },
  {
   "cell_type": "markdown",
   "id": "30ae732a-7b28-4fc1-8ae4-9cf6231e4b0e",
   "metadata": {},
   "source": [
    "# Keep only a specific cell type"
   ]
  },
  {
   "cell_type": "code",
   "execution_count": null,
   "id": "5dc49517-c45f-4b2b-b2c3-33c304ccc2b9",
   "metadata": {
    "scrolled": true
   },
   "outputs": [],
   "source": [
    "# filtered_obs = adata.obs[adata.obs['cluster_subclass_name'].str.startswith('Astro-NT NN')]\n",
    "# filtered_indices = adata.obs.index.get_indexer(filtered_obs.index)\n",
    "# filtered_adata = anndata.AnnData(\n",
    "#     X=adata.raw.X[filtered_indices, :],\n",
    "#     obs=filtered_obs.copy(),\n",
    "#     var=adata.raw.var.copy(),\n",
    "# )\n",
    "# file_path = 'data/filtered_adata.h5ad'\n",
    "# filtered_adata.write_h5ad(file_path)"
   ]
  },
  {
   "cell_type": "markdown",
   "id": "8d4ae49f-ee1e-4c35-8719-b42bf6ae8e10",
   "metadata": {},
   "source": [
    "# Master table"
   ]
  },
  {
   "cell_type": "code",
   "execution_count": null,
   "id": "92e4aa71-60b3-4dc5-9cbc-f30214460a8f",
   "metadata": {},
   "outputs": [],
   "source": [
    "sample_tag_counts = get_master_table(adata, cluster_type='cluster_class_name', save_path='figures/master_table')"
   ]
  },
  {
   "cell_type": "code",
   "execution_count": null,
   "id": "7c5c05a8-3d39-417c-9d45-5ec08fb9c3be",
   "metadata": {},
   "outputs": [],
   "source": [
    "sample_tag_counts"
   ]
  },
  {
   "cell_type": "markdown",
   "id": "3be87790-eb5f-4c42-a904-56d292d83bb8",
   "metadata": {},
   "source": [
    "# Clusters composition analysis"
   ]
  },
  {
   "cell_type": "code",
   "execution_count": null,
   "id": "1e99c4b0-4bcc-482d-856e-61e7fe860044",
   "metadata": {},
   "outputs": [],
   "source": [
    "class_level, cluster_type = 'class_name', 'cluster_class_name'"
   ]
  },
  {
   "cell_type": "code",
   "execution_count": null,
   "id": "c7c67d6f-482e-4e56-b468-1cff4f825377",
   "metadata": {
    "scrolled": true
   },
   "outputs": [],
   "source": [
    "#create_ditto_plot(adata, ['WT-DMSO', '3xTg-DMSO', 'WT-SCDi', '3xTg-SCDi', 'Undetermined'], class_level=class_level, cluster_type=cluster_type, min_cell=100)\n",
    "create_ditto_plot(adata, ['WT-DMSO'], class_level=class_level, cluster_type=cluster_type, min_cell=100, save_path='figures/wt_dmso_ditto.png')\n",
    "create_ditto_plot(adata, ['3xTg-DMSO'], class_level=class_level, cluster_type=cluster_type, min_cell=100, save_path='figures/3xtg_dmso_ditto.png')\n",
    "create_ditto_plot(adata, ['WT-SCDi'], class_level=class_level, cluster_type=cluster_type, min_cell=100, save_path='figures/wt_scdi_ditto.png')\n",
    "create_ditto_plot(adata, ['3xTg-SCDi'], class_level=class_level, cluster_type=cluster_type, min_cell=100, save_path='figures/3xtg_scdi_ditto.png')\n",
    "create_ditto_plot(adata, ['Undetermined'], class_level=class_level, cluster_type=cluster_type, min_cell=100, save_path='figures/undetermined_ditto.png')"
   ]
  },
  {
   "cell_type": "code",
   "execution_count": null,
   "id": "4f98d3fb-0219-4713-b1cc-1c2acb2ae332",
   "metadata": {},
   "outputs": [],
   "source": []
  },
  {
   "cell_type": "code",
   "execution_count": null,
   "id": "834f42f0-4240-4a65-8e49-893a2fc7a033",
   "metadata": {},
   "outputs": [],
   "source": []
  },
  {
   "cell_type": "markdown",
   "id": "1d2d796f-0d47-46a5-b2ac-19e5457b45f0",
   "metadata": {},
   "source": [
    "# DEG analysis"
   ]
  },
  {
   "cell_type": "code",
   "execution_count": null,
   "id": "2cc80413-8005-4117-8c47-b693b2098b50",
   "metadata": {},
   "outputs": [],
   "source": [
    "cell_types = [x for x in set(adata.obs.cluster_class_name.values)]"
   ]
  },
  {
   "cell_type": "code",
   "execution_count": null,
   "id": "2012e59e-aa8e-4913-ac09-08a167249f8c",
   "metadata": {},
   "outputs": [],
   "source": [
    "#ctr, cnd = 'WT-DMSO', '3xTg-DMSO'\n",
    "#ctr, cnd = 'WT-DMSO', 'WT-SCDi'\n",
    "#ctr, cnd = 'WT-DMSO', '3xTg-SCDi'\n",
    "#ctr, cnd = '3xTg-DMSO', '3xTg-SCDi'"
   ]
  },
  {
   "cell_type": "code",
   "execution_count": null,
   "id": "d9d04964-13d5-4f63-8400-ac9d91eb2a15",
   "metadata": {
    "scrolled": true
   },
   "outputs": [],
   "source": [
    "horizontal_deg_chart(adata,\n",
    "                     cell_types,\n",
    "                     ctr,\n",
    "                     cnd,\n",
    "                     min_fold_change=0.25,\n",
    "                     max_p_value=0.05,\n",
    "                     fig_title=f'{ctr} vs {cnd}',\n",
    "                     save_path=f'figures/{ctr}_{cnd}_horizontal_deg_chart.png')"
   ]
  },
  {
   "cell_type": "code",
   "execution_count": null,
   "id": "6cd0fb92-c585-41b7-8172-1a9a5efecbfc",
   "metadata": {},
   "outputs": [],
   "source": [
    "cell_types = ['Astro-Epen_1']"
   ]
  },
  {
   "cell_type": "code",
   "execution_count": null,
   "id": "0ac24bde-1ee0-47ed-8d5c-38cc2c03335d",
   "metadata": {
    "scrolled": true
   },
   "outputs": [],
   "source": [
    "results_df = DEG_analysis_deseq2(adata,\n",
    "                                 ctr,\n",
    "                                 cnd,\n",
    "                                 cell_types,\n",
    "                                 save_path=f'figures/{ctr}_{cnd}_results_df.pkl',\n",
    "                                 n_subsamples=5)"
   ]
  },
  {
   "cell_type": "code",
   "execution_count": null,
   "id": "efffc1e7-5e2c-4715-8bef-28eaf50e12fa",
   "metadata": {},
   "outputs": [],
   "source": []
  },
  {
   "cell_type": "code",
   "execution_count": null,
   "id": "d9d86c1e-3ec0-43df-add9-d468e96baa43",
   "metadata": {
    "scrolled": true
   },
   "outputs": [],
   "source": [
    "volcano_plot(results_df, \n",
    "             min_fold_change=0.25,\n",
    "             max_p_value=0.05, \n",
    "             fig_title=f'{ctr} vs {cnd}',\n",
    "             save_path=f'figures/{ctr}_{cnd}_volcano_plot.png')"
   ]
  },
  {
   "cell_type": "code",
   "execution_count": null,
   "id": "62b6f62a-d380-402f-8e5f-1dc3c83b4174",
   "metadata": {},
   "outputs": [],
   "source": []
  },
  {
   "cell_type": "code",
   "execution_count": null,
   "id": "c78f7a91-8198-416f-b522-6d7eff4d62eb",
   "metadata": {},
   "outputs": [],
   "source": []
  },
  {
   "cell_type": "markdown",
   "id": "621aaee3-e881-4d8a-b438-c7063b1a9d22",
   "metadata": {},
   "source": [
    "# Retrieve NCBI gene list"
   ]
  },
  {
   "cell_type": "code",
   "execution_count": null,
   "id": "d2e43ac0-be9f-406a-ab5f-dac080285149",
   "metadata": {},
   "outputs": [],
   "source": [
    "#genes_ncbi = query_genes(adata.raw, save_path='data/genes_ncbi.pkl')"
   ]
  },
  {
   "cell_type": "code",
   "execution_count": null,
   "id": "267c237c-6bc7-42de-9b35-af7e78c509cb",
   "metadata": {},
   "outputs": [],
   "source": [
    "genes_ncbi = pickle.load(open('data/genes_ncbi.pkl', 'rb'))"
   ]
  },
  {
   "cell_type": "markdown",
   "id": "9f691400-c22b-4d39-a9c1-fdc98a50a963",
   "metadata": {},
   "source": [
    "# GO term enrichment analysis"
   ]
  },
  {
   "cell_type": "code",
   "execution_count": null,
   "id": "56d07ec5-c985-4b8a-bb2f-5155ae3deef2",
   "metadata": {
    "scrolled": true
   },
   "outputs": [],
   "source": [
    "UP_genes_id, DOWN_genes_id, UP_genes_name, DOWN_genes_name = get_DEGs(results_df,\n",
    "                                                                      genes_ncbi,\n",
    "                                                                      max_pval=0.05,\n",
    "                                                                      min_fold_change=0.25)"
   ]
  },
  {
   "cell_type": "code",
   "execution_count": null,
   "id": "43926acf-a281-4822-bfb3-23e7121d1c13",
   "metadata": {
    "scrolled": true
   },
   "outputs": [],
   "source": [
    "UP_GO = go_enrichment_analysis(UP_genes_name, save_path=f'figures/{ctr}_{cnd}_GO_enrichment_analysis_UP.pkl')\n",
    "DOWN_GO = go_enrichment_analysis(DOWN_genes_name, save_path=f'figures/{ctr}_{cnd}_GO_enrichment_analysis_DOWN.pkl')"
   ]
  },
  {
   "cell_type": "code",
   "execution_count": null,
   "id": "cd16d308-cea9-45a2-902c-345219284422",
   "metadata": {
    "scrolled": true
   },
   "outputs": [],
   "source": [
    "display_go_enrichment(UP_GO,\n",
    "                      namespace='BP',\n",
    "                      fig_title=f'UP BP - {ctr} vs {cnd}',\n",
    "                      save_path=f'figures/{ctr}_{cnd}_display_GO_enrichment_UP_BP')\n",
    "\n",
    "display_go_enrichment(UP_GO, \n",
    "                      namespace='MF',\n",
    "                      fig_title=f'UP MF - {ctr} vs {cnd}',\n",
    "                      save_path=f'figures/{ctr}_{cnd}_display_GO_enrichment_UP_MF')\n",
    "\n",
    "display_go_enrichment(UP_GO, \n",
    "                      namespace='CC',\n",
    "                      fig_title=f'UP CC - {ctr} vs {cnd}',\n",
    "                      save_path=f'figures/{ctr}_{cnd}_display_GO_enrichment_UP_CC')"
   ]
  },
  {
   "cell_type": "code",
   "execution_count": null,
   "id": "d94ae740-6f0f-4850-aaef-a3d7f127f9dc",
   "metadata": {
    "scrolled": true
   },
   "outputs": [],
   "source": [
    "display_go_enrichment(DOWN_GO, \n",
    "                      namespace='BP',\n",
    "                      fig_title=f'DOWN BP - {ctr} vs {cnd}',\n",
    "                      save_path=f'figures/{ctr}_{cnd}_display_GO_enrichment_DOWN_BP')\n",
    "\n",
    "display_go_enrichment(DOWN_GO, \n",
    "                      namespace='MF',\n",
    "                      fig_title=f'DOWN MF - {ctr} vs {cnd}',\n",
    "                      save_path=f'figures/{ctr}_{cnd}_display_GO_enrichment_DOWN_MF')\n",
    "\n",
    "display_go_enrichment(DOWN_GO, \n",
    "                      namespace='CC',\n",
    "                      fig_title=f'DOWN CC - {ctr} vs {cnd}',\n",
    "                      save_path=f'figures/{ctr}_{cnd}_display_GO_enrichment_DOWN_CC')"
   ]
  },
  {
   "cell_type": "code",
   "execution_count": null,
   "id": "6f8030db-d7f7-4654-aef3-38cc9215d7d5",
   "metadata": {},
   "outputs": [],
   "source": []
  },
  {
   "cell_type": "code",
   "execution_count": null,
   "id": "f34d668a-21f5-409e-ac7c-4a65beff3f57",
   "metadata": {},
   "outputs": [],
   "source": []
  },
  {
   "cell_type": "code",
   "execution_count": null,
   "id": "61de1788-ba07-4079-b8d8-4e36eb3ba017",
   "metadata": {
    "scrolled": true
   },
   "outputs": [],
   "source": [
    "UP_KEGG = kegg_enrichment_analysis(UP_genes_name, \n",
    "                                   save_path=f'figures/{ctr}_{cnd}_KEGG_enrichment_analysis.pkl')"
   ]
  },
  {
   "cell_type": "code",
   "execution_count": null,
   "id": "80e79ee7-b200-491f-97da-987aaf035735",
   "metadata": {},
   "outputs": [],
   "source": [
    "DOWN_KEGG = kegg_enrichment_analysis(DOWN_genes_name, \n",
    "                                     save_path=f'figures/{ctr}_{cnd}_KEGG_enrichment_analysis.pkl')"
   ]
  },
  {
   "cell_type": "code",
   "execution_count": null,
   "id": "f80c0da0-3bd0-4022-b245-5ba9f843dd2c",
   "metadata": {},
   "outputs": [],
   "source": [
    "display_kegg_enrichment(UP_KEGG,\n",
    "                        fig_title=f'UP pathway - {ctr} vs {cnd}',\n",
    "                        save_path=f'figures/{ctr}_{cnd}_display_KEGG_enrichment_UP')"
   ]
  },
  {
   "cell_type": "code",
   "execution_count": null,
   "id": "1c1d4a18-7e5c-423c-82df-f2da1b9a2011",
   "metadata": {
    "scrolled": true
   },
   "outputs": [],
   "source": [
    "display_kegg_enrichment(DOWN_KEGG,\n",
    "                        fig_title=f'DOWN pathway - {ctr} vs {cnd}',\n",
    "                        save_path=f'figures/{ctr}_{cnd}_display_KEGG_enrichment_DOWN')"
   ]
  },
  {
   "cell_type": "code",
   "execution_count": null,
   "id": "895d0fa3-ade9-4f60-87a6-c5be20804188",
   "metadata": {},
   "outputs": [],
   "source": []
  },
  {
   "cell_type": "code",
   "execution_count": null,
   "id": "450de4c1-344f-4c7f-b89b-db71533b946b",
   "metadata": {},
   "outputs": [],
   "source": []
  },
  {
   "cell_type": "code",
   "execution_count": null,
   "id": "233f72f7-7fd8-4c7e-bca7-cd35c1b054d4",
   "metadata": {},
   "outputs": [],
   "source": []
  },
  {
   "cell_type": "code",
   "execution_count": null,
   "id": "7a20a3af-979a-4350-9f44-ed698911656f",
   "metadata": {},
   "outputs": [],
   "source": []
  },
  {
   "cell_type": "code",
   "execution_count": null,
   "id": "b06cf929-01c7-4490-89ed-678983bec117",
   "metadata": {},
   "outputs": [],
   "source": []
  },
  {
   "cell_type": "code",
   "execution_count": null,
   "id": "dddb14fc-8c9f-4b5a-957e-4e26d06c54ef",
   "metadata": {},
   "outputs": [],
   "source": [
    "ctr, cnd = 'WT-DMSO', '3xTg-DMSO'"
   ]
  },
  {
   "cell_type": "code",
   "execution_count": null,
   "id": "2d1e7035-7e1e-40ff-acaa-e486ea19a340",
   "metadata": {
    "scrolled": true
   },
   "outputs": [],
   "source": [
    "results_df1 = DEG_analysis_deseq2(adata, \n",
    "                          ctr, \n",
    "                          cnd, \n",
    "                          cell_types, \n",
    "                          save_path=f'figures/{ctr}_{cnd}_results_df.pkl')"
   ]
  },
  {
   "cell_type": "code",
   "execution_count": null,
   "id": "0c198c0b-626e-42c2-a0d5-02d182d348dd",
   "metadata": {},
   "outputs": [],
   "source": [
    "ctr, cnd = 'WT-DMSO', '3xTg-SCDi'"
   ]
  },
  {
   "cell_type": "code",
   "execution_count": null,
   "id": "33b104ec-b3be-4fd5-8a14-3b095a2dc2ae",
   "metadata": {
    "scrolled": true
   },
   "outputs": [],
   "source": [
    "results_df2 = DEG_analysis_deseq2(adata, \n",
    "                          ctr, \n",
    "                          cnd, \n",
    "                          cell_types, \n",
    "                          save_path=f'figures/{ctr}_{cnd}_results_df.pkl')"
   ]
  },
  {
   "cell_type": "code",
   "execution_count": null,
   "id": "dcc3d1fc-86d6-471a-bde4-27909a931713",
   "metadata": {},
   "outputs": [],
   "source": []
  },
  {
   "cell_type": "code",
   "execution_count": null,
   "id": "fd608b73-1265-4002-91ab-e542bb42fa22",
   "metadata": {},
   "outputs": [],
   "source": [
    "results_df1['significant'] = results_df1['padj'] < 0.05\n",
    "results_df1['outside_range'] = results_df1['significant'] & (results_df1['log2FoldChange'].abs() > 0.25)"
   ]
  },
  {
   "cell_type": "code",
   "execution_count": null,
   "id": "6e4ebd6c-3610-42ed-9004-64315ab604b2",
   "metadata": {},
   "outputs": [],
   "source": [
    "results_df2['significant'] = results_df2['padj'] < 0.05\n",
    "results_df2['outside_range'] = results_df2['significant'] & (results_df2['log2FoldChange'].abs() > 0.25)"
   ]
  },
  {
   "cell_type": "code",
   "execution_count": null,
   "id": "50e56464-bad6-47b4-9657-db8dd3551e4f",
   "metadata": {},
   "outputs": [],
   "source": []
  },
  {
   "cell_type": "code",
   "execution_count": null,
   "id": "1a17ef6c-72d6-419b-9e7c-a915e882f5f1",
   "metadata": {},
   "outputs": [],
   "source": [
    "df2_names = [x['names'] for x in results_df2.T.to_dict().values() if x['significant'] and x['outside_range']]"
   ]
  },
  {
   "cell_type": "code",
   "execution_count": null,
   "id": "f26c8c89-69e1-4bf5-b567-6c96f8b4ebe4",
   "metadata": {},
   "outputs": [],
   "source": [
    "df1_names = [x['names'] for x in results_df1.T.to_dict().values() if x['significant'] and x['outside_range']]"
   ]
  },
  {
   "cell_type": "code",
   "execution_count": null,
   "id": "820d092b-647b-4064-80e1-7ed0d9feceeb",
   "metadata": {},
   "outputs": [],
   "source": []
  },
  {
   "cell_type": "code",
   "execution_count": null,
   "id": "44db2392-8861-414d-bfcd-66296f4d767a",
   "metadata": {},
   "outputs": [],
   "source": [
    "import matplotlib.pyplot as plt\n",
    "from matplotlib_venn import venn2\n",
    "\n",
    "set1 = set(df1_names)\n",
    "set2 = set(df2_names)\n",
    "\n",
    "venn2([set1, set2], ('Restored DEGs', 'New DEGs'))\n",
    "plt.title('WT-DMSO vs 3xTG-DMSO - WT-DMSO vs 3xTG-SCDi')\n",
    "plt.savefig(\"venn_diagram.png\")\n",
    "plt.show()\n"
   ]
  },
  {
   "cell_type": "code",
   "execution_count": null,
   "id": "0e7de6ff-a57d-4c3a-b430-1012047082a4",
   "metadata": {},
   "outputs": [],
   "source": []
  },
  {
   "cell_type": "code",
   "execution_count": null,
   "id": "c6633f54-a2ac-468f-b53f-c744a7ddc179",
   "metadata": {},
   "outputs": [],
   "source": []
  },
  {
   "cell_type": "code",
   "execution_count": null,
   "id": "0ef8190e-b040-4353-b2bb-52e04cb16a8e",
   "metadata": {},
   "outputs": [],
   "source": []
  },
  {
   "cell_type": "code",
   "execution_count": null,
   "id": "bac6eee0-dde9-40ef-90ad-c1e853edff35",
   "metadata": {},
   "outputs": [],
   "source": []
  }
 ],
 "metadata": {
  "kernelspec": {
   "display_name": "Python 3 (ipykernel)",
   "language": "python",
   "name": "python3"
  },
  "language_info": {
   "codemirror_mode": {
    "name": "ipython",
    "version": 3
   },
   "file_extension": ".py",
   "mimetype": "text/x-python",
   "name": "python",
   "nbconvert_exporter": "python",
   "pygments_lexer": "ipython3",
   "version": "3.10.12"
  }
 },
 "nbformat": 4,
 "nbformat_minor": 5
}
