{
 "cells": [
  {
   "cell_type": "markdown",
   "id": "8d04cf1f-6852-45d3-ac58-bf3ec7318cf8",
   "metadata": {},
   "source": [
    "# DIFFERENTIAL GENE EXPRESSION ANALYSIS"
   ]
  },
  {
   "cell_type": "markdown",
   "id": "e6b73f02-e47b-4abd-bc3e-1f0d1d599d4e",
   "metadata": {},
   "source": [
    "# Python packages"
   ]
  },
  {
   "cell_type": "code",
   "execution_count": null,
   "id": "24e7d75c-5349-47aa-a58b-f84b527203f9",
   "metadata": {},
   "outputs": [],
   "source": [
    "import warnings\n",
    "warnings.filterwarnings(\"ignore\")\n",
    "\n",
    "import matplotlib.pyplot as plt\n",
    "import seaborn as sns\n",
    "import scanpy as sc\n",
    "import pandas as pd\n",
    "import numpy as np\n",
    "import random\n",
    "import logging\n",
    "\n",
    "import sc_toolbox\n",
    "import pertpy\n",
    "import anndata2ri\n",
    "\n",
    "import rpy2.robjects as robjects\n",
    "import rpy2.rinterface_lib.callbacks\n",
    "from rpy2.robjects import pandas2ri, r\n",
    "from rpy2.robjects.conversion import localconverter\n",
    "\n",
    "from modules.visualize import *\n",
    "from modules.deag_tools import *\n",
    "from modules.utils import *"
   ]
  },
  {
   "cell_type": "markdown",
   "id": "f6e66104-7d95-4139-8705-cb5475fd9ebb",
   "metadata": {},
   "source": [
    "# R packages"
   ]
  },
  {
   "cell_type": "code",
   "execution_count": null,
   "id": "125bf6c6-e18d-4ea4-a976-3bae38df1c7c",
   "metadata": {},
   "outputs": [],
   "source": [
    "sc.settings.verbosity = 0\n",
    "rpy2.rinterface_lib.callbacks.logger.setLevel(logging.ERROR)\n",
    "pandas2ri.activate()\n",
    "anndata2ri.activate()\n",
    "%load_ext rpy2.ipython"
   ]
  },
  {
   "cell_type": "markdown",
   "id": "cfdd6604-7777-4402-8cef-c421452dc6f0",
   "metadata": {},
   "source": [
    "# Load dataset"
   ]
  },
  {
   "cell_type": "code",
   "execution_count": null,
   "id": "98920e8a-8c4a-4685-ac5f-a76e54f853cf",
   "metadata": {},
   "outputs": [],
   "source": [
    "adata = sc.read(\n",
    "    filename=\"data/fede_data/scdi_hypothalamus_clustered.h5ad\"\n",
    ")"
   ]
  },
  {
   "cell_type": "markdown",
   "id": "d6a72b22-40d9-4473-90f7-8cc2cb6d8d17",
   "metadata": {},
   "source": [
    "# Create pseudosamples"
   ]
  },
  {
   "cell_type": "code",
   "execution_count": null,
   "id": "19182f76-61f7-483b-a5f0-48dcd712b8b2",
   "metadata": {
    "scrolled": true
   },
   "outputs": [],
   "source": [
    "# Creates 3 pseudosamples for each combination of experimental group and cell type\n",
    "cell_types = adata.obs[\"cluster_subclass_name\"].cat.categories\n",
    "adata_pb = aggregate_and_filter(adata, \n",
    "                                cell_types[0], \n",
    "                                condition_key=\"Sample_Tag\", \n",
    "                                cell_identity_key=\"cluster_subclass_name\", \n",
    "                                obs_to_keep=['Sample_Tag', 'cluster_subclass_name'])\n",
    "\n",
    "for i, cell_type in enumerate(cell_types[1:], start=2):\n",
    "    adata_cell_type = aggregate_and_filter(adata, \n",
    "                                           cell_type, \n",
    "                                           condition_key=\"Sample_Tag\", \n",
    "                                           cell_identity_key=\"cluster_subclass_name\", \n",
    "                                           obs_to_keep=['Sample_Tag', 'cluster_subclass_name'])\n",
    "    adata_pb = adata_pb.concatenate(adata_cell_type)\n",
    "\n",
    "adata_pb.layers['counts'] = adata_pb.X.copy()"
   ]
  },
  {
   "cell_type": "markdown",
   "id": "c39a467c-fa2d-416a-9c7d-1a0e2f2a5fba",
   "metadata": {},
   "source": [
    "### Visualize the pseudosample embedding"
   ]
  },
  {
   "cell_type": "code",
   "execution_count": null,
   "id": "457c569f-9288-4541-a20a-85940c447c0e",
   "metadata": {},
   "outputs": [],
   "source": [
    "sc.pp.normalize_total(adata_pb, target_sum=1e6)\n",
    "sc.pp.log1p(adata_pb)\n",
    "sc.pp.pca(adata_pb)"
   ]
  },
  {
   "cell_type": "code",
   "execution_count": null,
   "id": "2a126470-92a8-4623-9f36-a580c4807068",
   "metadata": {
    "scrolled": true
   },
   "outputs": [],
   "source": [
    "sc.settings.figdir = 'figures/pca_plot_'\n",
    "color_vars = adata_pb.obs.columns\n",
    "for var in color_vars:\n",
    "    sc.pl.pca(adata_pb, color=var, ncols=1, size=100, save=f'pca_plot_{var}.png')"
   ]
  },
  {
   "cell_type": "markdown",
   "id": "eb3c55a4-4719-46ce-9262-c2fff51dea58",
   "metadata": {},
   "source": [
    "# Save/Load adata object"
   ]
  },
  {
   "cell_type": "code",
   "execution_count": null,
   "id": "8552246a-5be1-4d41-a123-6b5ee6f612b4",
   "metadata": {},
   "outputs": [],
   "source": [
    "adata_pb.layers['counts'] = np.array(adata_pb.layers['counts'], dtype=int)"
   ]
  },
  {
   "cell_type": "code",
   "execution_count": null,
   "id": "962e8be1-8e80-41e0-9af5-292cfef65ea5",
   "metadata": {},
   "outputs": [],
   "source": [
    "# Write data to specified path\n",
    "adata_pb.write(\"data/fede_data/scdi_hypothalamus_pb.h5ad\")"
   ]
  },
  {
   "cell_type": "code",
   "execution_count": null,
   "id": "a020f5da-9c16-4225-8970-cfff24a79db1",
   "metadata": {},
   "outputs": [],
   "source": [
    "# Load data from specified path\n",
    "adata_pb = sc.read(\n",
    "    filename=\"data/fede_data/scdi_hypothalamus_pb.h5ad\"\n",
    ")"
   ]
  },
  {
   "cell_type": "markdown",
   "id": "d9181ff7-3e73-48bd-825c-ddb596681a87",
   "metadata": {},
   "source": [
    "# Differential gene expression analysis"
   ]
  },
  {
   "cell_type": "markdown",
   "id": "65bc4e2c-4ac5-4892-a2af-cd864e30cb02",
   "metadata": {},
   "source": [
    "### Create control and condition anndata objects"
   ]
  },
  {
   "cell_type": "code",
   "execution_count": null,
   "id": "b213ea68-b972-40a6-9e56-d626cff892b1",
   "metadata": {},
   "outputs": [],
   "source": [
    "# Specify the names of control and condition groups\n",
    "ctr_name = ''\n",
    "cnd_name = ''"
   ]
  },
  {
   "cell_type": "code",
   "execution_count": null,
   "id": "ba2ebfa1-46eb-4408-9205-d9a81714d977",
   "metadata": {},
   "outputs": [],
   "source": [
    "# Experimental groups to include for control and condition\n",
    "\n",
    "ctr_sample_tags = list(set(adata.obs['Sample_Tag'].values))\n",
    "#ctr_sample_tags = ['WT-DMSO']\n",
    "\n",
    "cnd_sample_tags = list(set(adata.obs['Sample_Tag'].values))\n",
    "#cnd_sample_tags = ['WT-SCDi']"
   ]
  },
  {
   "cell_type": "code",
   "execution_count": null,
   "id": "341cc8fa-cf59-408d-889c-6db2014fe11a",
   "metadata": {},
   "outputs": [],
   "source": [
    "adata_pb.X = adata_pb.layers['counts']"
   ]
  },
  {
   "cell_type": "markdown",
   "id": "28f21d6c-6cf8-48fd-a1ff-7ac07fa10a64",
   "metadata": {},
   "source": [
    "### DESeq2"
   ]
  },
  {
   "cell_type": "code",
   "execution_count": null,
   "id": "fa3e6855-db63-4a04-918f-c952320d93a6",
   "metadata": {},
   "outputs": [],
   "source": [
    "# Cell types to include for control and condition\n",
    "ctr_cell_types = list(set([x for x in adata_pb.obs['cluster_subclass_name'].values if x.startswith('Astro-NT') and x != 'Astro-NT_1']))\n",
    "#ctr_cell_types = ['Astro-NT_3']\n",
    "\n",
    "cnd_cell_types = list(set([x for x in adata_pb.obs['cluster_subclass_name'].values if x.startswith('Astro-NT')]))\n",
    "#cnd_cell_types = ['Astro-NT_1']"
   ]
  },
  {
   "cell_type": "code",
   "execution_count": null,
   "id": "8e630f5c-570a-4cb8-96d0-c3a913085817",
   "metadata": {},
   "outputs": [],
   "source": [
    "# Create control and condition dataframes with specified experimental groups and cell types\n",
    "control_df = adata_pb[(adata_pb.obs['Sample_Tag'].isin(ctr_sample_tags)) & (adata_pb.obs['cluster_subclass_name'].isin(ctr_cell_types))].to_df()\n",
    "condition_df = adata_pb[(adata_pb.obs['Sample_Tag'].isin(cnd_sample_tags)) & (adata_pb.obs['cluster_subclass_name'].isin(cnd_cell_types))].to_df()"
   ]
  },
  {
   "cell_type": "code",
   "execution_count": null,
   "id": "5e0c6c6f-0efb-47cd-98b9-19107c4674bd",
   "metadata": {},
   "outputs": [],
   "source": [
    "results_df = deseq2_dea(control_df, condition_df, save_path=None)"
   ]
  },
  {
   "cell_type": "markdown",
   "id": "97e3ce38-6e51-42f4-93a7-acf358ad7cc2",
   "metadata": {},
   "source": [
    "### MAST"
   ]
  },
  {
   "cell_type": "code",
   "execution_count": null,
   "id": "3ea506e7-93b9-484d-85d2-ee3df0fccc28",
   "metadata": {},
   "outputs": [],
   "source": [
    "# Cell types to include for control and condition\n",
    "ctr_cell_types = list(set([x for x in adata.obs['cluster_subclass_name'].values if x.startswith('Astro-NT') and x != 'Astro-NT_1']))\n",
    "#ctr_cell_types = ['Astro-NT_3']\n",
    "\n",
    "cnd_cell_types = list(set([x for x in adata.obs['cluster_subclass_name'].values if x.startswith('Astro-NT')]))\n",
    "#cnd_cell_types = ['Astro-NT_1']"
   ]
  },
  {
   "cell_type": "code",
   "execution_count": null,
   "id": "2faf7af7-73c5-44b1-87b4-a7703b9a2e71",
   "metadata": {},
   "outputs": [],
   "source": [
    "# Create control and condition dataframes with specified experimental groups and cell types\n",
    "control_df = adata[(adata.obs['Sample_Tag'].isin(ctr_sample_tags)) & (adata.obs['cluster_subclass_name'].isin(ctr_cell_types))].to_df()\n",
    "condition_df = adata[(adata.obs['Sample_Tag'].isin(cnd_sample_tags)) & (adata.obs['cluster_subclass_name'].isin(cnd_cell_types))].to_df()"
   ]
  },
  {
   "cell_type": "code",
   "execution_count": null,
   "id": "7e395e4d-b3dd-4c17-b78c-91da6b2972de",
   "metadata": {},
   "outputs": [],
   "source": [
    "# shifted logarithm with Counts per Millions (CPM)\n",
    "sc.pp.normalize_total(adata, target_sum=1e6)\n",
    "sc.pp.log1p(adata)"
   ]
  },
  {
   "cell_type": "code",
   "execution_count": null,
   "id": "d4ad8895-a627-4cda-a3b9-bccf7e23063b",
   "metadata": {},
   "outputs": [],
   "source": [
    "results_df = mast_dea(adata, control_df, condition_df, save_path=None)"
   ]
  },
  {
   "cell_type": "markdown",
   "id": "1fa0dc2f-4957-415c-8cfd-7cb17cf62966",
   "metadata": {},
   "source": [
    "### Volcano plot"
   ]
  },
  {
   "cell_type": "code",
   "execution_count": null,
   "id": "013856fe-3604-4a55-b07d-dee086566811",
   "metadata": {
    "scrolled": true
   },
   "outputs": [],
   "source": [
    "volcano_plot(results_df,\n",
    "             min_fold_change=0.25,\n",
    "             max_p_value=0.05,\n",
    "             fig_title=f'{ctr_name} vs {cnd_name}',\n",
    "             save_path=f'figures/{ctr_name}_{cnd_name}_volcano_plot.png')"
   ]
  },
  {
   "cell_type": "markdown",
   "id": "2b9c244b-2a2e-4bb5-9309-ed83cf393e6f",
   "metadata": {},
   "source": [
    "### Sort DEGs by lowest adjusted p-value"
   ]
  },
  {
   "cell_type": "code",
   "execution_count": null,
   "id": "ebb2a731-bf29-4b4b-9a49-f20bc3000314",
   "metadata": {},
   "outputs": [],
   "source": [
    "ranked_genes = results_df.sort_values(by='padj')"
   ]
  },
  {
   "cell_type": "code",
   "execution_count": null,
   "id": "d4761444-3c5c-47d3-95e2-365a2fa3910a",
   "metadata": {
    "scrolled": true
   },
   "outputs": [],
   "source": [
    "ranked_genes.head(10)"
   ]
  },
  {
   "cell_type": "code",
   "execution_count": null,
   "id": "619c2eea-852e-454d-9f9d-a98d6eb6d42e",
   "metadata": {},
   "outputs": [],
   "source": [
    "df = results_df\n",
    "filtered_df = df[(df['padj'] < 0.05) & (df['log2FoldChange'] > 0.25)]\n",
    "names_list = filtered_df['names'].str.upper().tolist()\n",
    "with open('filtered_names.txt', 'w') as f:\n",
    "    for name in names_list:\n",
    "        f.write(f\"{name}\\n\")\n",
    "print(f\"Number of genes after filtering: {len(names_list)}\")\n",
    "print(\"Names have been written to 'filtered_names.txt'\")"
   ]
  },
  {
   "cell_type": "markdown",
   "id": "b276ebc3-64b5-4559-b682-06b8aab0272f",
   "metadata": {},
   "source": [
    "# Gene set and pathway enrichment analysis"
   ]
  },
  {
   "cell_type": "code",
   "execution_count": null,
   "id": "689ae6c5-720a-40ae-8d9e-133408ed81db",
   "metadata": {},
   "outputs": [],
   "source": [
    "UP_genes_name, DOWN_genes_name = get_DEGs(results_df,\n",
    "                                          max_pval=0.05,\n",
    "                                          min_fold_change=0.25)"
   ]
  },
  {
   "cell_type": "code",
   "execution_count": null,
   "id": "1304e9a6-e7ea-4c90-b3d3-104d0e3a0a5a",
   "metadata": {},
   "outputs": [],
   "source": [
    "UP_GO = go_enrichment_analysis(UP_genes_name, save_path=None)\n",
    "DOWN_GO = go_enrichment_analysis(DOWN_genes_name, save_path=None)"
   ]
  },
  {
   "cell_type": "code",
   "execution_count": null,
   "id": "ba80572d-4fa4-4581-a77d-d44b23df3d24",
   "metadata": {},
   "outputs": [],
   "source": [
    "display_go_enrichment(UP_GO,\n",
    "                      namespace='BP',\n",
    "                      fig_title=f'UP BP - {ctr_name} vs {cnd_name}',\n",
    "                      save_path=f'figures/{ctr_name}_{cnd_name}_display_GO_enrichment_UP_BP')\n",
    "\n",
    "display_go_enrichment(UP_GO, \n",
    "                      namespace='MF',\n",
    "                      fig_title=f'UP MF - {ctr_name} vs {cnd_name}',\n",
    "                      save_path=f'figures/{ctr_name}_{cnd_name}_display_GO_enrichment_UP_MF')\n",
    "\n",
    "display_go_enrichment(UP_GO, \n",
    "                      namespace='CC',\n",
    "                      fig_title=f'UP CC - {ctr_name} vs {cnd_name}',\n",
    "                      save_path=f'figures/{ctr_name}_{cnd_name}_display_GO_enrichment_UP_CC')"
   ]
  },
  {
   "cell_type": "code",
   "execution_count": null,
   "id": "a5e9af19-2474-4e54-84d7-8bde196bc3ca",
   "metadata": {},
   "outputs": [],
   "source": [
    "display_go_enrichment(DOWN_GO, \n",
    "                      namespace='BP',\n",
    "                      fig_title=f'DOWN BP - {ctr_name} vs {cnd_name}',\n",
    "                      save_path=f'figures/{ctr_name}_{cnd_name}_display_GO_enrichment_DOWN_BP')\n",
    "\n",
    "display_go_enrichment(DOWN_GO, \n",
    "                      namespace='MF',\n",
    "                      fig_title=f'DOWN MF - {ctr_name} vs {cnd_name}',\n",
    "                      save_path=f'figures/{ctr_name}_{cnd_name}_display_GO_enrichment_DOWN_MF')\n",
    "\n",
    "display_go_enrichment(DOWN_GO, \n",
    "                      namespace='CC',\n",
    "                      fig_title=f'DOWN CC - {ctr_name} vs {cnd_name}',\n",
    "                      save_path=f'figures/{ctr_name}_{cnd_name}_display_GO_enrichment_DOWN_CC')"
   ]
  },
  {
   "cell_type": "code",
   "execution_count": null,
   "id": "3869e9c0-cc03-4677-81df-e107b4aca447",
   "metadata": {},
   "outputs": [],
   "source": [
    "UP_KEGG = kegg_enrichment_analysis(UP_genes_name, \n",
    "                                   save_path=None)"
   ]
  },
  {
   "cell_type": "code",
   "execution_count": null,
   "id": "346acd37-e4f1-466c-be87-ca93deebcfaa",
   "metadata": {},
   "outputs": [],
   "source": [
    "DOWN_KEGG = kegg_enrichment_analysis(DOWN_genes_name, \n",
    "                                     save_path=None)"
   ]
  },
  {
   "cell_type": "code",
   "execution_count": null,
   "id": "3d7c7751-f95b-4b76-824e-7d285c6687da",
   "metadata": {},
   "outputs": [],
   "source": [
    "display_kegg_enrichment(UP_KEGG,\n",
    "                        fig_title=f'UP pathway - {ctr_name} vs {cnd_name}',\n",
    "                        save_path=f'figures/{ctr_name}_{cnd_name}_display_KEGG_enrichment_UP')"
   ]
  },
  {
   "cell_type": "code",
   "execution_count": null,
   "id": "82ad44f9-6048-4bff-a074-056625a22fce",
   "metadata": {},
   "outputs": [],
   "source": [
    "display_kegg_enrichment(DOWN_KEGG,\n",
    "                        fig_title=f'DOWN pathway - {ctr_name} vs {cnd_name}',\n",
    "                        save_path=f'figures/{ctr_name}_{cnd_name}_display_KEGG_enrichment_DOWN')"
   ]
  },
  {
   "cell_type": "code",
   "execution_count": null,
   "id": "6bf7365e-3ca8-4652-8a23-e3990e9e902f",
   "metadata": {},
   "outputs": [],
   "source": []
  }
 ],
 "metadata": {
  "kernelspec": {
   "display_name": "Python 3 (ipykernel)",
   "language": "python",
   "name": "python3"
  },
  "language_info": {
   "codemirror_mode": {
    "name": "ipython",
    "version": 3
   },
   "file_extension": ".py",
   "mimetype": "text/x-python",
   "name": "python",
   "nbconvert_exporter": "python",
   "pygments_lexer": "ipython3",
   "version": "3.10.12"
  }
 },
 "nbformat": 4,
 "nbformat_minor": 5
}
