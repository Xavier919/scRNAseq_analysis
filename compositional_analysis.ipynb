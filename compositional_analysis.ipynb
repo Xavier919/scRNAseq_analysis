{
 "cells": [
  {
   "cell_type": "markdown",
   "id": "196b345e-d873-4b75-ae72-3b124e1c8bbf",
   "metadata": {},
   "source": [
    "# COMPOSITIONAL ANALYSIS"
   ]
  },
  {
   "cell_type": "markdown",
   "id": "1692abcf-91da-4854-9182-bc830430b9b2",
   "metadata": {},
   "source": [
    "# Python packages"
   ]
  },
  {
   "cell_type": "code",
   "execution_count": null,
   "id": "c29491f6-ba1c-4841-a408-87ff530afc61",
   "metadata": {
    "scrolled": true
   },
   "outputs": [],
   "source": [
    "import warnings\n",
    "warnings.filterwarnings(\"ignore\")\n",
    "warnings.simplefilter(\"ignore\")\n",
    "\n",
    "import pandas as pd\n",
    "import numpy as np\n",
    "import scanpy as sc\n",
    "import tensorflow as tf\n",
    "import matplotlib.pyplot as plt\n",
    "import seaborn as sns\n",
    "import altair as alt\n",
    "import pertpy as pt\n",
    "import scvi\n",
    "import anndata\n",
    "import matplotlib\n",
    "from collections import Counter\n",
    "\n",
    "from modules.visualize import *\n",
    "from modules.deag_tools import *\n",
    "from modules.utils import *"
   ]
  },
  {
   "cell_type": "markdown",
   "id": "88dc6dae-dde7-4132-baf1-bcd7fa572dd3",
   "metadata": {},
   "source": [
    "# Load dataset"
   ]
  },
  {
   "cell_type": "code",
   "execution_count": null,
   "id": "a46f627f-5b9f-4a20-9fa3-dd3b68549359",
   "metadata": {},
   "outputs": [],
   "source": [
    "sample_tag_mapping = {'WT-DMSO':'A_WT-DMSO',\n",
    "                      '3xTg-DMSO':'B_3xTg-DMSO',\n",
    "                      'WT-SCDi':'C_WT-SCDi',\n",
    "                      '3xTg-SCDi':'D_3xTg-SCDi',\n",
    "                      'Undetermined':'Undetermined',\n",
    "                      'Multiplet':'Multiplet'}"
   ]
  },
  {
   "cell_type": "code",
   "execution_count": null,
   "id": "bbbcca1a-a4ce-4948-bbcc-59be848f61e0",
   "metadata": {
    "scrolled": true
   },
   "outputs": [],
   "source": [
    "adata = sc.read(\n",
    "    filename=\"data/fede_data/scdi_hypothalamus_clustered.h5ad\"\n",
    ")"
   ]
  },
  {
   "cell_type": "code",
   "execution_count": null,
   "id": "23a12137-6238-4cbf-8c3d-e22df1f10a6a",
   "metadata": {},
   "outputs": [],
   "source": [
    "adata.obs['Sample_Tag'] = adata.obs['Sample_Tag'].map(sample_tag_mapping)"
   ]
  },
  {
   "cell_type": "code",
   "execution_count": null,
   "id": "b4f2fa66-56bc-481c-8e6f-e90d478c5231",
   "metadata": {},
   "outputs": [],
   "source": [
    "adata = adata[adata.obs['Sample_Tag'] != \"Undetermined\", :]"
   ]
  },
  {
   "cell_type": "markdown",
   "id": "b6d6119d-17e7-47f1-8961-889b5c527f0a",
   "metadata": {},
   "source": [
    "# Generate pseudosamples"
   ]
  },
  {
   "cell_type": "code",
   "execution_count": null,
   "id": "0451f107-33c1-4f32-bb63-ae301b108021",
   "metadata": {},
   "outputs": [],
   "source": [
    "adata = assign_pseudoreplicates(adata)"
   ]
  },
  {
   "cell_type": "markdown",
   "id": "04f61aa7-c428-4faa-a29b-4f77e9b1b32b",
   "metadata": {},
   "source": [
    "# Filter out low frequency cell types"
   ]
  },
  {
   "cell_type": "code",
   "execution_count": null,
   "id": "fad0a9e8-d609-41f2-a95a-1ac9ba82b095",
   "metadata": {},
   "outputs": [],
   "source": [
    "class_counts = adata.obs['cluster_subclass_name'].value_counts()\n",
    "valid_classes = class_counts[class_counts >= 100].index\n",
    "adata = adata[adata.obs['cluster_subclass_name'].isin(valid_classes)].copy()"
   ]
  },
  {
   "cell_type": "markdown",
   "id": "71fe8b4f-4d86-4bfe-94d0-c87319447448",
   "metadata": {},
   "source": [
    "# Cell type abundance histogram"
   ]
  },
  {
   "cell_type": "code",
   "execution_count": null,
   "id": "de4823fe-2045-4b10-8ea8-67fd5f00f1f5",
   "metadata": {
    "scrolled": true
   },
   "outputs": [],
   "source": [
    "plot_cell_type_abundances(adata)"
   ]
  },
  {
   "cell_type": "markdown",
   "id": "77c23883-96cd-4951-a3c2-a7f09f27731f",
   "metadata": {},
   "source": [
    "# Compositional analysis"
   ]
  },
  {
   "cell_type": "code",
   "execution_count": null,
   "id": "c8991116-e640-4e87-9e1a-54e7c0e3f0e7",
   "metadata": {
    "scrolled": true
   },
   "outputs": [],
   "source": [
    "sccoda_model = pt.tl.Sccoda()\n",
    "sccoda_data = sccoda_model.load(\n",
    "    adata,\n",
    "    type=\"cell_level\",\n",
    "    generate_sample_level=True,\n",
    "    cell_type_identifier=\"cluster_subclass_name\",\n",
    "    sample_identifier=\"batch\",\n",
    "    covariate_obs=[\"Sample_Tag\"],\n",
    ")"
   ]
  },
  {
   "cell_type": "code",
   "execution_count": null,
   "id": "09adb779-46b4-400d-9065-b28b3e360bbb",
   "metadata": {},
   "outputs": [],
   "source": [
    "ax = pt.pl.coda.boxplots(\n",
    "    sccoda_data,\n",
    "    modality_key=\"coda\",\n",
    "    feature_name=\"Sample_Tag\",\n",
    "    figsize=(12, 6),\n",
    "    add_dots=True,\n",
    ")\n",
    "\n",
    "# Adjust the dot size if possible\n",
    "for collection in ax.collections:\n",
    "    if isinstance(collection, matplotlib.collections.PathCollection):\n",
    "        collection.set_sizes([10])  # Adjust this value to make dots smaller\n",
    "\n",
    "plt.tight_layout()\n",
    "plt.savefig('figures/coda_boxplots.png', bbox_inches='tight')\n",
    "plt.show()"
   ]
  },
  {
   "cell_type": "code",
   "execution_count": null,
   "id": "4ded5b4a-73b8-4bdc-afaa-fffca3c7a145",
   "metadata": {},
   "outputs": [],
   "source": [
    "pt.pl.coda.stacked_barplot(\n",
    "    sccoda_data, modality_key=\"coda\", feature_name=\"Sample_Tag\", figsize=(4, 2)\n",
    ")\n",
    "plt.tight_layout()\n",
    "plt.savefig('figures/coda_stacked_barplot.png',bbox_inches='tight')\n",
    "plt.show()"
   ]
  },
  {
   "cell_type": "code",
   "execution_count": null,
   "id": "36888aa1-b295-458a-8cbc-76e046486a77",
   "metadata": {},
   "outputs": [],
   "source": [
    "sccoda_data = sccoda_model.prepare(\n",
    "    sccoda_data,\n",
    "    modality_key=\"coda\",\n",
    "    formula=\"Sample_Tag\",\n",
    "    reference_cell_type=\"automatic\",\n",
    ")"
   ]
  },
  {
   "cell_type": "code",
   "execution_count": null,
   "id": "1023e321-252c-46f1-9d6d-176fd3443f20",
   "metadata": {
    "scrolled": true
   },
   "outputs": [],
   "source": [
    "sccoda_model.run_nuts(sccoda_data, modality_key=\"coda\", rng_key=1234)"
   ]
  },
  {
   "cell_type": "code",
   "execution_count": null,
   "id": "2066b318-f3f3-42e0-8224-699e9caa3890",
   "metadata": {},
   "outputs": [],
   "source": [
    "sccoda_model.set_fdr(sccoda_data, 0.05)"
   ]
  },
  {
   "cell_type": "code",
   "execution_count": null,
   "id": "f9ab5a1c-d71f-4466-83be-e448d04b0f7c",
   "metadata": {
    "scrolled": true
   },
   "outputs": [],
   "source": [
    "sccoda_model.credible_effects(sccoda_data, modality_key=\"coda\")"
   ]
  },
  {
   "cell_type": "code",
   "execution_count": null,
   "id": "74e3ebca-fd8d-40c0-9db1-c6ccf906d580",
   "metadata": {},
   "outputs": [],
   "source": [
    "credible_effects = sccoda_model.credible_effects(sccoda_data, modality_key=\"coda\")\n",
    "\n",
    "# Converting the credible_effects to a pandas DataFrame\n",
    "credible_effects_df = pd.DataFrame(credible_effects)\n",
    "print(credible_effects_df)"
   ]
  },
  {
   "cell_type": "code",
   "execution_count": null,
   "id": "a9e82e56-00b7-4d17-9d2b-e38703c8f89c",
   "metadata": {
    "scrolled": true
   },
   "outputs": [],
   "source": [
    "credible_effects_df"
   ]
  },
  {
   "cell_type": "code",
   "execution_count": null,
   "id": "6eec7269-3cfe-4947-8d6c-8d86f28b803f",
   "metadata": {},
   "outputs": [],
   "source": [
    "pt.pl.coda.effects_barplot(sccoda_data, \"coda\", \"Sample_Tag\")\n",
    "plt.tight_layout()\n",
    "plt.savefig('figures/coda_effects_barplot.png', bbox_inches='tight')\n",
    "plt.show()"
   ]
  }
 ],
 "metadata": {
  "kernelspec": {
   "display_name": "Python 3 (ipykernel)",
   "language": "python",
   "name": "python3"
  },
  "language_info": {
   "codemirror_mode": {
    "name": "ipython",
    "version": 3
   },
   "file_extension": ".py",
   "mimetype": "text/x-python",
   "name": "python",
   "nbconvert_exporter": "python",
   "pygments_lexer": "ipython3",
   "version": "3.10.12"
  }
 },
 "nbformat": 4,
 "nbformat_minor": 5
}
