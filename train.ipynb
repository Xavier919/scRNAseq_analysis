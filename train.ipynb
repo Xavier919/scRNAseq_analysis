{
 "cells": [
  {
   "cell_type": "code",
   "execution_count": null,
   "id": "76f8e864",
   "metadata": {},
   "outputs": [],
   "source": [
    "import pandas as pd\n",
    "import numpy as np\n",
    "import matplotlib.pyplot as plt\n",
    "import pickle\n",
    "from modules.utils import *\n",
    "from modules.deg_analysis import *\n",
    "from modules.visualize import *\n",
    "from sklearn.model_selection import train_test_split\n",
    "import torch\n",
    "from modules.dataloader import PairedDataset\n",
    "from torch.utils.data import DataLoader, DistributedSampler\n",
    "import torch.optim as optim\n",
    "from torch.nn.parallel import DistributedDataParallel as DDP\n",
    "import torch.distributed as dist\n",
    "from modules.mlp_model import MLP, SiameseMLP\n",
    "from modules.kan_model import DeepKAN, SiameseKAN\n",
    "import torch.nn as nn\n",
    "import scanpy as sc"
   ]
  },
  {
   "cell_type": "code",
   "execution_count": null,
   "id": "b47709c5-2f35-45ad-b445-ff7922e4ef77",
   "metadata": {},
   "outputs": [],
   "source": [
    "# sample_tag_mapping = {'SampleTag17_flex':'WT-DMSO',\n",
    "#                       'SampleTag18_flex':'3xTg-DMSO',\n",
    "#                       'SampleTag19_flex':'WT-SCDi',\n",
    "#                       'SampleTag20_flex':'3xTg-SCDi',\n",
    "#                       'Undetermined':'Undetermined',\n",
    "#                       'Multiplet':'Multiplet'}\n",
    "# adata = anndata.read_h5ad(\"data/fede_count.h5ad\")\n",
    "# adata.obs['Sample_Tag'] = adata.obs['Sample_Tag'].map(sample_tag_mapping)\n",
    "# anno_df = pd.read_csv(\"data/fede_mapping.csv\", skiprows=4)"
   ]
  },
  {
   "cell_type": "code",
   "execution_count": null,
   "id": "dcabb4ee-a1bc-4496-8faf-8b410e70c5bf",
   "metadata": {},
   "outputs": [],
   "source": [
    "adata1 = anndata.read_h5ad(\"data/A_count.h5ad\")\n",
    "adata1.obs['Sample_Tag'] = 'LD_5xFAD'\n",
    "adata2 = anndata.read_h5ad(\"data/B_count.h5ad\")\n",
    "adata2.obs['Sample_Tag'] = \"LD_NC\"\n",
    "adata3 = anndata.read_h5ad(\"data/C_count.h5ad\")\n",
    "adata3.obs['Sample_Tag'] = \"run_5xFAD\"\n",
    "adata4 = anndata.read_h5ad(\"data/D_count.h5ad\")\n",
    "adata4.obs['Sample_Tag'] = \"run_NC\"\n",
    "adata = anndata.concat([adata1, adata2, adata3, adata4], axis=0)\n",
    "\n",
    "anno_df1 = pd.read_csv(\"data/A_mapping.csv\", skiprows=4)\n",
    "anno_df2 = pd.read_csv(\"data/B_mapping.csv\", skiprows=4)\n",
    "anno_df3 = pd.read_csv(\"data/C_mapping.csv\", skiprows=4)\n",
    "anno_df4 = pd.read_csv(\"data/D_mapping.csv\", skiprows=4)\n",
    "anno_df = pd.concat([anno_df1, anno_df2, anno_df3, anno_df4])"
   ]
  },
  {
   "cell_type": "code",
   "execution_count": null,
   "id": "d8d09076-f7fa-466e-86ad-20edd42a6827",
   "metadata": {},
   "outputs": [],
   "source": [
    "adata = annotate_adata(adata, anno_df)"
   ]
  },
  {
   "cell_type": "code",
   "execution_count": null,
   "id": "25c3c763-2d21-42e5-a3e3-787b0bbe3f01",
   "metadata": {},
   "outputs": [],
   "source": [
    "sc.pp.filter_cells(adata, min_genes=150)\n",
    "sc.pp.filter_genes(adata, min_cells=3)\n",
    "adata.var['mt'] = adata.var_names.str.startswith('mt-')\n",
    "sc.pp.calculate_qc_metrics(adata, qc_vars=['mt'], percent_top=None, log1p=False, inplace=True)\n",
    "adata.obs['high_mt'] = adata.obs['pct_counts_mt'] > 5\n",
    "adata = adata[~adata.obs['high_mt'], :]\n",
    "#adata = adata[adata.obs['Sample_Tag'] != \"Multiplet\", :]\n",
    "#adata = adata[:, ~adata.var['mt']]"
   ]
  },
  {
   "cell_type": "code",
   "execution_count": null,
   "id": "d7d60e56-3636-4a59-ab0c-c0898dad7475",
   "metadata": {},
   "outputs": [],
   "source": [
    "sc.pp.normalize_total(adata, target_sum=1e4)\n",
    "#sc.pp.log1p(adata)\n",
    "#sc.pp.scale(adata)"
   ]
  },
  {
   "cell_type": "code",
   "execution_count": null,
   "id": "94458c32-f9c0-4b4a-bd00-785e188e6d7e",
   "metadata": {},
   "outputs": [],
   "source": [
    "unique_labels = {category: idx for idx, category in enumerate(adata.obs['Sample_Tag'].unique())}\n",
    "adata.obs['target'] = adata.obs['Sample_Tag'].map(unique_labels)"
   ]
  },
  {
   "cell_type": "code",
   "execution_count": null,
   "id": "57cbb726-d802-4290-a403-3e956c93d203",
   "metadata": {},
   "outputs": [],
   "source": []
  },
  {
   "cell_type": "code",
   "execution_count": null,
   "id": "e485a92b-ea77-4e7e-a11c-1b692540f47a",
   "metadata": {},
   "outputs": [],
   "source": [
    "train_indices, test_indices = train_test_split(np.arange(adata.n_obs), test_size=0.2, random_state=42)\n",
    "adata_train = adata[train_indices].copy()\n",
    "adata_test = adata[test_indices].copy()"
   ]
  },
  {
   "cell_type": "code",
   "execution_count": null,
   "id": "cb46b114-55b5-4d03-8f16-96d8d8c43c2f",
   "metadata": {},
   "outputs": [],
   "source": [
    "Y_train = np.array(adata_train.obs['target'].tolist())\n",
    "Y_test = np.array(adata_test.obs['target'].tolist())\n",
    "X_train = adata_train.X.toarray()\n",
    "X_test = adata_test.X.toarray()"
   ]
  },
  {
   "cell_type": "code",
   "execution_count": null,
   "id": "96136cfb-3984-4658-985a-06287bfe76cb",
   "metadata": {
    "scrolled": true
   },
   "outputs": [],
   "source": [
    "device = torch.device(\"cuda\" if torch.cuda.is_available() else \"cpu\")\n",
    "\n",
    "train_dataset = PairedDataset(X_train, Y_train, 5)\n",
    "train_loader = DataLoader(train_dataset, batch_size=512)\n",
    "\n",
    "test_dataset = PairedDataset(X_test, Y_test, 5)\n",
    "test_loader = DataLoader(test_dataset, batch_size=512)"
   ]
  },
  {
   "cell_type": "code",
   "execution_count": null,
   "id": "3e4b8c3f-f31d-49b9-b049-39b25ae1ea6b",
   "metadata": {},
   "outputs": [],
   "source": [
    "input_dim = X_train.shape[-1]\n",
    "shared_layers = [4096,1024,256,32]\n",
    "base_net = MLP(input_dim, shared_layers).to(device)\n",
    "siamese_model = SiameseMLP(base_net).to(device)"
   ]
  },
  {
   "cell_type": "code",
   "execution_count": null,
   "id": "4435e7e3-6854-4317-b331-60172b424890",
   "metadata": {},
   "outputs": [],
   "source": [
    "optimizer = optim.RMSprop(siamese_model.parameters(), lr=0.0001)"
   ]
  },
  {
   "cell_type": "code",
   "execution_count": null,
   "id": "fcd308c3-ecb0-4a47-9e76-6893f92d6ef8",
   "metadata": {
    "scrolled": true
   },
   "outputs": [],
   "source": [
    "epochs = 50\n",
    "best_accuracy = 0\n",
    "no_improvement_count = 0 \n",
    "\n",
    "for epoch in range(epochs):\n",
    "    train_loss = train_epoch(siamese_model, train_loader, optimizer, device, epoch)\n",
    "    val_accuracy = eval_model(siamese_model, test_loader, device, epoch)\n",
    "    print(f\"Epoch {epoch}, Train Loss: {train_loss}, Validation Accuracy: {val_accuracy}\")\n",
    "\n",
    "    if val_accuracy > best_accuracy:\n",
    "        best_accuracy = val_accuracy\n",
    "        no_improvement_count = 0  \n",
    "        torch.save(siamese_model.base_network.state_dict(), 'best_model.pth')\n",
    "        print(\"Model saved as best model\")\n",
    "    else:\n",
    "        no_improvement_count += 1  \n",
    "\n",
    "    if no_improvement_count >= 5:\n",
    "        print(\"No improvement in validation accuracy for 5 consecutive epochs. Training stopped.\")\n",
    "        break"
   ]
  },
  {
   "cell_type": "code",
   "execution_count": null,
   "id": "21486b45-967b-4fba-9d54-a5aad886f307",
   "metadata": {},
   "outputs": [],
   "source": []
  },
  {
   "cell_type": "code",
   "execution_count": null,
   "id": "3a4a05f6-03f0-4bef-af60-96defae208d2",
   "metadata": {},
   "outputs": [],
   "source": []
  },
  {
   "cell_type": "code",
   "execution_count": null,
   "id": "f771cc18-5dcb-49d2-ae22-91c8b08b7e79",
   "metadata": {},
   "outputs": [],
   "source": [
    "input_dim = X_train.shape[-1]\n",
    "shared_layers = [4096,1024,256,32]\n",
    "base_net = MLP(input_dim, shared_layers)\n",
    "model_path = 'best_model.pth'\n",
    "checkpoint = torch.load(model_path, map_location=device)\n",
    "base_net.load_state_dict(checkpoint)\n",
    "base_net.to(device)\n",
    "\n",
    "base_net.eval()\n",
    "base_net.cpu()"
   ]
  },
  {
   "cell_type": "code",
   "execution_count": null,
   "id": "d9679abd-3399-411a-9213-3c521e5695a2",
   "metadata": {},
   "outputs": [],
   "source": [
    "data = torch.tensor(adata_test.X.toarray(), dtype=torch.float32)\n",
    "latents = base_net(data)\n",
    "latents_np = latents.detach().numpy()"
   ]
  },
  {
   "cell_type": "code",
   "execution_count": null,
   "id": "508cb71a-620c-467c-8bb7-f0f5308af6c3",
   "metadata": {},
   "outputs": [],
   "source": [
    "adata_test.obsm['latents'] = latents_np"
   ]
  },
  {
   "cell_type": "code",
   "execution_count": null,
   "id": "0d888d00-ee15-4c91-9cc0-b14c8126501a",
   "metadata": {},
   "outputs": [],
   "source": [
    "sc.pp.neighbors(adata_test, use_rep='latents')\n",
    "sc.tl.leiden(adata_test, resolution=0.5)"
   ]
  },
  {
   "cell_type": "code",
   "execution_count": null,
   "id": "5f5cc89b-5d8f-4eff-8adb-be76f65a6f91",
   "metadata": {},
   "outputs": [],
   "source": [
    "sc.tl.umap(adata_test)"
   ]
  },
  {
   "cell_type": "code",
   "execution_count": null,
   "id": "945ce5ab-4f59-48a3-8754-b9a1378d67de",
   "metadata": {
    "scrolled": true
   },
   "outputs": [],
   "source": [
    "sc.pl.umap(adata_test, color=['leiden'], save='umap_leiden.png')\n",
    "sc.pl.umap(adata_test, color=['Sample_Tag'], save='umap_sampletag.png')"
   ]
  },
  {
   "cell_type": "code",
   "execution_count": null,
   "id": "77391f8b-ed82-4944-a903-4f406e9d20f0",
   "metadata": {},
   "outputs": [],
   "source": [
    "assign_unique_cell_type_names(adata_test, cluster_key='leiden', cluster_types=['class_name', 'subclass_name'])"
   ]
  },
  {
   "cell_type": "code",
   "execution_count": null,
   "id": "fe6e788a-9c86-49e7-a6f9-6e9372872844",
   "metadata": {},
   "outputs": [],
   "source": [
    "sc.pl.umap(adata_test, color=['cluster_subclass_name'], save='umap_all_groups.png', title=f'After QC - {adata_test.shape[0]} cells', size=10)"
   ]
  },
  {
   "cell_type": "code",
   "execution_count": null,
   "id": "49d84dc7-bc03-4cbc-9ea8-5874d96c3cdf",
   "metadata": {
    "scrolled": true
   },
   "outputs": [],
   "source": [
    "sc.pl.umap(adata_test, color=['Sample_Tag'], save='umap_all_groups.png', title=f'After QC - {adata_test.shape[0]} cells', size=10)"
   ]
  },
  {
   "cell_type": "code",
   "execution_count": null,
   "id": "40dceed6-85f0-466a-aea3-a1cba7a186e2",
   "metadata": {
    "scrolled": true
   },
   "outputs": [],
   "source": [
    "#sample_tags = adata_test.obs['Sample_Tag'].unique()\n",
    "#plot_umap(adata_test, cluster_type='cluster_subclass_name', legend_fontsize=7, save_path='_sample_tag')"
   ]
  },
  {
   "cell_type": "code",
   "execution_count": null,
   "id": "f130f124-9116-4cdc-a723-977d0295e479",
   "metadata": {},
   "outputs": [],
   "source": []
  },
  {
   "cell_type": "code",
   "execution_count": null,
   "id": "297a32ea-b635-4565-83e0-59bde8afe96b",
   "metadata": {},
   "outputs": [],
   "source": [
    "tags = adata_test.obs['Sample_Tag'].unique().tolist()"
   ]
  },
  {
   "cell_type": "code",
   "execution_count": null,
   "id": "e7c3f802-33ab-4e96-a95b-467c5a725a4a",
   "metadata": {},
   "outputs": [],
   "source": [
    "class_level, cluster_type = 'subclass_name', 'cluster_subclass_name'"
   ]
  },
  {
   "cell_type": "code",
   "execution_count": null,
   "id": "674be122-2999-4b92-ba4e-26963ad1c78d",
   "metadata": {},
   "outputs": [],
   "source": [
    "create_ditto_plot(adata_test, tags, class_level=class_level, cluster_type=cluster_type, min_cell=100, save_path='figures/dito_siamese.png')\n",
    "#create_ditto_plot(adata_test, [tags[0]], class_level=class_level, cluster_type=cluster_type, min_cell=100, save_path=None)\n",
    "#create_ditto_plot(adata_test, [tags[1]], class_level=class_level, cluster_type=cluster_type, min_cell=100, save_path=None)\n",
    "#create_ditto_plot(adata_test, [tags[2]], class_level=class_level, cluster_type=cluster_type, min_cell=100, save_path=None)\n",
    "#create_ditto_plot(adata_test, [tags[3]], class_level=class_level, cluster_type=cluster_type, min_cell=100, save_path=None)"
   ]
  },
  {
   "cell_type": "code",
   "execution_count": null,
   "id": "982a539d-12ec-46cc-9fe2-fea3dc41428b",
   "metadata": {},
   "outputs": [],
   "source": []
  },
  {
   "cell_type": "code",
   "execution_count": null,
   "id": "1e6ebc14-2c2d-49c6-b467-ddb6f268f1a3",
   "metadata": {},
   "outputs": [],
   "source": []
  }
 ],
 "metadata": {
  "kernelspec": {
   "display_name": "Python 3 (ipykernel)",
   "language": "python",
   "name": "python3"
  },
  "language_info": {
   "codemirror_mode": {
    "name": "ipython",
    "version": 3
   },
   "file_extension": ".py",
   "mimetype": "text/x-python",
   "name": "python",
   "nbconvert_exporter": "python",
   "pygments_lexer": "ipython3",
   "version": "3.10.12"
  }
 },
 "nbformat": 4,
 "nbformat_minor": 5
}
