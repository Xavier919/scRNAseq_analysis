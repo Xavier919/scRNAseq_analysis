{
 "cells": [
  {
   "cell_type": "code",
   "execution_count": 1,
   "id": "76f8e864",
   "metadata": {},
   "outputs": [
    {
     "name": "stderr",
     "output_type": "stream",
     "text": [
      "/home/client/projects/sc_alz/sc_env/lib/python3.10/site-packages/tqdm/auto.py:21: TqdmWarning: IProgress not found. Please update jupyter and ipywidgets. See https://ipywidgets.readthedocs.io/en/stable/user_install.html\n",
      "  from .autonotebook import tqdm as notebook_tqdm\n",
      "2024-06-06 18:52:08.983320: I tensorflow/core/platform/cpu_feature_guard.cc:210] This TensorFlow binary is optimized to use available CPU instructions in performance-critical operations.\n",
      "To enable the following instructions: AVX2 FMA, in other operations, rebuild TensorFlow with the appropriate compiler flags.\n",
      "2024-06-06 18:52:09.523344: W tensorflow/compiler/tf2tensorrt/utils/py_utils.cc:38] TF-TRT Warning: Could not find TensorRT\n"
     ]
    }
   ],
   "source": [
    "import pandas as pd\n",
    "import numpy as np\n",
    "import matplotlib.pyplot as plt\n",
    "import pickle\n",
    "from modules.process_data import *\n",
    "from modules.utils import *"
   ]
  },
  {
   "cell_type": "code",
   "execution_count": null,
   "id": "22c83674-9b17-4df5-980d-b662f5e4ce71",
   "metadata": {},
   "outputs": [],
   "source": []
  },
  {
   "cell_type": "code",
   "execution_count": null,
   "id": "18d14fda-9173-49b5-8139-82052a266b0f",
   "metadata": {},
   "outputs": [],
   "source": [
    "adata = anndata.read_h5ad(\"data/fede_count.h5ad\")\n",
    "anno_df = pd.read_csv(\"data/fede_mapping.csv\", skiprows=4)\n",
    "\n",
    "adata = rm_high_mt(adata, threshold=0.6)\n",
    "adata = filter_cells_by_gene_counts(adata)\n",
    "#sc.pp.normalize_total(adata)\n",
    "#sc.pp.log1p(adata)\n",
    "#sc.pp.scale(adata)\n",
    "\n",
    "sc_df = pd.DataFrame(adata.X.toarray() if hasattr(adata.X, 'toarray') else adata.X, index=adata.obs_names, columns=adata.var_names)\n",
    "sample_tags = pd.DataFrame(adata.obs.Sample_Tag)\n",
    "sc_df = sc_df.join(sample_tags)\n",
    "\n",
    "anno_df = anno_df.set_index('cell_id')[['class_name']]\n",
    "anno_df = anno_df['class_name'].map(mapping1)\n",
    "sc_df.index = sc_df.index.astype('int64')\n",
    "anno_df.index = anno_df.index.astype('int64')\n",
    "sc_df = sc_df.join(anno_df)\n",
    "\n",
    "sc_df = sc_df[~sc_df['Sample_Tag'].isin(['Multiplet', 'Undetermined'])]\n",
    "\n",
    "\n",
    "sc_df = sc_df[sc_df['Sample_Tag'].isin(['SampleTag17_flex'])]\n",
    "\n",
    "\n",
    "X = sc_df.drop(['Sample_Tag', 'class_name'], axis=1).values\n",
    "#Y = sc_df['Sample_Tag'].map(mapping2).astype(np.float32).values\n",
    "Y = sc_df['class_name'].astype(np.float32).values"
   ]
  },
  {
   "cell_type": "code",
   "execution_count": null,
   "id": "73081c95-685e-4edd-b681-685c2b531269",
   "metadata": {},
   "outputs": [],
   "source": []
  },
  {
   "cell_type": "code",
   "execution_count": null,
   "id": "137073ae-b17a-4170-961e-b5dc1028022d",
   "metadata": {},
   "outputs": [],
   "source": [
    "import numpy as np\n",
    "import matplotlib.pyplot as plt\n",
    "from sklearn.decomposition import PCA\n",
    "\n",
    "# Assuming your data is in a variable called X\n",
    "# Perform PCA and store explained variance ratios\n",
    "pca = PCA()\n",
    "pca.fit(X)\n",
    "explained_variance = np.cumsum(pca.explained_variance_ratio_)\n",
    "\n",
    "explained_variance_100 = explained_variance[:100]\n",
    "\n",
    "# Plot the explained variance to create an elbow plot\n",
    "plt.figure(figsize=(10, 6))\n",
    "plt.plot(range(1, len(explained_variance_100) + 1), explained_variance_100, marker='o', markersize=3, linestyle='-')\n",
    "plt.axhline(y=0.90, color='r', linestyle='--')  # 90% explained variance threshold\n",
    "plt.xlabel('Number of principal components')\n",
    "plt.ylabel('Cumulative explained variance')\n",
    "plt.title('Elbow plot for PCA')\n",
    "plt.grid(True)\n",
    "plt.savefig(\"elbow_plot_pca.png\")\n",
    "plt.show()"
   ]
  },
  {
   "cell_type": "code",
   "execution_count": null,
   "id": "aa41d97d-12fc-4300-9713-6fbb75472a8c",
   "metadata": {},
   "outputs": [],
   "source": [
    "# Assuming your data is in a variable called X\n",
    "# Perform PCA and store explained variance ratios\n",
    "pca = PCA()\n",
    "pca.fit(X)\n",
    "explained_variance_ratio = pca.explained_variance_ratio_\n",
    "\n",
    "# Limit to the first 100 dimensions\n",
    "explained_variance_ratio_100 = explained_variance_ratio[:100]\n",
    "\n",
    "# Plot the explained variance ratio to create a scree plot\n",
    "plt.figure(figsize=(10, 6))\n",
    "plt.bar(range(1, len(explained_variance_ratio_100) + 1), explained_variance_ratio_100, alpha=0.7, align='center')\n",
    "plt.xlabel('Principal component')\n",
    "plt.ylabel('Explained variance ratio')\n",
    "plt.title('Scree plot')\n",
    "plt.grid(True)\n",
    "plt.savefig(\"scree_plot_pca.png\")\n",
    "plt.show()"
   ]
  },
  {
   "cell_type": "code",
   "execution_count": null,
   "id": "80b1f4f4-cd45-4a1b-856e-fef5d3de64bd",
   "metadata": {},
   "outputs": [],
   "source": []
  },
  {
   "cell_type": "code",
   "execution_count": null,
   "id": "b7045705-98f4-4efd-a8aa-78677cc6b686",
   "metadata": {},
   "outputs": [],
   "source": [
    "# Use PCA to reduce dimensionality to the optimal number of components\n",
    "optimal_components = 17\n",
    "pca = PCA(n_components=optimal_components)\n",
    "X_pca = pca.fit_transform(X)"
   ]
  },
  {
   "cell_type": "code",
   "execution_count": null,
   "id": "5435e1ae-f368-469d-a22d-74e56db9bb40",
   "metadata": {},
   "outputs": [],
   "source": [
    "def visualize_umap(X, Y, mapping, n_neighbors_list):\n",
    "    unique_targets = np.unique(Y)\n",
    "    colors = plt.cm.jet(np.linspace(0, 1, len(unique_targets)))\n",
    "    markersize_scatter = 0.1\n",
    "    markersize_legend = 10\n",
    "\n",
    "    fig, axes = plt.subplots(1, len(n_neighbors_list), figsize=(20, 6))\n",
    "    \n",
    "    for ax, n_neighbors in zip(axes, n_neighbors_list):\n",
    "        umap_2d = umap.UMAP(n_neighbors=n_neighbors, n_components=2, random_state=42)\n",
    "        X_umap = umap_2d.fit_transform(X)\n",
    "\n",
    "        for target, color in zip(unique_targets, colors):\n",
    "            indices = np.where(Y == target)\n",
    "            ax.scatter(X_umap[indices, 0], X_umap[indices, 1], color=color, label=mapping[target], s=markersize_scatter)\n",
    "        \n",
    "        ax.set_title(f'n_neighbors = {n_neighbors}')\n",
    "        ax.set_xlabel('UMAP Dimension 1')\n",
    "        ax.set_ylabel('UMAP Dimension 2')\n",
    "\n",
    "    handles = [Line2D([0], [0], marker='o', color='w', markerfacecolor=color, markersize=markersize_legend, label=mapping[target])\n",
    "               for target, color in zip(unique_targets, colors)]\n",
    "    \n",
    "    fig.legend(handles=handles, loc='center left', bbox_to_anchor=(1, 0.5))\n",
    "    plt.tight_layout()\n",
    "    plt.grid(False)\n",
    "    plt.savefig('umap_optimal_neighbors.png', bbox_inches='tight')\n",
    "    plt.show()"
   ]
  },
  {
   "cell_type": "code",
   "execution_count": null,
   "id": "bf3c8f18-7919-4446-9c1b-72adf38a2845",
   "metadata": {},
   "outputs": [],
   "source": [
    "# Plot UMAP results for different n_neighbors values\n",
    "n_neighbors_list = [10, 25, 50, 75, 100, 150]\n",
    "visualize_umap(X_pca, Y, mapping, n_neighbors_list)"
   ]
  },
  {
   "cell_type": "code",
   "execution_count": null,
   "id": "99ef0064-10e5-4b2a-8e47-98c226515111",
   "metadata": {},
   "outputs": [],
   "source": []
  },
  {
   "cell_type": "code",
   "execution_count": null,
   "id": "ae33c472-1bf3-407d-a27d-85c1fa7262bb",
   "metadata": {},
   "outputs": [],
   "source": []
  },
  {
   "cell_type": "code",
   "execution_count": null,
   "id": "9feaca1b-11b0-4a28-a8ee-0e98ab24eae6",
   "metadata": {},
   "outputs": [],
   "source": []
  },
  {
   "cell_type": "code",
   "execution_count": null,
   "id": "c1337ba4-02ca-40f4-8718-87a0c4893aea",
   "metadata": {},
   "outputs": [],
   "source": [
    "df = sc_df.drop(['Sample_Tag', 'class_name'], axis=1)"
   ]
  },
  {
   "cell_type": "code",
   "execution_count": null,
   "id": "81d4fdf2-9b6f-475e-ab28-685e140d8452",
   "metadata": {},
   "outputs": [],
   "source": [
    "import pandas as pd\n",
    "\n",
    "# Assuming df is your DataFrame\n",
    "# Filter out columns starting with 'mt-'\n",
    "filtered_df = df.loc[:, ~df.columns.str.startswith('mt-')]\n",
    "\n",
    "# Calculate the mean of each column in the filtered DataFrame\n",
    "mean_values = filtered_df.mean()\n",
    "\n",
    "# Get the top 10 columns with the highest mean value\n",
    "top_10_columns = mean_values.nlargest(10)\n",
    "\n",
    "# Print the top 10 columns\n",
    "print(top_10_columns)\n"
   ]
  },
  {
   "cell_type": "code",
   "execution_count": null,
   "id": "1fcf024c-567a-44c9-86ce-742fcc90d7c0",
   "metadata": {},
   "outputs": [],
   "source": [
    "import pandas as pd\n",
    "import matplotlib.pyplot as plt\n",
    "\n",
    "# Assuming df is your DataFrame\n",
    "gene_id = 'Malat1'\n",
    "# Check if 'Malat1' is a column in the DataFrame\n",
    "if gene_id in df.columns:\n",
    "    # Print basic statistical measures\n",
    "    print(df[gene_id].describe())\n",
    "    \n",
    "    # Plot the distribution using a histogram\n",
    "    plt.figure(figsize=(10, 6))\n",
    "    plt.hist(df[gene_id], bins=100, edgecolor='black')\n",
    "    plt.title(f'Distribution of {gene_id} gene read count')\n",
    "    plt.xlabel(f'{gene_id} read count')\n",
    "    plt.ylabel('Number of cells')\n",
    "    plt.savefig(f\"histo_{gene_id}_counts.png\")\n",
    "    plt.show()\n",
    "    \n",
    "    # Plot the distribution using a boxplot\n",
    "    plt.figure(figsize=(10, 6))\n",
    "    plt.boxplot(df[gene_id], vert=False)\n",
    "    plt.title(f'Boxplot of {gene_id} gene read count')\n",
    "    plt.xlabel(f'{gene_id} read count')\n",
    "    plt.ylabel('Number of cells')\n",
    "    plt.savefig(f\"boxplot_{gene_id}_counts.png\")\n",
    "    plt.show()"
   ]
  },
  {
   "cell_type": "code",
   "execution_count": null,
   "id": "db06d6a4-6908-4d79-bca9-58f3f1fe32c7",
   "metadata": {},
   "outputs": [],
   "source": []
  },
  {
   "cell_type": "code",
   "execution_count": null,
   "id": "b506d984-e9d8-467d-96f3-cec711ae05e7",
   "metadata": {},
   "outputs": [],
   "source": []
  },
  {
   "cell_type": "code",
   "execution_count": null,
   "id": "9505b964-1ad3-40a5-9b37-c9ec071ff141",
   "metadata": {},
   "outputs": [],
   "source": []
  },
  {
   "cell_type": "code",
   "execution_count": 10,
   "id": "9408454c-9904-4aff-85a2-426b3cb92bb8",
   "metadata": {},
   "outputs": [
    {
     "name": "stdout",
     "output_type": "stream",
     "text": [
      "    gene     pvals  pvals_adj  logfoldchanges\n",
      "0  gene3  0.438578   0.584771        0.302036\n",
      "1  gene1  0.438578   0.584771        0.621965\n"
     ]
    }
   ],
   "source": [
    "import scanpy as sc\n",
    "import pandas as pd\n",
    "import numpy as np\n",
    "\n",
    "# Assuming you have a count matrix `count_data` and sample information `sample_info` in pandas DataFrames\n",
    "\n",
    "# Create an AnnData object\n",
    "# Let's assume count_data is your gene expression matrix (samples x genes)\n",
    "# and sample_info contains a column 'condition' with the experimental conditions\n",
    "\n",
    "count_data = pd.DataFrame({\n",
    "    'gene1': [100, 200, 150, 300],\n",
    "    'gene2': [400, 500, 450, 350],\n",
    "    'gene3': [300, 200, 250, 150],\n",
    "    'gene4': [100, 100, 100, 100]\n",
    "}, index=['sample1', 'sample2', 'sample3', 'sample4']).astype(float)  # Ensure data is float\n",
    "\n",
    "sample_info = pd.DataFrame({\n",
    "    'condition': ['A', 'A', 'B', 'B']\n",
    "}, index=['sample1', 'sample2', 'sample3', 'sample4'])\n",
    "\n",
    "# Create an AnnData object\n",
    "adata = sc.AnnData(count_data.values, obs=sample_info)\n",
    "\n",
    "# Set the variable names (gene names)\n",
    "adata.var_names = count_data.columns\n",
    "\n",
    "# Set the observation names (sample names)\n",
    "adata.obs_names = count_data.index\n",
    "\n",
    "# Log-normalize the data\n",
    "sc.pp.normalize_per_cell(adata, counts_per_cell_after=1e4)\n",
    "sc.pp.log1p(adata)\n",
    "\n",
    "# Perform differential expression analysis\n",
    "sc.tl.rank_genes_groups(adata, groupby='condition', method='wilcoxon')\n",
    "\n",
    "# Extract the results\n",
    "results = adata.uns['rank_genes_groups']\n",
    "\n",
    "# Convert results to a pandas DataFrame\n",
    "gene_names = results['names'].tolist()\n",
    "pvals = results['pvals'].tolist()\n",
    "pvals_adj = results['pvals_adj'].tolist()  # Adjusted p-values\n",
    "logfoldchanges = results['logfoldchanges'].tolist()\n",
    "\n",
    "# Create a DataFrame with the results\n",
    "df_results = pd.DataFrame({\n",
    "    'gene': gene_names[0],\n",
    "    'pvals': pvals[0],\n",
    "    'pvals_adj': pvals_adj[0],  # Add adjusted p-values\n",
    "    'logfoldchanges': logfoldchanges[0]\n",
    "})\n",
    "\n",
    "# Print the results\n",
    "print(df_results)\n"
   ]
  },
  {
   "cell_type": "code",
   "execution_count": null,
   "id": "2b745cce-54a6-42cc-8a6f-eb5e1ffb7d7c",
   "metadata": {},
   "outputs": [],
   "source": []
  },
  {
   "cell_type": "code",
   "execution_count": null,
   "id": "6251cb3e-ee7e-4140-ae46-655057178366",
   "metadata": {},
   "outputs": [],
   "source": []
  },
  {
   "cell_type": "code",
   "execution_count": null,
   "id": "10f0dda7-fc6d-43ff-949b-eea773b5c2ba",
   "metadata": {},
   "outputs": [],
   "source": []
  },
  {
   "cell_type": "code",
   "execution_count": null,
   "id": "947dcfd0-e060-413c-857f-c57e7fa7009c",
   "metadata": {},
   "outputs": [],
   "source": []
  },
  {
   "cell_type": "code",
   "execution_count": null,
   "id": "d9132e69-4d52-46b8-a559-7518f3207856",
   "metadata": {},
   "outputs": [],
   "source": []
  },
  {
   "cell_type": "code",
   "execution_count": null,
   "id": "b3722f83-fcaa-4bd4-b38b-bacbce3774e2",
   "metadata": {},
   "outputs": [],
   "source": [
    "!python \"modules/train_script.py\" 256 15 0.0001 5 0 kan -s_layers 256 32"
   ]
  },
  {
   "cell_type": "code",
   "execution_count": null,
   "id": "ccd775f7-76b6-4d80-9a0c-e34266c76c5f",
   "metadata": {},
   "outputs": [],
   "source": []
  },
  {
   "cell_type": "code",
   "execution_count": null,
   "id": "d823cf1d-2f6d-40d9-bf10-1ecd8afcdd92",
   "metadata": {},
   "outputs": [],
   "source": [
    "!python \"modules/eval_script.py\" kan kan_0_5_32.pth 0 -s_layers 256 32"
   ]
  },
  {
   "cell_type": "code",
   "execution_count": null,
   "id": "e0211cc6-af0f-479f-b606-8a483ffceee1",
   "metadata": {},
   "outputs": [],
   "source": []
  },
  {
   "cell_type": "code",
   "execution_count": null,
   "id": "f00f8afe-9cb2-4186-b7cf-51176d9ce368",
   "metadata": {},
   "outputs": [],
   "source": [
    "X, Y = pickle.load(open('embed_kan_0_5_32.pth.pkl', 'rb'))"
   ]
  },
  {
   "cell_type": "code",
   "execution_count": null,
   "id": "dc0d8d98-b476-4d1c-b4e6-3b526b10c5d9",
   "metadata": {},
   "outputs": [],
   "source": [
    "#PCA dim. reduction\n",
    "#pca = PCA(n_components=10, random_state=42)\n",
    "#pca_result = pca.fit_transform(X)"
   ]
  },
  {
   "cell_type": "code",
   "execution_count": null,
   "id": "e6169cfd-a0a6-4160-a994-52e1bdbc24cc",
   "metadata": {},
   "outputs": [],
   "source": [
    "#UMAP dim. reduction\n",
    "reducer = UMAP(n_neighbors=100, n_components=2, random_state=42)\n",
    "umap_result = reducer.fit_transform(X)"
   ]
  },
  {
   "cell_type": "code",
   "execution_count": null,
   "id": "678deca8-8f3c-4bef-8ecf-bbb779f162b5",
   "metadata": {},
   "outputs": [],
   "source": [
    "mapping2 = {'LD_5xFAD': 1,\n",
    "            'LD_NC': 2,\n",
    "            'run_5xFAD': 3,\n",
    "            'run_NC': 4}\n",
    "\n",
    "mapping2 = {'Multiplet': 1,\n",
    "            'SampleTag17_flex': 2,\n",
    "            'SampleTag18_flex': 3,\n",
    "            'SampleTag19_flex': 4,\n",
    "            'SampleTag20_flex': 5,\n",
    "            'Undetermined': 6}"
   ]
  },
  {
   "cell_type": "code",
   "execution_count": null,
   "id": "2f1b6208-7b65-4580-a99f-44280205c122",
   "metadata": {},
   "outputs": [],
   "source": [
    "mapping = {y:x for x,y in mapping1.items()}"
   ]
  },
  {
   "cell_type": "code",
   "execution_count": null,
   "id": "9462adea-3df0-440e-86f1-7f9136cc096b",
   "metadata": {},
   "outputs": [],
   "source": [
    "visualize_umap(umap_result, Y, mapping)"
   ]
  },
  {
   "cell_type": "code",
   "execution_count": null,
   "id": "52a113f7-4642-4469-ba5a-9a618fcff37b",
   "metadata": {},
   "outputs": [],
   "source": [
    "#KMEANS clustering\n",
    "kmeans = KMeans(n_clusters=2, random_state=42)\n",
    "kmeans_result = kmeans.fit_predict(umap_result)"
   ]
  },
  {
   "cell_type": "code",
   "execution_count": null,
   "id": "d87f554f-e190-4afb-a6bf-bbaa1d47c352",
   "metadata": {},
   "outputs": [],
   "source": [
    "#DBSCAN clustering\n",
    "dbscan = DBSCAN(eps=0.5, min_samples=100)\n",
    "dbscan_result = dbscan.fit_predict(umap_result)"
   ]
  },
  {
   "cell_type": "code",
   "execution_count": null,
   "id": "3e310498-6317-47c7-8370-e20723204afe",
   "metadata": {},
   "outputs": [],
   "source": [
    "get_clustering(umap_result, dbscan_result)"
   ]
  },
  {
   "cell_type": "code",
   "execution_count": null,
   "id": "d79be293-1a39-4612-be79-c13ecc8d0791",
   "metadata": {
    "scrolled": true
   },
   "outputs": [],
   "source": [
    "cluster_composition = get_cluster_composition(dbscan_result, Y)"
   ]
  },
  {
   "cell_type": "code",
   "execution_count": null,
   "id": "d2f148ab-39e7-40af-b17d-1d07f3debb66",
   "metadata": {},
   "outputs": [],
   "source": []
  },
  {
   "cell_type": "code",
   "execution_count": null,
   "id": "c89a0ccc-fb27-4a47-89f1-d68384d3dca5",
   "metadata": {},
   "outputs": [],
   "source": [
    "plot_cluster_composition(cluster_composition, mapping)"
   ]
  },
  {
   "cell_type": "code",
   "execution_count": null,
   "id": "7e3172b9-330c-4466-8c0e-fc7ed701b113",
   "metadata": {},
   "outputs": [],
   "source": []
  },
  {
   "cell_type": "code",
   "execution_count": null,
   "id": "011fcec4-2f2e-4e7d-9e75-9cd42af4dbf2",
   "metadata": {},
   "outputs": [],
   "source": [
    "get_pie_chart(cluster_composition[2], mapping, min_pct=5)"
   ]
  },
  {
   "cell_type": "code",
   "execution_count": null,
   "id": "a8ddd363-85dd-4473-93f8-dee004aa0b07",
   "metadata": {},
   "outputs": [],
   "source": []
  },
  {
   "cell_type": "code",
   "execution_count": null,
   "id": "09454f7f-603e-47e8-aa03-4f2588c25457",
   "metadata": {},
   "outputs": [],
   "source": []
  },
  {
   "cell_type": "code",
   "execution_count": null,
   "id": "7196ae98-3a79-4052-925f-a85397d13152",
   "metadata": {},
   "outputs": [],
   "source": []
  },
  {
   "cell_type": "code",
   "execution_count": null,
   "id": "072b827f-9d89-425f-a914-22bdcd7dfbe7",
   "metadata": {},
   "outputs": [],
   "source": []
  },
  {
   "cell_type": "code",
   "execution_count": null,
   "id": "372b5ba5-1dfd-4796-85ab-a2cfe6242499",
   "metadata": {},
   "outputs": [],
   "source": []
  },
  {
   "cell_type": "code",
   "execution_count": null,
   "id": "e219fea8-da9f-4f06-8cf6-9e4f69f05355",
   "metadata": {},
   "outputs": [],
   "source": []
  },
  {
   "cell_type": "code",
   "execution_count": null,
   "id": "68512abf-6320-4f84-84de-6e69d86a8fb8",
   "metadata": {},
   "outputs": [],
   "source": []
  },
  {
   "cell_type": "code",
   "execution_count": null,
   "id": "13688a52-57be-4ed8-8672-7bd5871ea96b",
   "metadata": {},
   "outputs": [],
   "source": [
    "from torch import nn\n",
    "from modules.kan_model import DeepKAN\n",
    "import torch\n",
    "from matplotlib import pyplot as plt"
   ]
  },
  {
   "cell_type": "code",
   "execution_count": null,
   "id": "2021d0fa-a9d3-4095-8421-ab1727f324bc",
   "metadata": {},
   "outputs": [],
   "source": [
    "device = torch.device(\"cuda\" if torch.cuda.is_available() else \"cpu\")"
   ]
  },
  {
   "cell_type": "code",
   "execution_count": null,
   "id": "653f3ed3-b8e0-4d7c-832f-0577a73ec85b",
   "metadata": {},
   "outputs": [],
   "source": [
    "input_dim = 29535\n",
    "shared_layers = [1024,256,32]\n",
    "num_knots = 5\n",
    "spline_order = 3\n",
    "noise_scale = 0.1\n",
    "base_scale = 1.0\n",
    "spline_scale = 1.0\n",
    "activation = nn.SiLU\n",
    "grid_epsilon = 0.02\n",
    "grid_range = [-1, 1]"
   ]
  },
  {
   "cell_type": "code",
   "execution_count": null,
   "id": "7fdf8d6c-9f14-4722-aa32-340b68607396",
   "metadata": {},
   "outputs": [],
   "source": [
    "base_net = DeepKAN(input_dim, shared_layers, num_knots, spline_order,\n",
    "                noise_scale, base_scale, spline_scale, activation, grid_epsilon, grid_range)"
   ]
  },
  {
   "cell_type": "code",
   "execution_count": null,
   "id": "ffe488ff-9991-4c81-86e4-0ed2ca3e7808",
   "metadata": {},
   "outputs": [],
   "source": [
    "model_path = \"kan_0_5_32.pth\"\n",
    "checkpoint = torch.load(model_path, map_location=device)\n",
    "base_net.load_state_dict(checkpoint)\n",
    "base_net.to(device)"
   ]
  },
  {
   "cell_type": "code",
   "execution_count": null,
   "id": "2d89ccd8-1e82-4173-8025-e43c80a11f13",
   "metadata": {},
   "outputs": [],
   "source": [
    "# Prune the network\n",
    "pruning_threshold = 0.01\n",
    "base_net.prune_network(pruning_threshold)\n",
    "mask = [(param != 0).float() for param in base_net.parameters()]\n",
    "def apply_pruning_mask(model, mask):\n",
    "    with torch.no_grad():\n",
    "        for param, mask in zip(model.parameters(), mask):\n",
    "            param.mul_(mask)\n",
    "apply_pruning_mask(base_net, mask)"
   ]
  },
  {
   "cell_type": "code",
   "execution_count": null,
   "id": "181194dd-83be-4623-967b-488828ad7f1d",
   "metadata": {},
   "outputs": [],
   "source": []
  },
  {
   "cell_type": "code",
   "execution_count": null,
   "id": "f6311584-af9d-401d-87a3-589ea4db5bbc",
   "metadata": {},
   "outputs": [],
   "source": []
  },
  {
   "cell_type": "code",
   "execution_count": null,
   "id": "bdd0c97a-f20b-459f-ad95-0c1492811651",
   "metadata": {},
   "outputs": [],
   "source": [
    "def print_network_parameters(model):\n",
    "    for i, layer in enumerate(model.layers):\n",
    "        print(f\"Layer {i + 1}:\")\n",
    "        print(\"Base Weights:\")\n",
    "        print(layer.base_weights.data)\n",
    "        print(\"Spline Weights:\")\n",
    "        print(layer.spline_weights.data)\n",
    "        if layer.standalone_spline_scaling:\n",
    "            print(\"Spline Scales:\")\n",
    "            print(layer.spline_scales.data)\n",
    "        print(\"-\" * 50)"
   ]
  },
  {
   "cell_type": "code",
   "execution_count": null,
   "id": "96f032f2-06ca-4780-a66a-61cb6e3edbd4",
   "metadata": {},
   "outputs": [],
   "source": [
    "print_network_parameters(base_net)"
   ]
  },
  {
   "cell_type": "code",
   "execution_count": null,
   "id": "76c9c2cb-ef6e-4367-bcc8-ed52559c8131",
   "metadata": {},
   "outputs": [],
   "source": [
    "plt.plot(base_net.layers[0].spline_weights[0][0].cpu().detach().numpy())"
   ]
  },
  {
   "cell_type": "code",
   "execution_count": null,
   "id": "00652c32-df25-4217-be44-b48719a16206",
   "metadata": {},
   "outputs": [],
   "source": []
  }
 ],
 "metadata": {
  "kernelspec": {
   "display_name": "Python 3 (ipykernel)",
   "language": "python",
   "name": "python3"
  },
  "language_info": {
   "codemirror_mode": {
    "name": "ipython",
    "version": 3
   },
   "file_extension": ".py",
   "mimetype": "text/x-python",
   "name": "python",
   "nbconvert_exporter": "python",
   "pygments_lexer": "ipython3",
   "version": "3.10.12"
  }
 },
 "nbformat": 4,
 "nbformat_minor": 5
}
