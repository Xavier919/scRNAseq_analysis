{
 "cells": [
  {
   "cell_type": "markdown",
   "id": "980305df-b398-4336-9a85-7cfb6a026059",
   "metadata": {},
   "source": [
    "# Packages"
   ]
  },
  {
   "cell_type": "code",
   "execution_count": 1,
   "id": "3e0832ba-64e1-403c-a7c0-a62e8d2ad1ef",
   "metadata": {},
   "outputs": [
    {
     "name": "stderr",
     "output_type": "stream",
     "text": [
      "/home/client/projects/sc_alz/sc_env/lib/python3.10/site-packages/tqdm/auto.py:21: TqdmWarning: IProgress not found. Please update jupyter and ipywidgets. See https://ipywidgets.readthedocs.io/en/stable/user_install.html\n",
      "  from .autonotebook import tqdm as notebook_tqdm\n",
      "2024-06-26 10:22:29.456498: I tensorflow/core/platform/cpu_feature_guard.cc:210] This TensorFlow binary is optimized to use available CPU instructions in performance-critical operations.\n",
      "To enable the following instructions: AVX2 FMA, in other operations, rebuild TensorFlow with the appropriate compiler flags.\n",
      "2024-06-26 10:22:30.265512: W tensorflow/compiler/tf2tensorrt/utils/py_utils.cc:38] TF-TRT Warning: Could not find TensorRT\n"
     ]
    }
   ],
   "source": [
    "import torch\n",
    "import torch.optim as optim\n",
    "from torch.utils.data import DataLoader, TensorDataset, random_split\n",
    "import torch.nn as nn\n",
    "import torch.nn.functional as F\n",
    "import umap\n",
    "import pandas as pd\n",
    "import anndata\n",
    "import scanpy as sc\n",
    "import numpy as np\n",
    "from collections import Counter\n",
    "from sklearn.model_selection import train_test_split\n",
    "from modules.sparse_autoencoder import *\n",
    "import pickle\n",
    "from tqdm import tqdm\n",
    "from modules.deg_analysis import *\n",
    "from modules.visualize import *\n",
    "from sklearn.neighbors import NearestNeighbors"
   ]
  },
  {
   "cell_type": "code",
   "execution_count": null,
   "id": "64dce7e4-2985-4dae-9096-9f7c1562bd4e",
   "metadata": {},
   "outputs": [],
   "source": []
  },
  {
   "cell_type": "markdown",
   "id": "92274e19-fb5e-4f17-b2d7-2d9263aea094",
   "metadata": {},
   "source": [
    "# Import dataset and annotation"
   ]
  },
  {
   "cell_type": "code",
   "execution_count": null,
   "id": "28445e7b-e34b-424a-bd62-55ab2cb4627a",
   "metadata": {},
   "outputs": [],
   "source": [
    "# sample_tag_mapping = {'SampleTag17_flex':'WT-DMSO',\n",
    "#                       'SampleTag18_flex':'3xTg-DMSO',\n",
    "#                       'SampleTag19_flex':'WT-SCDi',\n",
    "#                       'SampleTag20_flex':'3xTg-SCDi',\n",
    "#                       'Undetermined':'Undetermined',\n",
    "#                       'Multiplet':'Multiplet'}\n",
    "# adata = anndata.read_h5ad(\"data/fede_count.h5ad\")\n",
    "# adata.obs['Sample_Tag'] = adata.obs['Sample_Tag'].map(sample_tag_mapping)\n",
    "# anno_df = pd.read_csv(\"data/fede_mapping.csv\", skiprows=4)"
   ]
  },
  {
   "cell_type": "code",
   "execution_count": null,
   "id": "621b34d4-8fac-401c-a4cb-3055e90afa6f",
   "metadata": {
    "scrolled": true
   },
   "outputs": [],
   "source": [
    "adata1 = anndata.read_h5ad(\"data/A_count.h5ad\")\n",
    "adata1.obs['Sample_Tag'] = 'LD_5xFAD'\n",
    "adata2 = anndata.read_h5ad(\"data/B_count.h5ad\")\n",
    "adata2.obs['Sample_Tag'] = \"LD_NC\"\n",
    "adata3 = anndata.read_h5ad(\"data/C_count.h5ad\")\n",
    "adata3.obs['Sample_Tag'] = \"run_5xFAD\"\n",
    "adata4 = anndata.read_h5ad(\"data/D_count.h5ad\")\n",
    "adata4.obs['Sample_Tag'] = \"run_NC\"\n",
    "adata = anndata.concat([adata1, adata2, adata3, adata4], axis=0)\n",
    "\n",
    "anno_df1 = pd.read_csv(\"data/A_mapping.csv\", skiprows=4)\n",
    "anno_df2 = pd.read_csv(\"data/B_mapping.csv\", skiprows=4)\n",
    "anno_df3 = pd.read_csv(\"data/C_mapping.csv\", skiprows=4)\n",
    "anno_df4 = pd.read_csv(\"data/D_mapping.csv\", skiprows=4)\n",
    "anno_df = pd.concat([anno_df1, anno_df2, anno_df3, anno_df4])"
   ]
  },
  {
   "cell_type": "code",
   "execution_count": null,
   "id": "97ce3e01-2c8a-4edc-b142-1d491e3836b7",
   "metadata": {},
   "outputs": [],
   "source": [
    "adata = annotate_adata(adata, anno_df)"
   ]
  },
  {
   "cell_type": "code",
   "execution_count": null,
   "id": "d6e143bc-78bf-4ef1-890a-890b38d92161",
   "metadata": {},
   "outputs": [],
   "source": []
  },
  {
   "cell_type": "markdown",
   "id": "a8076866-808c-495b-9ee8-b29d035ce55b",
   "metadata": {},
   "source": [
    "# Data preprocessing"
   ]
  },
  {
   "cell_type": "code",
   "execution_count": null,
   "id": "65342c51-8235-4662-bc4f-df68563be98b",
   "metadata": {},
   "outputs": [],
   "source": [
    "sc.pp.filter_cells(adata, min_genes=150)\n",
    "sc.pp.filter_genes(adata, min_cells=3)"
   ]
  },
  {
   "cell_type": "code",
   "execution_count": null,
   "id": "27ce574d-582e-4a2e-b2a8-55decd29c7c2",
   "metadata": {
    "scrolled": true
   },
   "outputs": [],
   "source": [
    "adata.var['mt'] = adata.var_names.str.startswith('mt-')\n",
    "sc.pp.calculate_qc_metrics(adata, qc_vars=['mt'], percent_top=None, log1p=False, inplace=True)\n",
    "adata.obs['high_mt'] = adata.obs['pct_counts_mt'] > 5"
   ]
  },
  {
   "cell_type": "code",
   "execution_count": null,
   "id": "cf5b7fb6-8c36-4d49-99d5-cda9925913a4",
   "metadata": {},
   "outputs": [],
   "source": [
    "adata = adata[~adata.obs['high_mt'], :]\n",
    "adata = adata[adata.obs['Sample_Tag'] != \"Multiplet\", :]"
   ]
  },
  {
   "cell_type": "code",
   "execution_count": null,
   "id": "6679cea8-94e8-42cd-9898-068582b5363c",
   "metadata": {},
   "outputs": [],
   "source": [
    "adata = adata[:, ~adata.var['mt']]"
   ]
  },
  {
   "cell_type": "code",
   "execution_count": null,
   "id": "3529145f-fef5-4b83-91db-168b8ed62bd0",
   "metadata": {},
   "outputs": [],
   "source": []
  },
  {
   "cell_type": "markdown",
   "id": "2a9260ef-80e2-424c-826f-e98e09e505c9",
   "metadata": {},
   "source": [
    "# Train/Test split"
   ]
  },
  {
   "cell_type": "code",
   "execution_count": null,
   "id": "850b736f-67fd-44e0-a478-6fee9ce5d8de",
   "metadata": {},
   "outputs": [],
   "source": [
    "train_indices, test_indices = train_test_split(np.arange(adata.n_obs), test_size=0.2, random_state=42)\n",
    "adata_train = adata[train_indices].copy()\n",
    "adata_test = adata[test_indices].copy()\n",
    "train_dataset = AnnDataDataset(adata_train)\n",
    "test_dataset = AnnDataDataset(adata_test)\n",
    "n_inputs = adata.var.index.values.shape[0]\n",
    "device = torch.device(\"cuda\" if torch.cuda.is_available() else \"cpu\")\n",
    "train_loader = DataLoader(train_dataset, batch_size=256, shuffle=True)\n",
    "test_loader = DataLoader(test_dataset, batch_size=256, shuffle=False)"
   ]
  },
  {
   "cell_type": "code",
   "execution_count": null,
   "id": "5f49563e-fe29-4b2f-83cf-b335172589bd",
   "metadata": {},
   "outputs": [],
   "source": []
  },
  {
   "cell_type": "code",
   "execution_count": null,
   "id": "b7c9f938-694c-493a-a209-ed79d78190b1",
   "metadata": {},
   "outputs": [],
   "source": []
  },
  {
   "cell_type": "markdown",
   "id": "fb504adb-4428-4b0d-bad0-4644dbacbed1",
   "metadata": {},
   "source": [
    "# Train model"
   ]
  },
  {
   "cell_type": "code",
   "execution_count": null,
   "id": "7f359cd0-4bf8-4768-bc86-c1c1080538ca",
   "metadata": {
    "scrolled": true
   },
   "outputs": [],
   "source": [
    "autoencoder = Autoencoder(n_latents=32, \n",
    "                          n_inputs=n_inputs, \n",
    "                          activation=TopK(k=16), \n",
    "                          tied=True, \n",
    "                          normalize=True)\n",
    "autoencoder.to(device)\n",
    "\n",
    "train_autoencoder(autoencoder, \n",
    "                  train_loader, \n",
    "                  test_loader,\n",
    "                  device,\n",
    "                  num_epochs=100, \n",
    "                  learning_rate=0.0001, \n",
    "                  prune_interval=10,\n",
    "                  prune_amount=0.95)"
   ]
  },
  {
   "cell_type": "code",
   "execution_count": null,
   "id": "99371a04-b5fd-4de1-892d-43d25ddae9e7",
   "metadata": {},
   "outputs": [],
   "source": []
  },
  {
   "cell_type": "markdown",
   "id": "88995614-61e7-418d-9d2b-1aad74599a02",
   "metadata": {},
   "source": [
    "# Load trained model"
   ]
  },
  {
   "cell_type": "code",
   "execution_count": null,
   "id": "1a13b466-6523-478b-9e3d-d73c4b8df452",
   "metadata": {},
   "outputs": [],
   "source": [
    "autoencoder = Autoencoder(n_latents=32, n_inputs=n_inputs, activation=TopK(k=16), tied=True, normalize=True).to(device)\n",
    "state_dict = torch.load('best_autoencoder.pth')\n",
    "model_state_dict = autoencoder.state_dict()\n",
    "filtered_state_dict = {k: v for k, v in state_dict.items() if k in model_state_dict}\n",
    "autoencoder.load_state_dict(filtered_state_dict, strict=False)\n",
    "autoencoder.eval()\n",
    "autoencoder.cpu()\n",
    "apply_pruning(autoencoder, amount=0.95)"
   ]
  },
  {
   "cell_type": "code",
   "execution_count": null,
   "id": "5ea0e83b-d5eb-4e5b-be3f-fb315d3538f8",
   "metadata": {},
   "outputs": [],
   "source": []
  },
  {
   "cell_type": "markdown",
   "id": "4fd9cc8a-35ca-4ff6-b43e-a2175dc1d718",
   "metadata": {},
   "source": [
    "# Extract latent representations"
   ]
  },
  {
   "cell_type": "code",
   "execution_count": null,
   "id": "67a1d504-1dec-449b-9db2-6cc287154631",
   "metadata": {},
   "outputs": [],
   "source": [
    "data = torch.tensor(adata_test.X.toarray(), dtype=torch.float32)\n",
    "latents, _ = autoencoder.encode(data)\n",
    "latents_np = latents.detach().numpy()"
   ]
  },
  {
   "cell_type": "code",
   "execution_count": null,
   "id": "2b2ded61-4c0d-4226-bfe2-59e37b31245c",
   "metadata": {},
   "outputs": [],
   "source": [
    "# Insert the latents into adata_test.obsm\n",
    "adata_test.obsm['latents'] = latents_np"
   ]
  },
  {
   "cell_type": "markdown",
   "id": "f3e28431-fe9d-42b6-abe4-3f766e7e0854",
   "metadata": {},
   "source": [
    "# Clustering"
   ]
  },
  {
   "cell_type": "code",
   "execution_count": null,
   "id": "dc95cf4b-de55-4d31-a02a-3179abd77e0a",
   "metadata": {},
   "outputs": [],
   "source": [
    "# Clustering using 'latents'\n",
    "sc.pp.neighbors(adata_test, use_rep='latents')\n",
    "sc.tl.leiden(adata_test, resolution=0.5)"
   ]
  },
  {
   "cell_type": "markdown",
   "id": "f20dd677-255d-4697-af59-aee5ec6da802",
   "metadata": {},
   "source": [
    "# Visualization"
   ]
  },
  {
   "cell_type": "code",
   "execution_count": null,
   "id": "facc3ead-18ed-4797-b052-92acfd996924",
   "metadata": {},
   "outputs": [],
   "source": [
    "# UMAP\n",
    "sc.tl.umap(adata_test)"
   ]
  },
  {
   "cell_type": "code",
   "execution_count": null,
   "id": "592d5d90-11ae-4ae7-840d-9ff3cbe6a79c",
   "metadata": {},
   "outputs": [],
   "source": []
  },
  {
   "cell_type": "code",
   "execution_count": null,
   "id": "f46f6d1a-d7ef-4305-bb69-526758257ba6",
   "metadata": {
    "scrolled": true
   },
   "outputs": [],
   "source": [
    "# Plotting\n",
    "sc.pl.umap(adata_test, color=['leiden'], save='umap_leiden.png')\n",
    "sc.pl.umap(adata_test, color=['Sample_Tag'], save='umap_sampletag.png')\n",
    "sc.pl.umap(adata_test, color=['high_mt'], save='umap_highmt.png')"
   ]
  },
  {
   "cell_type": "markdown",
   "id": "53c18289-55bf-4823-912d-d70ac316b7b6",
   "metadata": {},
   "source": [
    "# Cluster annotation"
   ]
  },
  {
   "cell_type": "code",
   "execution_count": null,
   "id": "9dbd499e-9310-4d46-bcde-ba171f7320df",
   "metadata": {},
   "outputs": [],
   "source": [
    "assign_unique_cell_type_names(adata_test, cluster_key='leiden', cluster_types=['class_name', 'subclass_name'])"
   ]
  },
  {
   "cell_type": "code",
   "execution_count": null,
   "id": "ae9a5929-eca1-4b4d-8b1e-4c1ec52664cf",
   "metadata": {},
   "outputs": [],
   "source": []
  },
  {
   "cell_type": "markdown",
   "id": "93815f57-6735-4f59-a736-4bf39aa69083",
   "metadata": {},
   "source": [
    "# Cluster annotation visualization"
   ]
  },
  {
   "cell_type": "code",
   "execution_count": null,
   "id": "7a66bfe4-0f33-41f6-adb4-54563db1e23b",
   "metadata": {
    "scrolled": true
   },
   "outputs": [],
   "source": [
    "# Plot UMAP with unique cell type annotations\n",
    "sc.pl.umap(adata_test, color=['cluster_class_name'], save='umap_all_groups.png', title=f'After QC - {adata.shape[0]} cells', size=10)"
   ]
  },
  {
   "cell_type": "code",
   "execution_count": null,
   "id": "e6c464c7-16e4-4ab2-b0e6-92f2a57b059c",
   "metadata": {
    "scrolled": true
   },
   "outputs": [],
   "source": [
    "# Plot UMAP with unique cell type annotations\n",
    "sc.pl.umap(adata_test, color=['cluster_subclass_name'], save='umap_all_groups.png', title=f'After QC - {adata.shape[0]} cells', size=10)"
   ]
  },
  {
   "cell_type": "code",
   "execution_count": null,
   "id": "3d020eb7-989a-4761-9184-a74fc420607c",
   "metadata": {},
   "outputs": [],
   "source": []
  },
  {
   "cell_type": "code",
   "execution_count": null,
   "id": "cae1c247-6b13-4920-b8d1-3deae7a575fc",
   "metadata": {
    "scrolled": true
   },
   "outputs": [],
   "source": [
    "# Plot separately by sample tag\n",
    "sample_tags = adata_test.obs['Sample_Tag'].unique()\n",
    "plot_umap(adata_test, cluster_type='cluster_subclass_name', legend_fontsize=7, save_path='_sample_tag')"
   ]
  },
  {
   "cell_type": "code",
   "execution_count": null,
   "id": "9b770c5b-b880-4f48-a263-b068ef35bff2",
   "metadata": {},
   "outputs": [],
   "source": []
  },
  {
   "cell_type": "code",
   "execution_count": null,
   "id": "111c9830-d9e0-499a-a63d-621bafe9241c",
   "metadata": {},
   "outputs": [],
   "source": []
  },
  {
   "cell_type": "code",
   "execution_count": null,
   "id": "0caf7bd0-091f-49ed-8a5f-369107ab61fb",
   "metadata": {},
   "outputs": [],
   "source": []
  },
  {
   "cell_type": "markdown",
   "id": "e94205ad-8d72-4aeb-9a8f-ec64fdab6bfd",
   "metadata": {},
   "source": [
    "# Clusters composition analysis"
   ]
  },
  {
   "cell_type": "code",
   "execution_count": null,
   "id": "f9e1f9b0-638b-4396-bfae-a7523860eb06",
   "metadata": {},
   "outputs": [],
   "source": [
    "class_level, cluster_type = 'subclass_name', 'cluster_subclass_name'"
   ]
  },
  {
   "cell_type": "code",
   "execution_count": null,
   "id": "deb6c751-d864-4f62-87fe-74fafa5e3317",
   "metadata": {
    "scrolled": true
   },
   "outputs": [],
   "source": [
    "#create_ditto_plot(adata, ['WT-DMSO', '3xTg-DMSO', 'WT-SCDi', '3xTg-SCDi', 'Undetermined'], class_level=class_level, cluster_type=cluster_type, min_cell=100)\n",
    "create_ditto_plot(adata_test, ['WT-DMSO'], class_level=class_level, cluster_type=cluster_type, min_cell=100, save_path='figures/wt_dmso_ditto.png')\n",
    "create_ditto_plot(adata_test, ['3xTg-DMSO'], class_level=class_level, cluster_type=cluster_type, min_cell=100, save_path='figures/3xtg_dmso_ditto.png')\n",
    "create_ditto_plot(adata_test, ['WT-SCDi'], class_level=class_level, cluster_type=cluster_type, min_cell=100, save_path='figures/wt_scdi_ditto.png')\n",
    "create_ditto_plot(adata_test, ['3xTg-SCDi'], class_level=class_level, cluster_type=cluster_type, min_cell=100, save_path='figures/3xtg_scdi_ditto.png')\n",
    "create_ditto_plot(adata_test, ['Undetermined'], class_level=class_level, cluster_type=cluster_type, min_cell=100, save_path='figures/undetermined_ditto.png')"
   ]
  },
  {
   "cell_type": "code",
   "execution_count": null,
   "id": "810012f3-bbaf-4327-80f4-fccbc20ade2e",
   "metadata": {},
   "outputs": [],
   "source": []
  },
  {
   "cell_type": "markdown",
   "id": "b1ad47c6-0ce0-4763-a79a-4f24971bf3bb",
   "metadata": {},
   "source": [
    "# Top contributing genes for each latent dimension"
   ]
  },
  {
   "cell_type": "code",
   "execution_count": null,
   "id": "be96c539-a5f9-4ea2-811d-1ba53fa19e24",
   "metadata": {},
   "outputs": [],
   "source": [
    "top_genes = get_top_genes(autoencoder, adata_test)"
   ]
  },
  {
   "cell_type": "code",
   "execution_count": null,
   "id": "9787b93f-44b4-4aa0-9da0-44a1b497e0b8",
   "metadata": {
    "scrolled": true
   },
   "outputs": [],
   "source": [
    "plot_top_contributing_genes(autoencoder, adata_test, latent_dim=0, top_n=25)"
   ]
  },
  {
   "cell_type": "code",
   "execution_count": null,
   "id": "9fb53a58-592b-43e9-97de-b723f685aff7",
   "metadata": {},
   "outputs": [],
   "source": [
    "top_genes[i]"
   ]
  },
  {
   "cell_type": "markdown",
   "id": "f2e4a90d-7e52-4fd9-927b-ebf3e696d3c2",
   "metadata": {},
   "source": [
    "# GO term enrichment analysis"
   ]
  },
  {
   "cell_type": "code",
   "execution_count": null,
   "id": "f37aa186-54de-4035-924c-759011a74dcb",
   "metadata": {
    "scrolled": true
   },
   "outputs": [],
   "source": [
    "UP_GO_results = []\n",
    "DOWN_GO_results = []\n",
    "UP_KEGG_results = []\n",
    "DOWN_KEGG_results = []\n",
    "for i in tqdm(range(32)):\n",
    "    if len(top_genes[i]['UP_genes_name']) == 0 or len(top_genes[i]['DOWN_genes_name']) == 0:\n",
    "        UP_GO_results.append(pd.DataFrame())\n",
    "        DOWN_GO_results.append(pd.DataFrame())\n",
    "        UP_KEGG_results.append(pd.DataFrame())\n",
    "        DOWN_KEGG_results.append(pd.DataFrame())\n",
    "        continue\n",
    "    UP_GO = go_enrichment_analysis(top_genes[i]['UP_genes_name'], save_path=None)\n",
    "    DOWN_GO = go_enrichment_analysis(top_genes[i]['DOWN_genes_name'], save_path=None)\n",
    "    UP_KEGG = kegg_enrichment_analysis(top_genes[i]['UP_genes_name'], save_path=None)\n",
    "    DOWN_KEGG = kegg_enrichment_analysis(top_genes[i]['DOWN_genes_name'], save_path=None)\n",
    "\n",
    "    UP_GO_results.append(UP_GO)\n",
    "    DOWN_GO_results.append(DOWN_GO)\n",
    "    UP_KEGG_results.append(UP_KEGG)\n",
    "    DOWN_KEGG_results.append(DOWN_KEGG)"
   ]
  },
  {
   "cell_type": "code",
   "execution_count": null,
   "id": "a8404c0e-f515-4119-8451-ed8f806c24fa",
   "metadata": {},
   "outputs": [],
   "source": []
  },
  {
   "cell_type": "code",
   "execution_count": null,
   "id": "43e02e66-84c6-4ffa-a5b4-72fd8beabbd5",
   "metadata": {},
   "outputs": [],
   "source": []
  },
  {
   "cell_type": "code",
   "execution_count": null,
   "id": "bf7f9c94-b491-4664-b240-891419b94f29",
   "metadata": {},
   "outputs": [],
   "source": []
  },
  {
   "cell_type": "code",
   "execution_count": null,
   "id": "e677fdf3-1f35-4fcb-97b0-41695f92dcd2",
   "metadata": {},
   "outputs": [],
   "source": [
    "idx=29"
   ]
  },
  {
   "cell_type": "code",
   "execution_count": null,
   "id": "f909d86c-7587-4486-a708-b2b8b62f6fcb",
   "metadata": {
    "scrolled": true
   },
   "outputs": [],
   "source": [
    "display_go_enrichment(UP_GO_results[idx], namespace='BP', fig_title=None, save_path=None)\n",
    "display_go_enrichment(UP_GO_results[idx], namespace='MF', fig_title=None, save_path=None)\n",
    "display_go_enrichment(UP_GO_results[idx], namespace='CC', fig_title=None, save_path=None)"
   ]
  },
  {
   "cell_type": "code",
   "execution_count": null,
   "id": "9c84f1f4-c702-4ba1-897c-7ea894fb9f58",
   "metadata": {
    "scrolled": true
   },
   "outputs": [],
   "source": [
    "display_go_enrichment(DOWN_GO_results[idx], namespace='BP', fig_title=None, save_path=None)\n",
    "display_go_enrichment(DOWN_GO_results[idx], namespace='MF', fig_title=None, save_path=None)\n",
    "display_go_enrichment(DOWN_GO_results[idx], namespace='CC', fig_title=None, save_path=None)"
   ]
  },
  {
   "cell_type": "code",
   "execution_count": null,
   "id": "0183422b-852e-439a-856a-20e165120e05",
   "metadata": {},
   "outputs": [],
   "source": []
  },
  {
   "cell_type": "code",
   "execution_count": null,
   "id": "8098c65f-635f-4ec5-8d73-cbd1749b2187",
   "metadata": {
    "scrolled": true
   },
   "outputs": [],
   "source": [
    "display_kegg_enrichment(UP_KEGG_results[idx], fig_title=None, save_path=None)"
   ]
  },
  {
   "cell_type": "code",
   "execution_count": null,
   "id": "9e68259d-4694-4b16-9b48-26786d9f1dba",
   "metadata": {
    "scrolled": true
   },
   "outputs": [],
   "source": [
    "display_kegg_enrichment(DOWN_KEGG_results[idx], fig_title=None, save_path=None)"
   ]
  },
  {
   "cell_type": "code",
   "execution_count": null,
   "id": "33013041-42e6-49aa-a4ba-d9bf270aa21a",
   "metadata": {},
   "outputs": [],
   "source": []
  },
  {
   "cell_type": "markdown",
   "id": "b174c6fa-8939-4fd0-9114-593c5c342840",
   "metadata": {},
   "source": [
    "# Latent dimensions heatmap"
   ]
  },
  {
   "cell_type": "code",
   "execution_count": null,
   "id": "27c96e2d-4002-40ee-9f1c-cd97bb783ceb",
   "metadata": {},
   "outputs": [],
   "source": [
    "tags = adata_test.obs['Sample_Tag'].unique().tolist()"
   ]
  },
  {
   "cell_type": "code",
   "execution_count": null,
   "id": "e297a80d-8bee-4c45-9300-73113fcfac88",
   "metadata": {
    "scrolled": true
   },
   "outputs": [],
   "source": [
    "classes = adata_test.obs['cluster_class_name'].unique().tolist()"
   ]
  },
  {
   "cell_type": "code",
   "execution_count": null,
   "id": "c926af79-8be0-4a6e-8fb8-f93886eb5d25",
   "metadata": {},
   "outputs": [],
   "source": [
    "classes"
   ]
  },
  {
   "cell_type": "code",
   "execution_count": null,
   "id": "94ccd6d1-bfde-4a5a-aec8-1aa04546709f",
   "metadata": {},
   "outputs": [],
   "source": [
    "plot_latent_heatmap(autoencoder, data, adata_test, sample_tags=tags, clusters=['IT-ET Glut_1'], subclusters=None, num_cells=1000)"
   ]
  },
  {
   "cell_type": "code",
   "execution_count": null,
   "id": "7869887c-aa37-4ca3-8507-7122ef0585ed",
   "metadata": {},
   "outputs": [],
   "source": [
    "plot_latent_heatmap(autoencoder, data, adata_test, sample_tags=tags, clusters=['CTX-MGE GABA_1'], subclusters=None, num_cells=1000)"
   ]
  },
  {
   "cell_type": "code",
   "execution_count": null,
   "id": "45b2fdb7-56f6-4059-8d0e-011fe1c8e995",
   "metadata": {},
   "outputs": [],
   "source": []
  },
  {
   "cell_type": "code",
   "execution_count": null,
   "id": "8a794857-b049-4b03-b48e-d5d940e7a1f5",
   "metadata": {},
   "outputs": [],
   "source": []
  },
  {
   "cell_type": "code",
   "execution_count": null,
   "id": "2d7c9dd1-584c-4403-8cea-da401d7913d3",
   "metadata": {},
   "outputs": [],
   "source": []
  },
  {
   "cell_type": "code",
   "execution_count": null,
   "id": "c5433a92-f2f0-4092-957d-81b5fcca257e",
   "metadata": {},
   "outputs": [],
   "source": []
  }
 ],
 "metadata": {
  "kernelspec": {
   "display_name": "Python 3 (ipykernel)",
   "language": "python",
   "name": "python3"
  },
  "language_info": {
   "codemirror_mode": {
    "name": "ipython",
    "version": 3
   },
   "file_extension": ".py",
   "mimetype": "text/x-python",
   "name": "python",
   "nbconvert_exporter": "python",
   "pygments_lexer": "ipython3",
   "version": "3.10.12"
  }
 },
 "nbformat": 4,
 "nbformat_minor": 5
}
