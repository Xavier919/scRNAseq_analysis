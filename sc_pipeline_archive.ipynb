{
 "cells": [
  {
   "cell_type": "code",
   "execution_count": 1,
   "id": "76f8e864",
   "metadata": {},
   "outputs": [
    {
     "name": "stderr",
     "output_type": "stream",
     "text": [
      "/home/client/projects/sc_alz/sc_env/lib/python3.10/site-packages/tqdm/auto.py:21: TqdmWarning: IProgress not found. Please update jupyter and ipywidgets. See https://ipywidgets.readthedocs.io/en/stable/user_install.html\n",
      "  from .autonotebook import tqdm as notebook_tqdm\n",
      "2024-06-11 09:59:01.030652: I tensorflow/core/platform/cpu_feature_guard.cc:210] This TensorFlow binary is optimized to use available CPU instructions in performance-critical operations.\n",
      "To enable the following instructions: AVX2 FMA, in other operations, rebuild TensorFlow with the appropriate compiler flags.\n",
      "2024-06-11 09:59:01.583692: W tensorflow/compiler/tf2tensorrt/utils/py_utils.cc:38] TF-TRT Warning: Could not find TensorRT\n"
     ]
    }
   ],
   "source": [
    "import pandas as pd\n",
    "import pickle\n",
    "from modules.process_data import *\n",
    "from modules.utils import *\n",
    "import numpy as np\n",
    "import matplotlib.pyplot as plt\n",
    "from sklearn.decomposition import PCA\n",
    "from sklearn.preprocessing import StandardScaler\n",
    "import scanpy as sc\n",
    "from tqdm import tqdm\n",
    "from modules.dea import *\n",
    "from harmony import harmonize\n",
    "import harmonypy as hm\n",
    "scaler = StandardScaler()"
   ]
  },
  {
   "cell_type": "markdown",
   "id": "4393986d-a732-45a6-b512-f0729ac0daec",
   "metadata": {},
   "source": [
    "# Import data"
   ]
  },
  {
   "cell_type": "code",
   "execution_count": 2,
   "id": "4b759811-823c-4629-9c67-126c9b6e82c7",
   "metadata": {},
   "outputs": [],
   "source": [
    "#dataset = \"run\"\n",
    "dataset = 'scdi'"
   ]
  },
  {
   "cell_type": "code",
   "execution_count": 3,
   "id": "e8d9fbeb-e9b3-41cc-b7a5-7757432bd729",
   "metadata": {},
   "outputs": [],
   "source": [
    "if dataset == \"run\":\n",
    "    adata1 = anndata.read_h5ad(\"data/A_count.h5ad\")\n",
    "    adata1.obs['Sample_Tag'] = 'LD_5xFAD'\n",
    "    adata2 = anndata.read_h5ad(\"data/B_count.h5ad\")\n",
    "    adata2.obs['Sample_Tag'] = 'LD_NC'\n",
    "    adata = anndata.concat([adata1, adata2], axis=0)\n",
    "    anno_df1 = pd.read_csv(\"data/A_mapping.csv\", skiprows=4)\n",
    "    anno_df2 = pd.read_csv(\"data/B_mapping.csv\", skiprows=4)\n",
    "    anno_df = pd.concat([anno_df1, anno_df2])\n",
    "    \n",
    "    tag1 = 'LD_NC'\n",
    "    tag2 = 'LD_5xFAD'\n",
    "    \n",
    "elif dataset == \"scdi\":\n",
    "    adata = anndata.read_h5ad(\"data/fede_count.h5ad\")\n",
    "    anno_df = pd.read_csv(\"data/fede_mapping.csv\", skiprows=4)\n",
    "    \n",
    "    tag1 = 'SampleTag17_flex'\n",
    "    tag2 = 'SampleTag18_flex'\n",
    "    tag3 = 'SampleTag19_flex'\n",
    "    tag4 = 'SampleTag20_flex'"
   ]
  },
  {
   "cell_type": "markdown",
   "id": "47f361e9-2f3a-4e26-b354-fe2eb61b8978",
   "metadata": {},
   "source": [
    "# Process data"
   ]
  },
  {
   "cell_type": "code",
   "execution_count": 4,
   "id": "8c66e705-d4e7-433d-8f01-7e0e933e92ce",
   "metadata": {},
   "outputs": [
    {
     "name": "stderr",
     "output_type": "stream",
     "text": [
      "/home/client/projects/sc_alz/sc_env/lib/python3.10/site-packages/scanpy/preprocessing/_normalization.py:206: UserWarning: Received a view of an AnnData. Making a copy.\n",
      "  view_to_actual(adata)\n"
     ]
    }
   ],
   "source": [
    "adata = rm_high_mt(adata, threshold=0.5)\n",
    "adata = filter_cells_by_gene_counts(adata)\n",
    "adata = rm_low_exp(adata, threshold=0.01)\n",
    "#TODO: keep if more than 3 cnt\n",
    "sc.pp.normalize_total(adata, target_sum=1e4)\n",
    "#sc.pp.log1p(adata)"
   ]
  },
  {
   "cell_type": "code",
   "execution_count": 5,
   "id": "334beedb-f050-4979-9659-72d03d24b2ae",
   "metadata": {},
   "outputs": [],
   "source": [
    "#join sample tag to df\n",
    "sc_df = pd.DataFrame(adata.X.toarray() if hasattr(adata.X, 'toarray') else adata.X, index=adata.obs_names, columns=adata.var_names)\n",
    "sample_tags = pd.DataFrame(adata.obs.Sample_Tag)\n",
    "sc_df = sc_df.join(sample_tags)"
   ]
  },
  {
   "cell_type": "code",
   "execution_count": 6,
   "id": "ce06be94-e710-4d04-8e2f-a2038ef2a9d7",
   "metadata": {},
   "outputs": [],
   "source": [
    "#drop multiplets and undetermined\n",
    "#sc_df = sc_df[~sc_df['Sample_Tag'].isin(['Multiplet', 'Undetermined'])]\n",
    "sc_df = sc_df[~sc_df['Sample_Tag'].isin(['Multiplet'])]"
   ]
  },
  {
   "cell_type": "code",
   "execution_count": 7,
   "id": "934c58bc-0ff7-4217-aa2a-5d48248ef182",
   "metadata": {},
   "outputs": [],
   "source": [
    "#creating annotation df\n",
    "anno_df = anno_df.set_index('cell_id')[['class_name', \"subclass_name\", \"supertype_name\", 'cluster_name']]"
   ]
  },
  {
   "cell_type": "code",
   "execution_count": 8,
   "id": "73081c95-685e-4edd-b681-685c2b531269",
   "metadata": {},
   "outputs": [],
   "source": [
    "#ensure index is type int\n",
    "sc_df.index = sc_df.index.astype('int64')\n",
    "anno_df.index = anno_df.index.astype('int64')"
   ]
  },
  {
   "cell_type": "code",
   "execution_count": 9,
   "id": "5cef2f58-eeee-4d2c-a66a-be9f28a9eb62",
   "metadata": {},
   "outputs": [],
   "source": [
    "#merge expression matrix and annotation\n",
    "sc_df = sc_df.join(anno_df)"
   ]
  },
  {
   "cell_type": "markdown",
   "id": "acef6be9-4558-423e-8113-5cf95ebbf45e",
   "metadata": {},
   "source": [
    "# Select conditions to analyze"
   ]
  },
  {
   "cell_type": "code",
   "execution_count": null,
   "id": "35d76266-1ba9-4429-b339-fe5910c3134d",
   "metadata": {},
   "outputs": [],
   "source": [
    "#extract specific type\n",
    "#sc_df = sc_df[sc_df['class_name'].isin(['30 Astro-Epen'])]"
   ]
  },
  {
   "cell_type": "markdown",
   "id": "27ce3ffb-0455-4d1b-bfc7-c03622f90011",
   "metadata": {},
   "source": [
    "# Type analysis"
   ]
  },
  {
   "cell_type": "code",
   "execution_count": 10,
   "id": "27873f9e-3909-4dbc-8a3b-a71d5686d239",
   "metadata": {},
   "outputs": [],
   "source": [
    "X = sc_df.drop(['Sample_Tag', 'class_name', \"subclass_name\", \"supertype_name\", 'cluster_name'], axis=1).values\n",
    "Y = sc_df['class_name'].values\n",
    "#Y_ = sc_df['subclass_name'].values"
   ]
  },
  {
   "cell_type": "code",
   "execution_count": 11,
   "id": "7f3ab86d-472a-4f84-b87d-25927171e9d9",
   "metadata": {},
   "outputs": [],
   "source": [
    "unique_targets = [x for x in Counter(Y)]\n",
    "palette = sns.color_palette('Set3', 12) + sns.color_palette('Paired', 12) + sns.color_palette('Set2', 10)\n",
    "color_mapping = {target: palette[i] for i, target in enumerate(unique_targets)}"
   ]
  },
  {
   "cell_type": "code",
   "execution_count": null,
   "id": "16d4e469-6243-4005-8d22-d715078cb7df",
   "metadata": {},
   "outputs": [],
   "source": []
  },
  {
   "cell_type": "code",
   "execution_count": 33,
   "id": "b7045705-98f4-4efd-a8aa-78677cc6b686",
   "metadata": {},
   "outputs": [],
   "source": [
    "components = 8\n",
    "pca = PCA(n_components=components)"
   ]
  },
  {
   "cell_type": "code",
   "execution_count": 34,
   "id": "6007e857-78f6-417d-9af0-7eb7c211aa2b",
   "metadata": {},
   "outputs": [],
   "source": [
    "X = scaler.fit_transform(X)\n",
    "X_pca = pca.fit_transform(X)"
   ]
  },
  {
   "cell_type": "code",
   "execution_count": 35,
   "id": "08bce41a-402d-42fa-b2c8-f55786e016ce",
   "metadata": {},
   "outputs": [
    {
     "name": "stderr",
     "output_type": "stream",
     "text": [
      "2024-06-11 10:16:35,832 - harmonypy - INFO - Computing initial centroids with sklearn.KMeans...\n",
      "2024-06-11 10:16:37,095 - harmonypy - INFO - sklearn.KMeans initialization complete.\n",
      "2024-06-11 10:16:37,128 - harmonypy - INFO - Iteration 1 of 10\n",
      "2024-06-11 10:16:38,186 - harmonypy - INFO - Iteration 2 of 10\n",
      "2024-06-11 10:16:39,285 - harmonypy - INFO - Iteration 3 of 10\n",
      "2024-06-11 10:16:40,407 - harmonypy - INFO - Iteration 4 of 10\n",
      "2024-06-11 10:16:41,497 - harmonypy - INFO - Iteration 5 of 10\n",
      "2024-06-11 10:16:42,579 - harmonypy - INFO - Iteration 6 of 10\n",
      "2024-06-11 10:16:43,087 - harmonypy - INFO - Converged after 6 iterations\n"
     ]
    }
   ],
   "source": [
    "#Run harmony\n",
    "combined_data = np.vstack([X_pca])\n",
    "metadata = pd.DataFrame({'batch': ['batch1'] * X_pca.shape[0]})\n",
    "harmony_output = hm.run_harmony(combined_data, metadata, vars_use=['batch'])\n",
    "harmonized_data = harmony_output.Z_corr.T\n",
    "harmonized_X = harmonized_data[:X_pca.shape[0], :]"
   ]
  },
  {
   "cell_type": "code",
   "execution_count": null,
   "id": "bf3c8f18-7919-4446-9c1b-72adf38a2845",
   "metadata": {
    "scrolled": true
   },
   "outputs": [],
   "source": [
    "n_neighbors_list = [50, 75, 100, 150]\n",
    "plot_umaps(harmonized_X, Y, n_neighbors_list, color_mapping, min_count=100, classes_to_plot=None)"
   ]
  },
  {
   "cell_type": "code",
   "execution_count": 36,
   "id": "4a987f12-c9cc-4988-bb57-a6eaa85da5e0",
   "metadata": {},
   "outputs": [],
   "source": [
    "#umap\n",
    "umap = UMAP(n_neighbors=100, n_components=2, n_jobs=-1)\n",
    "X_umap = umap.fit_transform(harmonized_X)"
   ]
  },
  {
   "cell_type": "code",
   "execution_count": null,
   "id": "7e5fa4e4-6f75-44b6-a6d9-d6cc11c33187",
   "metadata": {},
   "outputs": [],
   "source": []
  },
  {
   "cell_type": "code",
   "execution_count": 40,
   "id": "1c068c91-1431-4de9-ae61-b2d318ac88b8",
   "metadata": {},
   "outputs": [
    {
     "data": {
      "text/plain": [
       "array([[10.783999  , 10.961562  ],\n",
       "       [ 3.9718738 ,  1.0721955 ],\n",
       "       [-3.3217125 ,  0.6504618 ],\n",
       "       ...,\n",
       "       [ 6.918741  ,  2.5884874 ],\n",
       "       [-5.0516434 ,  0.44196782],\n",
       "       [ 1.9693621 ,  1.0494667 ]], dtype=float32)"
      ]
     },
     "execution_count": 40,
     "metadata": {},
     "output_type": "execute_result"
    }
   ],
   "source": [
    "X_umap"
   ]
  },
  {
   "cell_type": "code",
   "execution_count": null,
   "id": "394ae757-6dd4-4286-b162-ff383e0d2f08",
   "metadata": {},
   "outputs": [],
   "source": []
  },
  {
   "cell_type": "code",
   "execution_count": 39,
   "id": "b5e947bc-248a-4a92-a51d-529bbed7f82e",
   "metadata": {
    "scrolled": true
   },
   "outputs": [
    {
     "data": {
      "image/png": "[encoded data removed]",
      "text/plain": [
       "<Figure size 600x400 with 1 Axes>"
      ]
     },
     "metadata": {},
     "output_type": "display_data"
    }
   ],
   "source": [
    "plot_umap(X_umap, Y, color_mapping, min_count=100, classes_to_plot=None)"
   ]
  },
  {
   "cell_type": "code",
   "execution_count": null,
   "id": "78e88ac5-792a-44a0-ba82-6894fca2891b",
   "metadata": {},
   "outputs": [],
   "source": []
  },
  {
   "cell_type": "code",
   "execution_count": null,
   "id": "492ca651-f95d-4955-8a43-30cbc4eeb323",
   "metadata": {},
   "outputs": [],
   "source": []
  },
  {
   "cell_type": "code",
   "execution_count": 38,
   "id": "e2dac4c3-8656-4f30-acc7-554966f7467f",
   "metadata": {},
   "outputs": [],
   "source": [
    "def plot_umap(X, Y, color_mapping, min_count=100, classes_to_plot=None):\n",
    "    plt.figure(figsize=(6, 4))\n",
    "    markersize_scatter = 0.1  \n",
    "    markersize_legend = 10\n",
    "\n",
    "    # Calculate the counts of each target\n",
    "    target_counts = Counter(Y)\n",
    "    \n",
    "    # Filter unique targets based on the minimum count threshold\n",
    "    filtered_targets = [target for target in set(Y) if target_counts[target] >= min_count]\n",
    "\n",
    "    # If classes_to_plot is provided, only keep those classes\n",
    "    if classes_to_plot is not None:\n",
    "        class_id = [x.split(' ')[0] for x in filtered_targets]\n",
    "        filtered_targets = [target for target in filtered_targets if target.split(' ')[0] in classes_to_plot]\n",
    "\n",
    "\n",
    "    for target in filtered_targets:\n",
    "        indices = np.where(Y == target)\n",
    "        color = color_mapping.get(target, 'black')  # Default to black if the target is not found in the mapping\n",
    "        plt.scatter(X[indices, 0], X[indices, 1], color=color, label=target, s=markersize_scatter)\n",
    "\n",
    "    plt.xlabel('UMAP 1')\n",
    "    plt.ylabel('UMAP 2')\n",
    "\n",
    "    handles = [Line2D([0], [0], marker='o', color='w', markerfacecolor=color_mapping.get(target, 'black'), markersize=markersize_legend, label=target)\n",
    "               for target in filtered_targets]\n",
    "\n",
    "    plt.legend(handles=handles, loc='center left', bbox_to_anchor=(1, 0.5), fontsize=7)\n",
    "    plt.grid(True)\n",
    "    plt.show()"
   ]
  },
  {
   "cell_type": "code",
   "execution_count": null,
   "id": "e7b608aa-f5b7-44d3-8ea5-6f971de6cae8",
   "metadata": {},
   "outputs": [],
   "source": []
  },
  {
   "cell_type": "markdown",
   "id": "fe2cb5a3-7737-4217-9d0b-b43b68ac11f0",
   "metadata": {},
   "source": [
    "# Differential expression analysis"
   ]
  },
  {
   "cell_type": "code",
   "execution_count": null,
   "id": "34cdd73d-a5f9-4d8b-ade6-4d540a937cfc",
   "metadata": {
    "scrolled": true
   },
   "outputs": [],
   "source": [
    "sc_df1 = sc_df1.drop(['Sample_Tag', 'class_name', \"subclass_name\", \"supertype_name\", 'cluster_name'], axis=1)\n",
    "sc_df2 = sc_df2.drop(['Sample_Tag', 'class_name', \"subclass_name\", \"supertype_name\", 'cluster_name'], axis=1)"
   ]
  },
  {
   "cell_type": "code",
   "execution_count": null,
   "id": "fd106406-0626-4b06-9a54-608dd6b1ddda",
   "metadata": {
    "scrolled": true
   },
   "outputs": [],
   "source": [
    "#DEA\n",
    "results_df = differential_expression_analysis(sc_df1, sc_df2)"
   ]
  },
  {
   "cell_type": "code",
   "execution_count": null,
   "id": "5b294baf-ab4e-417b-8028-dda2bb214060",
   "metadata": {
    "scrolled": true
   },
   "outputs": [],
   "source": [
    "#volcano_plot\n",
    "significant = get_volcano_plot(results_df, min_fold_change=0.25, max_p_value=0.05)"
   ]
  },
  {
   "cell_type": "code",
   "execution_count": null,
   "id": "a655d72b-f093-4183-8f41-f954f5970790",
   "metadata": {
    "scrolled": true
   },
   "outputs": [],
   "source": [
    "get_heatmap(results_df, sc_df1, sc_df2)"
   ]
  },
  {
   "cell_type": "markdown",
   "id": "da510467-eed0-451f-a285-a053739b0eb9",
   "metadata": {},
   "source": [
    "# GO enrichment analysis"
   ]
  },
  {
   "cell_type": "code",
   "execution_count": null,
   "id": "bac88653-162b-40e6-a66d-8401f6c16c4a",
   "metadata": {},
   "outputs": [],
   "source": [
    "dump_deg(results_df)"
   ]
  },
  {
   "cell_type": "code",
   "execution_count": null,
   "id": "483b5913-4d65-4abb-9b5f-b3456f66796a",
   "metadata": {},
   "outputs": [],
   "source": []
  },
  {
   "cell_type": "code",
   "execution_count": null,
   "id": "d5dcc481-332a-4af4-bb69-030e85a5c9cc",
   "metadata": {},
   "outputs": [],
   "source": [
    "#process_df_and_plot('DEG/analysis(21).txt')"
   ]
  },
  {
   "cell_type": "code",
   "execution_count": null,
   "id": "5258b47b-12df-477f-886b-58f87bf7bb56",
   "metadata": {},
   "outputs": [],
   "source": [
    "#process_df_and_plot('DEG/analysis(20).txt')"
   ]
  },
  {
   "cell_type": "code",
   "execution_count": null,
   "id": "5c7e2ef6-3bb7-4e42-bf45-e62ee0085768",
   "metadata": {},
   "outputs": [],
   "source": [
    "objanno = Gene2GoReader(\"/path/to/gene2go\", taxids=[10090])"
   ]
  },
  {
   "cell_type": "code",
   "execution_count": null,
   "id": "0b43ccff-917b-4688-b078-fa9475b67616",
   "metadata": {},
   "outputs": [],
   "source": [
    "from goatools.obo_parser import GODag\n",
    "from goatools.anno.genetogo_reader import Gene2GoReader\n",
    "from goatools.test_data.genes_NCBI_10090_ProteinCoding import GENEID2NT as MOUSE_GENEID2NT\n",
    "from goatools.goea.go_enrichment_ns import GOEnrichmentStudyNS\n",
    "\n",
    "def perform_go_enrichment(gene_list, background_genes):\n",
    "    # Load the GO DAG\n",
    "    obodag = GODag(\"DEG/go-basic.obo\")\n",
    "\n",
    "    # Load the gene to GO mapping for mouse\n",
    "    objanno = Gene2GoReader(\"DEG/gene2go\", taxids=[10090])\n",
    "\n",
    "    # Get the namespace2association for mouse\n",
    "    ns2assoc = objanno.get_ns2assc()\n",
    "\n",
    "    # Create a GOEA object\n",
    "    goeaobj = GOEnrichmentStudyNS(\n",
    "        background_genes, # Background gene set\n",
    "        ns2assoc, # geneid/GO associations\n",
    "        obodag, # Ontologies\n",
    "        propagate_counts = False,\n",
    "        alpha = 0.05, # default significance cut-off\n",
    "        methods = ['fdr_bh'] # defult multipletest correction method\n",
    "    )\n",
    "\n",
    "    # Run the GOEA and get significant results\n",
    "    goea_results_all = goeaobj.run_study(gene_list)\n",
    "    goea_results_sig = [r for r in goea_results_all if r.p_fdr_bh < 0.05]\n",
    "\n",
    "    # Convert the results to a DataFrame\n",
    "    df_results = pd.DataFrame([r.__dict__ for r in goea_results_sig])\n",
    "\n",
    "    return df_results"
   ]
  },
  {
   "cell_type": "code",
   "execution_count": null,
   "id": "c77bec38-ce94-4a88-abc4-3b63b7d8fddd",
   "metadata": {},
   "outputs": [],
   "source": [
    "positive_deg = results_df[(results_df[\"pval_corrected\"] < 0.05) & (results_df[\"log2foldchange\"] > 0.25)]['gene'].tolist()\n",
    "#positive_deg = [x.upper() for x in positive_deg]\n",
    "\n",
    "negative_deg = results_df[(results_df[\"pval_corrected\"] < 0.05) & (results_df[\"log2foldchange\"] <= -0.25)]['gene'].tolist()\n",
    "#negative_deg = [x.upper() for x in negative_deg]"
   ]
  },
  {
   "cell_type": "code",
   "execution_count": null,
   "id": "1993c198-c8ae-4ee7-b61a-13e0ee8245ff",
   "metadata": {},
   "outputs": [],
   "source": [
    "reference_list = [x.upper() for x in sc_df1.columns.values.tolist()]\n",
    "reference_list = [x for x in sc_df1.columns.values.tolist()]"
   ]
  },
  {
   "cell_type": "code",
   "execution_count": null,
   "id": "43fa8af9-30ef-4694-9278-949435d0c92d",
   "metadata": {},
   "outputs": [],
   "source": []
  },
  {
   "cell_type": "code",
   "execution_count": null,
   "id": "05a7b5d6-a75c-4ede-87d7-547f024f3945",
   "metadata": {},
   "outputs": [],
   "source": []
  },
  {
   "cell_type": "code",
   "execution_count": null,
   "id": "79c8af5b-e443-4376-b323-834cfaf89d38",
   "metadata": {},
   "outputs": [],
   "source": [
    "import mygene\n",
    "\n",
    "# Initialize MyGene.info\n",
    "mg = mygene.MyGeneInfo()\n",
    "\n",
    "# Example gene list\n",
    "gene_symbols = positive_deg\n",
    "\n",
    "# Query MyGene.info to get NCBI Gene IDs\n",
    "gene_info = mg.querymany(gene_symbols, scopes='symbol', fields='entrezgene', species='mouse')\n",
    "\n",
    "# Extract NCBI Gene IDs\n",
    "gene_list_ncbi = [entry.get('entrezgene') for entry in gene_info if 'entrezgene' in entry]\n",
    "\n",
    "# Repeat for background genes if they are also in string format\n",
    "background_genes_symbols = reference_list\n",
    "background_gene_info = mg.querymany(background_genes_symbols, scopes='symbol', fields='entrezgene', species='mouse')\n",
    "background_genes_ncbi = [entry.get('entrezgene') for entry in background_gene_info if 'entrezgene' in entry]"
   ]
  },
  {
   "cell_type": "code",
   "execution_count": null,
   "id": "93993ba7-40c7-445f-b9ac-e4f7b7f16ca0",
   "metadata": {},
   "outputs": [],
   "source": [
    "len(background_genes_ncbi)"
   ]
  },
  {
   "cell_type": "code",
   "execution_count": null,
   "id": "c3afe75f-fcad-4fcf-bc37-51d94bfa981d",
   "metadata": {},
   "outputs": [],
   "source": [
    "len(gene_list_ncbi)"
   ]
  },
  {
   "cell_type": "code",
   "execution_count": null,
   "id": "33c3f054-814b-4cd2-ac7f-44f989dc83e6",
   "metadata": {},
   "outputs": [],
   "source": []
  },
  {
   "cell_type": "code",
   "execution_count": null,
   "id": "3c77caf0-9c88-46fd-a899-0d640a2b2522",
   "metadata": {},
   "outputs": [],
   "source": [
    "df_results = perform_go_enrichment(gene_list_ncbi, background_genes_ncbi)"
   ]
  },
  {
   "cell_type": "code",
   "execution_count": null,
   "id": "ad6c3fb6-3289-4470-9fea-c56a58e723f7",
   "metadata": {},
   "outputs": [],
   "source": []
  },
  {
   "cell_type": "code",
   "execution_count": null,
   "id": "a60b3e5b-8d26-4561-85f6-6e619a3cd2df",
   "metadata": {},
   "outputs": [],
   "source": []
  },
  {
   "cell_type": "code",
   "execution_count": null,
   "id": "745a6f6e-590a-468a-bea4-938c8e4ae4c2",
   "metadata": {},
   "outputs": [],
   "source": []
  },
  {
   "cell_type": "code",
   "execution_count": null,
   "id": "f3224e5c-282b-4033-83e1-a3c06e2bb8bb",
   "metadata": {},
   "outputs": [],
   "source": []
  },
  {
   "cell_type": "code",
   "execution_count": null,
   "id": "a2ef2f45-e914-4396-8b13-a83cebca3e51",
   "metadata": {},
   "outputs": [],
   "source": []
  },
  {
   "cell_type": "code",
   "execution_count": null,
   "id": "f0f2c289-136a-4a78-997e-062ddb76a33d",
   "metadata": {},
   "outputs": [],
   "source": []
  },
  {
   "cell_type": "code",
   "execution_count": null,
   "id": "1289bac0-cdf8-4a7c-aeee-70b52c3aedae",
   "metadata": {},
   "outputs": [],
   "source": []
  }
 ],
 "metadata": {
  "kernelspec": {
   "display_name": "Python 3 (ipykernel)",
   "language": "python",
   "name": "python3"
  },
  "language_info": {
   "codemirror_mode": {
    "name": "ipython",
    "version": 3
   },
   "file_extension": ".py",
   "mimetype": "text/x-python",
   "name": "python",
   "nbconvert_exporter": "python",
   "pygments_lexer": "ipython3",
   "version": "3.10.12"
  }
 },
 "nbformat": 4,
 "nbformat_minor": 5
}
