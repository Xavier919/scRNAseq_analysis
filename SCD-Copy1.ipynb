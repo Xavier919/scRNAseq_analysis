{
 "cells": [
  {
   "cell_type": "code",
   "execution_count": null,
   "id": "d22d7ce9-2638-4921-a346-fbc26034d037",
   "metadata": {},
   "outputs": [],
   "source": [
    "import anndata\n",
    "import scanpy as sc\n",
    "import pandas as pd\n",
    "from scipy import sparse\n",
    "from modules.process_data import *\n",
    "from collections import Counter\n",
    "from matplotlib.ticker import PercentFormatter\n",
    "from modules.utils import *\n",
    "import seaborn as sns\n",
    "import numpy as np\n",
    "import matplotlib.pyplot as plt\n",
    "from matplotlib.lines import Line2D\n",
    "from scipy import stats\n",
    "from statsmodels.stats.multitest import multipletests\n",
    "import re\n",
    "from scipy.stats import ttest_ind\n",
    "from statsmodels.stats.multitest import fdrcorrection\n",
    "from tqdm import tqdm"
   ]
  },
  {
   "cell_type": "code",
   "execution_count": null,
   "id": "bc28edc3-dac0-4faa-86a9-8d1d76d5b660",
   "metadata": {},
   "outputs": [],
   "source": []
  },
  {
   "cell_type": "code",
   "execution_count": null,
   "id": "ad588159-56da-44ac-963b-f2acd9825e1c",
   "metadata": {},
   "outputs": [],
   "source": []
  },
  {
   "cell_type": "code",
   "execution_count": null,
   "id": "fa1fab77-f034-405e-ace8-ee72b79bcd16",
   "metadata": {},
   "outputs": [],
   "source": [
    "mapping = {'Multiplet': 'Multiplet',\n",
    "           'SampleTag17_flex': 'WT-DMSO',\n",
    "           'SampleTag18_flex': '3xTg-DMSO',\n",
    "           'SampleTag19_flex': 'WT-SCDi',\n",
    "           'SampleTag20_flex': '3xTg-SCDi',\n",
    "           'Undetermined': 'Undetermined'}"
   ]
  },
  {
   "cell_type": "code",
   "execution_count": null,
   "id": "3a6fcd9d-6308-42c1-b48a-a4a30d74d1c1",
   "metadata": {},
   "outputs": [],
   "source": [
    "#load sc data\n",
    "adata = anndata.read_h5ad(\"data/fede_count.h5ad\")"
   ]
  },
  {
   "cell_type": "code",
   "execution_count": null,
   "id": "a6746466-a1bb-45a2-96f1-8b25e817a63d",
   "metadata": {},
   "outputs": [],
   "source": [
    "#data cleaning\n",
    "adata = rm_high_mt(adata, threshold=0.6)\n",
    "adata = filter_cells_by_gene_counts(adata)"
   ]
  },
  {
   "cell_type": "code",
   "execution_count": null,
   "id": "4944fda8-b5db-4dd2-a632-829909dcb450",
   "metadata": {},
   "outputs": [],
   "source": [
    "adata = rm_low_exp(adata, threshold=0.01)\n",
    "sc.pp.normalize_total(adata, target_sum=1, exclude_highly_expressed=True, max_fraction=0.2)"
   ]
  },
  {
   "cell_type": "code",
   "execution_count": null,
   "id": "ab44deee-e14b-4e8f-a141-d41ce11e9526",
   "metadata": {},
   "outputs": [],
   "source": []
  },
  {
   "cell_type": "code",
   "execution_count": null,
   "id": "6ecace18-5143-404e-811a-eedb1d56fca2",
   "metadata": {},
   "outputs": [],
   "source": []
  },
  {
   "cell_type": "code",
   "execution_count": null,
   "id": "fab0cb80-ea6b-4e12-9acd-ee15f50766ce",
   "metadata": {},
   "outputs": [],
   "source": [
    "sample_tags = pd.DataFrame(adata.obs.Sample_Tag)\n",
    "sample_tags.index = sample_tags.index.astype('int64')\n",
    "sample_tags = pd.DataFrame(sample_tags['Sample_Tag'].map(mapping))\n",
    "sc_df = pd.DataFrame(adata.X.toarray() if hasattr(adata.X, 'toarray') else adata.X, index=adata.obs_names, columns=adata.var_names)\n",
    "sc_df.index = sc_df.index.astype('int64')\n",
    "sc_df = sc_df.join(sample_tags)"
   ]
  },
  {
   "cell_type": "code",
   "execution_count": null,
   "id": "53d5b240-c675-4a51-80bc-5bf2fe5bcab2",
   "metadata": {},
   "outputs": [],
   "source": [
    "#remove cell with sample tags \"multiplet\" or \"undetermined\"\n",
    "sc_df = sc_df[~sc_df['Sample_Tag'].isin(['Multiplet', 'Undetermined'])]"
   ]
  },
  {
   "cell_type": "code",
   "execution_count": null,
   "id": "53c20e12-6d97-4b64-90ee-6411c8ad65e2",
   "metadata": {},
   "outputs": [],
   "source": []
  },
  {
   "cell_type": "code",
   "execution_count": null,
   "id": "4f714424-199b-4db1-bd0f-de5485a0c17b",
   "metadata": {},
   "outputs": [],
   "source": [
    "adata1_df = sc_df[sc_df['Sample_Tag'] == 'WT-DMSO'].drop(['Sample_Tag'], axis=1)"
   ]
  },
  {
   "cell_type": "code",
   "execution_count": null,
   "id": "71b7d85b-696e-4857-a6f9-2242b04f0996",
   "metadata": {},
   "outputs": [],
   "source": [
    "adata2_df = sc_df[sc_df['Sample_Tag'] == '3xTg-DMSO'].drop(['Sample_Tag'], axis=1)"
   ]
  },
  {
   "cell_type": "code",
   "execution_count": null,
   "id": "7b35d85b-824d-4dd1-a00a-2b9b42dd5b6f",
   "metadata": {},
   "outputs": [],
   "source": []
  },
  {
   "cell_type": "code",
   "execution_count": null,
   "id": "b9cc3267-9797-4a47-a225-749c45a1f6cf",
   "metadata": {},
   "outputs": [],
   "source": [
    "# Initialize lists to store the gene names, fold changes, and p-values\n",
    "gene_names = []\n",
    "fold_changes = []\n",
    "p_values = []\n",
    "log10_pvals = []\n",
    "\n",
    "# Iterate over each gene (column) in the DataFrames\n",
    "for gene in tqdm(adata1_df.columns):\n",
    "    # Get the expression values for this gene in both datasets\n",
    "    wt_values = adata1_df[gene].values\n",
    "    tg_values = adata2_df[gene].values\n",
    "\n",
    "    # Perform the t-test\n",
    "    t_stat, p_value = ttest_ind(tg_values, wt_values, equal_var=False)\n",
    "\n",
    "    # Calculate the fold change\n",
    "    mean_tg = np.mean(tg_values)\n",
    "    mean_wt = np.mean(wt_values)\n",
    "\n",
    "    fold_change = np.log2(np.nan_to_num(np.divide(mean_tg, mean_wt), nan=1))\n",
    "\n",
    "    #p_value = max(p_value, 1e-300)\n",
    "    log10_pval = -np.log10(p_value)\n",
    "\n",
    "    # Store the results\n",
    "    gene_names.append(gene)\n",
    "    fold_changes.append(fold_change)\n",
    "    p_values.append(p_value)\n",
    "    log10_pvals.append(log10_pval)\n"
   ]
  },
  {
   "cell_type": "code",
   "execution_count": null,
   "id": "fbe28867-cbfd-4685-ae27-0fdd1bdf6b52",
   "metadata": {},
   "outputs": [],
   "source": []
  },
  {
   "cell_type": "code",
   "execution_count": null,
   "id": "1e67c9e9-98e0-4f13-afc1-49fb4bd37a97",
   "metadata": {},
   "outputs": [],
   "source": []
  },
  {
   "cell_type": "code",
   "execution_count": null,
   "id": "a9e0c974-5d16-4683-8fa7-36b5261880a3",
   "metadata": {},
   "outputs": [],
   "source": [
    "# Create a DataFrame from the results\n",
    "results_df = pd.DataFrame({\n",
    "    'Gene': gene_names,\n",
    "    'log2_fold_change': fold_changes,\n",
    "    'p-value': p_values,\n",
    "    'log10_p-value': log10_pvals\n",
    "})"
   ]
  },
  {
   "cell_type": "code",
   "execution_count": null,
   "id": "9b7f5681-5b7b-411c-b1df-30d4ad8a7a8e",
   "metadata": {},
   "outputs": [],
   "source": [
    "# Assuming result_df is a pandas DataFrame with the necessary data\n",
    "fold_change = results_df['log2_fold_change']\n",
    "p_value = results_df['p-value']\n",
    "log10_pvalue = -np.log10(p_value)"
   ]
  },
  {
   "cell_type": "code",
   "execution_count": null,
   "id": "71ba1e56-2f8b-4ee8-aa09-bb964c1fcc4f",
   "metadata": {},
   "outputs": [],
   "source": [
    "# Define significant genes\n",
    "significant = p_value < 0.05\n",
    "non_significant = ~significant\n",
    "significant_outside_range = significant & ((fold_change > 1) | (fold_change < -1))\n",
    "significant_inside_range = significant & ((fold_change >= -1) & (fold_change <= 1))"
   ]
  },
  {
   "cell_type": "code",
   "execution_count": null,
   "id": "a6f1080f-c122-45b0-8cbf-b3ae2425e36f",
   "metadata": {},
   "outputs": [],
   "source": [
    "# Exclude genes with log10 p-value of infinity\n",
    "finite_log10_pvalue = log10_pvalue != np.inf\n",
    "\n",
    "# Get the top 20 significant genes outside the range -1 to 1 for cleaner annotation\n",
    "top_genes = results_df[significant_outside_range & finite_log10_pvalue].nlargest(20, 'log10_p-value')\n",
    "\n",
    "# Create the volcano plot\n",
    "plt.scatter(fold_change[significant_outside_range & (fold_change > 0)], log10_pvalue[significant_outside_range & (fold_change > 0)], s=1, c='red')\n",
    "plt.scatter(fold_change[significant_outside_range & (fold_change <= 0)], log10_pvalue[significant_outside_range & (fold_change <= 0)], s=1, c='blue')\n",
    "plt.scatter(fold_change[non_significant | significant_inside_range], log10_pvalue[non_significant | significant_inside_range], s=1, c='grey')\n",
    "\n",
    "# Add dotted lines\n",
    "plt.axvline(x=-1, color='black', linestyle='--', linewidth=0.5)\n",
    "plt.axvline(x=1, color='black', linestyle='--', linewidth=0.5)\n",
    "plt.axhline(y=0, color='black', linestyle='--', linewidth=0.5)\n",
    "\n",
    "# Annotate the top genes\n",
    "for _, row in top_genes.iterrows():\n",
    "    plt.annotate(row['Gene'], (row['log2_fold_change'] + 0.2, -np.log10(row['p-value'])), ha='left', va='center', fontsize=6)\n",
    "\n",
    "# Count and annotate DEGs\n",
    "positive_deg_num = (significant_outside_range & (fold_change > 0)).sum()\n",
    "negative_deg_num = (significant_outside_range & (fold_change <= 0)).sum()\n",
    "\n",
    "plt.annotate(f'{positive_deg_num} DEGs', xy=(9, 230), ha='right', va='top', fontsize=10, color='red')\n",
    "plt.annotate(f'{negative_deg_num} DEGs', xy=(-9, 230), ha='left', va='top', fontsize=10, color='blue')\n",
    "\n",
    "plt.xlabel('Log2 Fold Change')\n",
    "plt.ylabel('-log10(p-value)')\n",
    "plt.xlim(-10, 10)\n",
    "plt.ylim(-10, 250)\n",
    "\n",
    "plt.savefig('volcano_plot.png')\n",
    "plt.show()"
   ]
  },
  {
   "cell_type": "code",
   "execution_count": null,
   "id": "9e03fe2c-1be2-47aa-9085-96337068bc54",
   "metadata": {},
   "outputs": [],
   "source": []
  },
  {
   "cell_type": "code",
   "execution_count": null,
   "id": "14585c19-1a61-4d79-98c3-58e3008683b5",
   "metadata": {},
   "outputs": [],
   "source": []
  },
  {
   "cell_type": "code",
   "execution_count": null,
   "id": "31b0a5be-6970-418d-b237-f97c36d4462c",
   "metadata": {},
   "outputs": [],
   "source": [
    "positive_deg = results_df[(results_df[\"p-value\"] < 0.05) & (results_df[\"log2_fold_change\"] > 1)]['Gene'].tolist()\n",
    "positive_deg = [x.upper() for x in positive_deg]\n",
    "\n",
    "negative_deg = results_df[(results_df[\"p-value\"] < 0.05) & (results_df[\"log2_fold_change\"] <= -1)]['Gene'].tolist()\n",
    "negative_deg = [x.upper() for x in negative_deg]"
   ]
  },
  {
   "cell_type": "code",
   "execution_count": null,
   "id": "a4ac363c-e50d-46df-91f5-f4abad356c64",
   "metadata": {},
   "outputs": [],
   "source": []
  },
  {
   "cell_type": "code",
   "execution_count": null,
   "id": "55fb70a2-b0b2-476c-8a38-944e9bca84df",
   "metadata": {},
   "outputs": [],
   "source": [
    "with open('positive_deg', 'w') as file:\n",
    "    for gene in positive_deg:\n",
    "        file.write(gene + '\\n')\n",
    "\n",
    "with open('negative_deg', 'w') as file:\n",
    "    for gene in negative_deg:\n",
    "        file.write(gene + '\\n')"
   ]
  },
  {
   "cell_type": "code",
   "execution_count": null,
   "id": "1e71c94c-8324-4967-be7b-389d969edaee",
   "metadata": {},
   "outputs": [],
   "source": []
  },
  {
   "cell_type": "code",
   "execution_count": null,
   "id": "dcbc8bdb-c7c6-45ff-89f9-43782767033c",
   "metadata": {},
   "outputs": [],
   "source": [
    "tsv_file_path = 'positive_go.txt'\n",
    "df = pd.read_csv(tsv_file_path, delimiter='\\t', skiprows=11)"
   ]
  },
  {
   "cell_type": "code",
   "execution_count": null,
   "id": "bd3932c2-d9db-4047-ba5b-c92498351376",
   "metadata": {},
   "outputs": [],
   "source": [
    "df['upload_1 (fold Enrichment)'] = pd.to_numeric(df['upload_1 (fold Enrichment)'], errors='coerce')\n",
    "df['upload_1 (FDR)'] = pd.to_numeric(df['upload_1 (FDR)'], errors='coerce')\n",
    "\n",
    "df = df.dropna(subset=['upload_1 (fold Enrichment)', 'upload_1 (FDR)'])\n",
    "\n",
    "df = df[df['upload_1 (fold Enrichment)'] >= 1]\n",
    "\n",
    "df['-log10(FDR)'] = -np.log10(df['upload_1 (FDR)'])\n",
    "\n",
    "top_processes = df.nlargest(20, '-log10(FDR)')\n",
    "\n",
    "top_processes['GO biological process complete'] = top_processes['GO biological process complete'].apply(lambda x: re.sub(r'\\s*\\([^)]*\\)', '', x))\n",
    "\n",
    "top_processes = top_processes.sort_values(by='-log10(FDR)', ascending=False)\n",
    "\n",
    "plt.figure(figsize=(10, 8))\n",
    "norm = plt.Normalize(top_processes['-log10(FDR)'].min(), top_processes['-log10(FDR)'].max())\n",
    "colors = plt.cm.viridis(norm(top_processes['-log10(FDR)']))\n",
    "bars = plt.barh(top_processes['GO biological process complete'], top_processes['upload_1 (fold Enrichment)'], color=colors)\n",
    "\n",
    "plt.xlabel('Fold Enrichment')\n",
    "plt.ylabel('UP-Biological Process')\n",
    "plt.gca().invert_yaxis()  # To display the highest -log10(FDR) at the top\n",
    "\n",
    "sm = plt.cm.ScalarMappable(cmap='viridis', norm=norm)\n",
    "sm.set_array([])\n",
    "cbar = plt.colorbar(sm, ax=plt.gca())\n",
    "cbar.ax.set_title('-log10(FDR)', pad=20)\n",
    "\n",
    "plt.tight_layout()\n",
    "plt.savefig('up_bio_process.png')\n",
    "plt.show()\n"
   ]
  },
  {
   "cell_type": "code",
   "execution_count": null,
   "id": "b6d54df8-6f63-4b2b-9fa6-4487f5502e70",
   "metadata": {},
   "outputs": [],
   "source": []
  },
  {
   "cell_type": "code",
   "execution_count": null,
   "id": "4be8fc2c-d7dd-434a-bf3c-3fcae9302b50",
   "metadata": {},
   "outputs": [],
   "source": []
  },
  {
   "cell_type": "code",
   "execution_count": null,
   "id": "433466af-dafd-403b-9526-99e84ae4bb25",
   "metadata": {},
   "outputs": [],
   "source": [
    "positive_deg = significant & (fold_change >= 1)\n",
    "negative_deg = significant & (fold_change <= -1)\n",
    "\n",
    "positive_deg = results_df[positive_deg].nlargest(100, 'log10_p-value')['Gene'].tolist()\n",
    "negative_deg = results_df[negative_deg].nlargest(100, 'log10_p-value')['Gene'].tolist()"
   ]
  },
  {
   "cell_type": "code",
   "execution_count": null,
   "id": "b13b0149-dda4-48d8-bdeb-e4af2824c5a2",
   "metadata": {},
   "outputs": [],
   "source": []
  },
  {
   "cell_type": "code",
   "execution_count": null,
   "id": "d95b1bc2-13b8-4347-87b5-57118e971407",
   "metadata": {},
   "outputs": [],
   "source": [
    "adata1 = anndata.AnnData(X=adata1_df.values, obs=pd.DataFrame(index=adata1_df.index), var=pd.DataFrame(index=adata1_df.columns))"
   ]
  },
  {
   "cell_type": "code",
   "execution_count": null,
   "id": "b298e5e6-1c7b-479e-99da-4d04a5bf8a36",
   "metadata": {},
   "outputs": [],
   "source": [
    "adata2 = anndata.AnnData(X=adata2_df.values, obs=pd.DataFrame(index=adata2_df.index), var=pd.DataFrame(index=adata2_df.columns))"
   ]
  },
  {
   "cell_type": "code",
   "execution_count": null,
   "id": "e35fa4a2-79fe-410a-9efd-d2cc5d8c8da7",
   "metadata": {},
   "outputs": [],
   "source": []
  },
  {
   "cell_type": "code",
   "execution_count": null,
   "id": "45af5235-8ec3-425f-a9c3-79a37340722b",
   "metadata": {},
   "outputs": [],
   "source": [
    "import anndata\n",
    "import scanpy as sc\n",
    "import seaborn as sns\n",
    "import matplotlib.pyplot as plt\n",
    "\n",
    "adata1_subset = adata1[:, positive_deg].copy()\n",
    "adata2_subset = adata2[:, positive_deg].copy()\n",
    "adata1_subset.obs['batch'], adata2_subset.obs['batch'] = 'WT-DMSO', '3xTg-DMSO'\n",
    "\n",
    "combined_adata = anndata.concat([adata1_subset, adata2_subset])\n",
    "sc.pp.scale(combined_adata, max_value=10)\n",
    "\n",
    "mean_expr = combined_adata.to_df().groupby(combined_adata.obs['batch']).mean().T\n",
    "\n",
    "sns.set(context='notebook', font_scale=1.2)\n",
    "cg = sns.clustermap(mean_expr, cmap='coolwarm', linewidths=.5, figsize=(10, 8), row_cluster=True, col_cluster=False)\n",
    "\n",
    "cg.ax_heatmap.set_yticklabels([])\n",
    "cg.cax.set_position([0.9, .2, .03, .45]) \n",
    "cg.ax_heatmap.xaxis.set_label_position('top')\n",
    "cg.ax_heatmap.xaxis.tick_top()\n",
    "cg.ax_heatmap.set_xlabel('')\n",
    "for tick in cg.ax_heatmap.get_xticklabels():\n",
    "    tick.set_color('black')\n",
    "    tick.set_ha('center')\n",
    "    tick.set_rotation(0)\n",
    "# Adjust layout and save the figure with the colorbar included\n",
    "plt.savefig('positive_heatmap.png', bbox_inches='tight')\n",
    "plt.show()\n"
   ]
  },
  {
   "cell_type": "code",
   "execution_count": null,
   "id": "3303dc0a-4fa4-454c-9f1c-f399f52626fc",
   "metadata": {},
   "outputs": [],
   "source": []
  },
  {
   "cell_type": "code",
   "execution_count": null,
   "id": "9fa1e6c8-e816-4679-b681-55b9f07db540",
   "metadata": {},
   "outputs": [],
   "source": [
    "adata1_subset = adata1[:, negative_deg].copy()\n",
    "adata2_subset = adata2[:, negative_deg].copy()\n",
    "adata1_subset.obs['batch'], adata2_subset.obs['batch'] = 'WT-DMSO', '3xTg-DMSO'\n",
    "\n",
    "combined_adata = anndata.concat([adata1_subset, adata2_subset])\n",
    "sc.pp.scale(combined_adata, max_value=10)\n",
    "\n",
    "mean_expr = combined_adata.to_df().groupby(combined_adata.obs['batch']).mean().T\n",
    "\n",
    "sns.set(context='notebook', font_scale=1.2)\n",
    "cg = sns.clustermap(mean_expr, cmap='coolwarm', linewidths=.5, figsize=(10, 8), row_cluster=True, col_cluster=False)\n",
    "\n",
    "cg.ax_heatmap.set_yticklabels([])\n",
    "cg.cax.set_position([0.9, .2, .03, .45]) \n",
    "cg.ax_heatmap.xaxis.set_label_position('top')\n",
    "cg.ax_heatmap.xaxis.tick_top()\n",
    "cg.ax_heatmap.set_xlabel('')\n",
    "for tick in cg.ax_heatmap.get_xticklabels():\n",
    "    tick.set_color('black')\n",
    "    tick.set_ha('center')\n",
    "    tick.set_rotation(0)\n",
    "plt.savefig('negative_heatmap.png', bbox_inches='tight')\n",
    "plt.show()"
   ]
  },
  {
   "cell_type": "code",
   "execution_count": null,
   "id": "b2ccfd06-1203-488b-bd6a-a4743e49ef88",
   "metadata": {},
   "outputs": [],
   "source": []
  },
  {
   "cell_type": "code",
   "execution_count": null,
   "id": "5e9124a5-99a6-4fd0-ad13-8ab2a417cca4",
   "metadata": {},
   "outputs": [],
   "source": []
  },
  {
   "cell_type": "code",
   "execution_count": null,
   "id": "dd57da4d-e854-4287-8396-fb8dbd350328",
   "metadata": {},
   "outputs": [],
   "source": []
  },
  {
   "cell_type": "code",
   "execution_count": null,
   "id": "57fa83b3-52b8-4765-a6b0-ed20f9bc3e87",
   "metadata": {},
   "outputs": [],
   "source": []
  },
  {
   "cell_type": "code",
   "execution_count": null,
   "id": "1efca586-040c-428d-9c31-956a5aa57ca0",
   "metadata": {},
   "outputs": [],
   "source": []
  },
  {
   "cell_type": "code",
   "execution_count": null,
   "id": "21da72d1-def7-4bcd-9f10-092988a10b17",
   "metadata": {},
   "outputs": [],
   "source": []
  },
  {
   "cell_type": "code",
   "execution_count": null,
   "id": "9505fba2-a4b0-4537-84e0-2a3637a08fd5",
   "metadata": {},
   "outputs": [],
   "source": []
  },
  {
   "cell_type": "code",
   "execution_count": null,
   "id": "2cfb58b8-1a80-4045-84e9-ae7baad6761f",
   "metadata": {},
   "outputs": [],
   "source": []
  },
  {
   "cell_type": "code",
   "execution_count": null,
   "id": "61b7c3d1-66de-44e6-9eaa-529bec7c5956",
   "metadata": {},
   "outputs": [],
   "source": []
  }
 ],
 "metadata": {
  "kernelspec": {
   "display_name": "Python 3 (ipykernel)",
   "language": "python",
   "name": "python3"
  },
  "language_info": {
   "codemirror_mode": {
    "name": "ipython",
    "version": 3
   },
   "file_extension": ".py",
   "mimetype": "text/x-python",
   "name": "python",
   "nbconvert_exporter": "python",
   "pygments_lexer": "ipython3",
   "version": "3.10.12"
  }
 },
 "nbformat": 4,
 "nbformat_minor": 5
}
