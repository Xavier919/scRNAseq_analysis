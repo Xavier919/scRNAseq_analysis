{
 "cells": [
  {
   "cell_type": "markdown",
   "id": "c083b418-d17a-4f8b-8268-27a7b8486c25",
   "metadata": {},
   "source": [
    "# EXPLORATORY DATA ANALYSIS"
   ]
  },
  {
   "cell_type": "markdown",
   "id": "eaa36715-db9b-43e4-aef0-aaa78b48d1fd",
   "metadata": {},
   "source": [
    "# Python packages"
   ]
  },
  {
   "cell_type": "code",
   "execution_count": null,
   "id": "831faa71-3645-4ccc-be6a-45c0012f8fac",
   "metadata": {},
   "outputs": [],
   "source": [
    "import pandas as pd\n",
    "import numpy as np\n",
    "import scanpy as sc\n",
    "import anndata\n",
    "import matplotlib.pyplot as plt\n",
    "import seaborn as sns\n",
    "\n",
    "from scipy.sparse import csr_matrix, issparse\n",
    "from collections import Counter\n",
    "import logging\n",
    "\n",
    "import harmonypy as hm\n",
    "import scvi\n",
    "import anndata2ri\n",
    "import rpy2.rinterface_lib.callbacks as rcb\n",
    "import rpy2.robjects as ro\n",
    "from rpy2.robjects import pandas2ri, numpy2ri, r\n",
    "from rpy2.robjects.conversion import localconverter\n",
    "\n",
    "from modules.visualize import *\n",
    "from modules.deag_tools import *\n",
    "from modules.utils import *\n",
    "from MCML.modules import MCML, bMCML\n",
    "from MCML import tools as tl"
   ]
  },
  {
   "cell_type": "markdown",
   "id": "18ee016d-4632-4c2b-b9c7-e0232c6853f1",
   "metadata": {},
   "source": [
    "# R packages"
   ]
  },
  {
   "cell_type": "code",
   "execution_count": null,
   "id": "26ac5e07-471d-4801-933c-ab672c1b0e4b",
   "metadata": {
    "scrolled": true
   },
   "outputs": [],
   "source": [
    "pandas2ri.activate()\n",
    "anndata2ri.activate()\n",
    "#robjects.r('BiocManager::install(\"scran\", update=FALSE, force=TRUE)')\n",
    "#ro.r('BiocManager::install(\"scry\", update=FALSE, force=TRUE)')\n",
    "#ro.r('BiocManager::install(\"SingleCellExperiment\", update=FALSE, force=TRUE)')\n",
    "ro.r('library(scran)')\n",
    "ro.r('library(BiocParallel)')\n",
    "ro.r('library(scry)')\n",
    "ro.r('library(SingleCellExperiment)')\n",
    "sc.settings.verbosity = 0\n",
    "sc.settings.set_figure_params(dpi=80, facecolor=\"white\", frameon=False)\n",
    "rcb.logger.setLevel(logging.ERROR)"
   ]
  },
  {
   "cell_type": "markdown",
   "id": "f398554b-69fb-40d5-b1bc-975acc72f363",
   "metadata": {},
   "source": [
    "# Import dataset"
   ]
  },
  {
   "cell_type": "code",
   "execution_count": null,
   "id": "87554199-db64-493d-8809-f7693d3c4985",
   "metadata": {},
   "outputs": [],
   "source": [
    "# Dictionary mapping sample tags to experimental group name\n",
    "sample_tag_mapping = {'SampleTag17_flex':'WT-DMSO',\n",
    "                      'SampleTag18_flex':'3xTg-DMSO',\n",
    "                      'SampleTag19_flex':'WT-SCDi',\n",
    "                      'SampleTag20_flex':'3xTg-SCDi',\n",
    "                      'Undetermined':'Undetermined',\n",
    "                      'Multiplet':'Multiplet'}\n",
    "# Load count matrix and convert sample tags to experimental group name\n",
    "adata = anndata.read_h5ad('data/fede_data/scdi_hypothalamus_count.h5ad')\n",
    "adata.obs['Sample_Tag'] = adata.obs['Sample_Tag'].map(sample_tag_mapping)\n",
    "# Load MapMyCells annotations and annotate adata object\n",
    "anno_df = pd.read_csv(\"data/fede_data/scdi_hypothalamus_mapping.csv\", skiprows=4)\n",
    "adata = annotate_adata(adata, anno_df)"
   ]
  },
  {
   "cell_type": "code",
   "execution_count": null,
   "id": "e70397b9-ce6b-4015-8e33-c60fcbbe261e",
   "metadata": {},
   "outputs": [],
   "source": [
    "# Remove columns that start with 'SampleTag'\n",
    "columns_to_remove = [col for col in adata.obs.columns if col.startswith('SampleTag')]\n",
    "adata.obs = adata.obs.drop(columns=columns_to_remove)"
   ]
  },
  {
   "cell_type": "code",
   "execution_count": null,
   "id": "445800b4-ed47-46d0-9bb7-d768336d6eb5",
   "metadata": {},
   "outputs": [],
   "source": []
  },
  {
   "cell_type": "code",
   "execution_count": null,
   "id": "1995aa9e-cffe-4c3a-b5b4-e6f3d4634e11",
   "metadata": {},
   "outputs": [],
   "source": []
  },
  {
   "cell_type": "markdown",
   "id": "aad4aeb7-4898-4807-af5f-e27308073ee0",
   "metadata": {},
   "source": [
    "# Data analysis"
   ]
  },
  {
   "cell_type": "code",
   "execution_count": null,
   "id": "c4896a29-9651-434c-a0b1-c93307ba0dbb",
   "metadata": {},
   "outputs": [],
   "source": [
    "# Cells distribution by Sample Tag\n",
    "pie_chart_condition(adata.obs['subclass_name'].values, min_pct=0.02, save_path='figures/pc_subclass.png')"
   ]
  },
  {
   "cell_type": "code",
   "execution_count": null,
   "id": "933c6bfb-050a-4672-b665-34629f0e2853",
   "metadata": {},
   "outputs": [],
   "source": []
  },
  {
   "cell_type": "code",
   "execution_count": null,
   "id": "118052c1-c5e2-4809-890e-aa0bdb37bc24",
   "metadata": {},
   "outputs": [],
   "source": []
  },
  {
   "cell_type": "code",
   "execution_count": null,
   "id": "20e6ecb7-0d84-4c7a-bc50-167c413262e6",
   "metadata": {},
   "outputs": [],
   "source": []
  },
  {
   "cell_type": "code",
   "execution_count": null,
   "id": "19a2d4ef-837a-49cd-9b9f-79952edcc2d6",
   "metadata": {},
   "outputs": [],
   "source": []
  },
  {
   "cell_type": "code",
   "execution_count": null,
   "id": "9853bd03-cfae-4cfc-96e3-9f8b1f288102",
   "metadata": {},
   "outputs": [],
   "source": []
  },
  {
   "cell_type": "code",
   "execution_count": null,
   "id": "4a1f2cc6-2481-4969-a7f7-6e6a84abde5c",
   "metadata": {},
   "outputs": [],
   "source": [
    "# Cells distribution by Sample Tag\n",
    "pie_chart_condition(adata.obs['Sample_Tag'].values, save_path='figures/pc_condition.png')"
   ]
  },
  {
   "cell_type": "code",
   "execution_count": null,
   "id": "682c2e50-fc4d-444d-8783-7b0900556699",
   "metadata": {},
   "outputs": [],
   "source": [
    "# Compute QC metrics\n",
    "adata.var['mt'] = adata.var_names.str.startswith('mt-')\n",
    "sc.pp.calculate_qc_metrics(adata, qc_vars=['mt'], percent_top=None, log1p=False, inplace=True)\n",
    "# Exclusion threshold for mitochondrial read %\n",
    "adata.obs['high_mt'] = adata.obs['pct_counts_mt'] > 100"
   ]
  },
  {
   "cell_type": "code",
   "execution_count": null,
   "id": "6da5ae65-d9b9-4ac5-a2d9-c5b07e6eee0b",
   "metadata": {},
   "outputs": [],
   "source": [
    "# Display QC metrics\n",
    "sc.pl.violin(adata, ['n_genes_by_counts', 'total_counts', 'pct_counts_mt'], jitter=0.4, multi_panel=True, save='violin.png')"
   ]
  },
  {
   "cell_type": "code",
   "execution_count": null,
   "id": "fad8b13c-2fdd-4dad-8862-07e24ade21d4",
   "metadata": {},
   "outputs": [],
   "source": []
  },
  {
   "cell_type": "code",
   "execution_count": null,
   "id": "388f6e58-fa57-4d1f-b45b-d1aa71793dae",
   "metadata": {},
   "outputs": [],
   "source": []
  },
  {
   "cell_type": "code",
   "execution_count": null,
   "id": "e2b58169-ec22-4ca6-ba95-6072e201afc9",
   "metadata": {},
   "outputs": [],
   "source": []
  },
  {
   "cell_type": "code",
   "execution_count": null,
   "id": "13f68afa-313a-411d-99e9-3858ab759b42",
   "metadata": {},
   "outputs": [],
   "source": []
  },
  {
   "cell_type": "code",
   "execution_count": null,
   "id": "4ac6a303-4baa-499e-b2be-250557c4ba8e",
   "metadata": {},
   "outputs": [],
   "source": [
    "# Display read count distribution of top genes across cells\n",
    "plot_top_n_distr(adata, top_n=3, save_path='figures/top_n_distr.png')"
   ]
  },
  {
   "cell_type": "code",
   "execution_count": null,
   "id": "547f2247-63dd-4191-af8c-16fc34d08289",
   "metadata": {},
   "outputs": [],
   "source": [
    "# Display QQ plot for negative binomial distribution\n",
    "plot_top_genes_qq(adata, top_n=3, save_path='figures/top_n_qq.png')"
   ]
  },
  {
   "cell_type": "code",
   "execution_count": null,
   "id": "ab2cd6f0-25e3-4cba-a981-542b3e8f0037",
   "metadata": {},
   "outputs": [],
   "source": []
  },
  {
   "cell_type": "markdown",
   "id": "6bbf8b1c-8522-4b17-9c19-23b108ca240c",
   "metadata": {},
   "source": [
    "# Quality control"
   ]
  },
  {
   "cell_type": "code",
   "execution_count": null,
   "id": "ea4593a2-7e7c-4386-866f-e32c326e3815",
   "metadata": {},
   "outputs": [],
   "source": [
    "# Filter out cells with less than N genes with non-zero value\n",
    "sc.pp.filter_cells(adata, min_genes=200)"
   ]
  },
  {
   "cell_type": "code",
   "execution_count": null,
   "id": "39c53c1f-e6ce-452b-bf23-4d9086903af5",
   "metadata": {},
   "outputs": [],
   "source": [
    "# Filter out genes appearing in less than N cells\n",
    "sc.pp.filter_genes(adata, min_cells=50)"
   ]
  },
  {
   "cell_type": "code",
   "execution_count": null,
   "id": "d5d866b2-8677-47bb-b622-62b0ababe571",
   "metadata": {},
   "outputs": [],
   "source": [
    "# Filter out high_mt cells\n",
    "adata = adata[~adata.obs['high_mt'], :]\n",
    "# Filter out multiplets\n",
    "adata = adata[adata.obs['Sample_Tag'] != \"Multiplet\", :]"
   ]
  },
  {
   "cell_type": "code",
   "execution_count": null,
   "id": "af6aae59-271a-4aca-9a99-f069df95d61e",
   "metadata": {},
   "outputs": [],
   "source": [
    "# Create a layer to store raw counts\n",
    "adata.layers[\"counts\"] = adata.X.copy()"
   ]
  },
  {
   "cell_type": "code",
   "execution_count": null,
   "id": "3261106d-f0e2-49ab-97e2-18ce0092ad26",
   "metadata": {},
   "outputs": [],
   "source": []
  },
  {
   "cell_type": "markdown",
   "id": "6f6d5c39-9547-4b79-8b42-aae90be3cd24",
   "metadata": {},
   "source": [
    "# Normalization"
   ]
  },
  {
   "cell_type": "markdown",
   "id": "e548f986-fcd8-4b86-8800-412058a52590",
   "metadata": {},
   "source": [
    "### Shifted logarithm"
   ]
  },
  {
   "cell_type": "code",
   "execution_count": null,
   "id": "f8db2376-d661-4d0f-8449-a008deae5eb0",
   "metadata": {},
   "outputs": [],
   "source": [
    "# Perform transformation and store in the log1p_norm layer\n",
    "scales_counts = sc.pp.normalize_total(adata, target_sum=None, inplace=False)\n",
    "adata.layers[\"log1p_norm\"] = sc.pp.log1p(scales_counts[\"X\"], copy=True)"
   ]
  },
  {
   "cell_type": "code",
   "execution_count": null,
   "id": "2de297fc-4053-44ee-aaaa-19d7dfe6f1a1",
   "metadata": {},
   "outputs": [],
   "source": [
    "display_transformation(adata, 'log1p_norm', save_path='figures/shifted_log_distr.png')"
   ]
  },
  {
   "cell_type": "markdown",
   "id": "785d6235-b0b0-4bda-b7bc-46514e575875",
   "metadata": {},
   "source": [
    "### Scran normalization"
   ]
  },
  {
   "cell_type": "code",
   "execution_count": null,
   "id": "5663ed05-f584-4877-8fc0-f23d5b23bbd4",
   "metadata": {},
   "outputs": [],
   "source": [
    "# Perform transformation and store in the scran_normalization layer\n",
    "adata = scran_normalization(adata)"
   ]
  },
  {
   "cell_type": "code",
   "execution_count": null,
   "id": "04d7f79f-d6c4-4522-8698-f1517af5b725",
   "metadata": {},
   "outputs": [],
   "source": [
    "display_transformation(adata, 'scran_normalization', save_path='figures/scran_distr.png')"
   ]
  },
  {
   "cell_type": "markdown",
   "id": "09501822-a928-45cf-a2f0-112c58cf55bd",
   "metadata": {},
   "source": [
    "### Pearson residuals"
   ]
  },
  {
   "cell_type": "code",
   "execution_count": null,
   "id": "5f516b6b-4331-4c09-9185-e3f59673a097",
   "metadata": {},
   "outputs": [],
   "source": [
    "# Perform transformation and store in the analytic_pearson_residuals layer\n",
    "adata = pearson_normalization(adata)"
   ]
  },
  {
   "cell_type": "code",
   "execution_count": null,
   "id": "1ada6315-3fe2-4fe4-87a9-f129b80edc12",
   "metadata": {},
   "outputs": [],
   "source": [
    "display_transformation(adata, 'analytic_pearson_residuals', save_path='figures/pearson_distr.png')"
   ]
  },
  {
   "cell_type": "markdown",
   "id": "7ed302e0-f053-4a53-9500-23045de5d763",
   "metadata": {},
   "source": [
    "# Save/Load adata object"
   ]
  },
  {
   "cell_type": "code",
   "execution_count": null,
   "id": "5c7e4f6a-4346-4454-8eec-64dcbb9034be",
   "metadata": {},
   "outputs": [],
   "source": [
    "# Write data to specified path\n",
    "adata.write(\"data/fede_data/scdi_hypothalamus_normalized.h5ad\")"
   ]
  },
  {
   "cell_type": "code",
   "execution_count": null,
   "id": "d156a71e-e8c7-4e79-a0a0-fae19bafc076",
   "metadata": {},
   "outputs": [],
   "source": [
    "# Load data from specified path\n",
    "adata = sc.read(\n",
    "    filename=\"data/fede_data/scdi_hypothalamus_normalized.h5ad\"\n",
    ")"
   ]
  },
  {
   "cell_type": "code",
   "execution_count": null,
   "id": "86a642d1-e976-4d00-b335-f58f5ebcf2bf",
   "metadata": {},
   "outputs": [],
   "source": []
  },
  {
   "cell_type": "markdown",
   "id": "a8b8eafd-e12a-4c23-b6cb-2e4975b68bad",
   "metadata": {},
   "source": [
    "# Select features"
   ]
  },
  {
   "cell_type": "code",
   "execution_count": null,
   "id": "3a95a7f3-2ddd-4f76-ae3e-1f66430cd136",
   "metadata": {},
   "outputs": [],
   "source": [
    "adata = select_features(adata)"
   ]
  },
  {
   "cell_type": "code",
   "execution_count": null,
   "id": "7ce18f21-0456-404f-9429-12b120bbb46b",
   "metadata": {},
   "outputs": [],
   "source": [
    "sc.pp.highly_variable_genes(adata, n_top_genes=2000, subset=False, layer='scran_normalization')\n",
    "ax = sns.scatterplot(data=adata.var, x=\"means\", y=\"dispersions\", hue=\"highly_deviant\", s=5)\n",
    "ax.set_xlim(None, 1.5)\n",
    "ax.set_ylim(None, 3)\n",
    "plt.savefig('figures/scran_highly_deviant.png')\n",
    "plt.show()"
   ]
  },
  {
   "cell_type": "code",
   "execution_count": null,
   "id": "7fb24bb4-b296-4a20-8eca-2bea039d6041",
   "metadata": {},
   "outputs": [],
   "source": [
    "adata.var[\"highly_variable\"] = adata.var[\"highly_deviant\"]"
   ]
  },
  {
   "cell_type": "code",
   "execution_count": null,
   "id": "3d0eb461-ca35-4e0d-9ed1-c4007381a805",
   "metadata": {},
   "outputs": [],
   "source": []
  },
  {
   "cell_type": "code",
   "execution_count": null,
   "id": "2499ad65-1a88-4bf8-8f47-f620f3fb13ef",
   "metadata": {},
   "outputs": [],
   "source": []
  },
  {
   "cell_type": "markdown",
   "id": "615f11ba-ea5c-4cc3-bda7-3b346187b119",
   "metadata": {},
   "source": [
    "# Dimensionality reduction"
   ]
  },
  {
   "cell_type": "markdown",
   "id": "bedf3e90-4046-4022-b26f-c85e762b315c",
   "metadata": {},
   "source": [
    "## Principal component analysis (PCA)"
   ]
  },
  {
   "cell_type": "code",
   "execution_count": null,
   "id": "312b7e41-4155-4b71-88f7-0f0d6775bb3c",
   "metadata": {},
   "outputs": [],
   "source": [
    "# Compute explained variance for first few PCs\n",
    "show_pc_variance(adata, 'log1p_norm', pc_list=[10,20,50,100])\n",
    "show_pc_variance(adata, 'scran_normalization', pc_list=[10,20,50,100])\n",
    "show_pc_variance(adata, 'analytic_pearson_residuals', pc_list=[10,20,50,100])"
   ]
  },
  {
   "cell_type": "code",
   "execution_count": null,
   "id": "9d3ff64d-6a9e-450f-a6da-e4d5690caef8",
   "metadata": {},
   "outputs": [],
   "source": [
    "# Display scree plot\n",
    "scree_plot(adata, layer='scran_normalization', save_path='figures/scree_plot.png')"
   ]
  },
  {
   "cell_type": "code",
   "execution_count": null,
   "id": "ba0435b7-2773-4225-8f45-79e4e7088ac2",
   "metadata": {},
   "outputs": [],
   "source": [
    "# PCA gene heatmap - Genes most associated to each PC\n",
    "plot_top_genes_pca_heatmaps(adata, layer='scran_normalization', n_cells=500, n_top_genes=10, pc_index='10m', n_comps=10, random_seed=42, save_path='figures/pca_gene_heatmap.png')"
   ]
  },
  {
   "cell_type": "code",
   "execution_count": null,
   "id": "b53bc0e6-19ae-4e04-abc8-125f3d02d855",
   "metadata": {},
   "outputs": [],
   "source": [
    "# Reduce to N dimensions with PCA\n",
    "sc.tl.pca(adata, n_comps=10, use_highly_variable=True, layer='scran_normalization')"
   ]
  },
  {
   "cell_type": "code",
   "execution_count": null,
   "id": "d323fee1-bf58-4b60-b017-d85ebbb3bd8b",
   "metadata": {},
   "outputs": [],
   "source": []
  },
  {
   "cell_type": "code",
   "execution_count": null,
   "id": "a6f01fdb-593b-4ff1-ad2a-d9c4f9cc29e4",
   "metadata": {},
   "outputs": [],
   "source": []
  },
  {
   "cell_type": "markdown",
   "id": "b2915608-5a3d-4a7a-8202-79c511c17d2e",
   "metadata": {},
   "source": [
    "### Optional - Batch correction"
   ]
  },
  {
   "cell_type": "code",
   "execution_count": null,
   "id": "a4d739b3-c9d8-43e7-a5d2-d65703de0596",
   "metadata": {},
   "outputs": [],
   "source": [
    "harmony_out = hm.run_harmony(adata.obsm['X_pca'], adata.obs, 'Sample_Tag')\n",
    "adata.obsm['X_pca_harmony'] = harmony_out.Z_corr.T"
   ]
  },
  {
   "cell_type": "code",
   "execution_count": null,
   "id": "9f0db2b8-3362-4de2-920c-d8f37ca62051",
   "metadata": {},
   "outputs": [],
   "source": []
  },
  {
   "cell_type": "markdown",
   "id": "2521a499-ab6e-430c-b894-6e5e16bbe3d6",
   "metadata": {},
   "source": [
    "## Multi-class multi-label (MCML)"
   ]
  },
  {
   "cell_type": "code",
   "execution_count": null,
   "id": "a6582b7b-d5a4-4f41-8943-2599392120a5",
   "metadata": {},
   "outputs": [],
   "source": [
    "adata_mcml = adata[:, adata.var[\"highly_variable\"]].copy()"
   ]
  },
  {
   "cell_type": "code",
   "execution_count": null,
   "id": "941fe0f0-e25d-4dfe-86c3-acc30884ab28",
   "metadata": {},
   "outputs": [],
   "source": [
    "subclass_name = adata_mcml.obs['subclass_name'].values.tolist()\n",
    "sample_tag = adata_mcml.obs['Sample_Tag'].values.tolist()"
   ]
  },
  {
   "cell_type": "code",
   "execution_count": null,
   "id": "9386037b-d4f3-408e-84ae-38eb27e85cea",
   "metadata": {},
   "outputs": [],
   "source": [
    "mcml = MCML(n_latent = 10, epochs = 100)\n",
    "latentMCML = mcml.trainTest(adata_mcml.layers['log1p_norm'].toarray(), np.array([subclass_name]), fracNCA = 0.8, silent = True)\n",
    "mcml.plotLosses(figsize=(10,3),axisFontSize=10,tickFontSize=8, fname='figures/mcml_test.png')"
   ]
  },
  {
   "cell_type": "code",
   "execution_count": null,
   "id": "6a11bf16-f9dc-478b-916a-ecafd6ce08aa",
   "metadata": {},
   "outputs": [],
   "source": [
    "mcml = MCML(n_latent = 10, epochs = 100)\n",
    "latentMCML = mcml.fit(adata_mcml.layers['log1p_norm'].toarray(), np.array([subclass_name]), fracNCA = 0.8, silent = True)\n",
    "mcml.plotLosses(figsize=(10,3),axisFontSize=10,tickFontSize=8, fname='figures/mcml_train.png')"
   ]
  },
  {
   "cell_type": "code",
   "execution_count": null,
   "id": "7c1ce165-ca2b-4051-873e-ffde2b87704b",
   "metadata": {},
   "outputs": [],
   "source": [
    "adata.obsm['X_mcml'] = latentMCML"
   ]
  },
  {
   "cell_type": "code",
   "execution_count": null,
   "id": "d2223dd4-7803-4438-b17e-eb4eeb1bf6b0",
   "metadata": {},
   "outputs": [],
   "source": []
  },
  {
   "cell_type": "markdown",
   "id": "10110f74-139b-4c4a-8d89-7eb2d3ddb5b5",
   "metadata": {},
   "source": [
    "## scVI"
   ]
  },
  {
   "cell_type": "code",
   "execution_count": null,
   "id": "b8576576-23bc-4c87-81d3-0b5f7523af77",
   "metadata": {},
   "outputs": [],
   "source": [
    "adata_scvi = adata[:, adata.var[\"highly_variable\"]].copy()\n",
    "scvi.model.SCVI.setup_anndata(adata_scvi, layer=\"counts\", batch_key=\"Sample_Tag\")\n",
    "model_scvi = scvi.model.SCVI(adata_scvi)\n",
    "max_epochs_scvi = int(np.min([round((20000 / adata.n_obs) * 400), 400]))\n",
    "model_scvi.train(max_epochs=max_epochs_scvi)\n",
    "adata.obsm[\"X_scVI\"] = model_scvi.get_latent_representation()"
   ]
  },
  {
   "cell_type": "code",
   "execution_count": null,
   "id": "e695e8e7-b927-4791-875e-00e8723c1bd4",
   "metadata": {},
   "outputs": [],
   "source": []
  },
  {
   "cell_type": "code",
   "execution_count": null,
   "id": "6886d1de-e531-439e-899a-119bf9a12057",
   "metadata": {},
   "outputs": [],
   "source": []
  },
  {
   "cell_type": "markdown",
   "id": "aabef167-5cce-4f7d-954f-2034d4baa04a",
   "metadata": {},
   "source": [
    "# Save/Load adata object"
   ]
  },
  {
   "cell_type": "code",
   "execution_count": null,
   "id": "ec7684b3-6bce-4f77-87d9-3fa551a5ee45",
   "metadata": {},
   "outputs": [],
   "source": [
    "# Write data to specified path\n",
    "adata.write(\"data/fede_data/scdi_hypothalamus_reduced.h5ad\")"
   ]
  },
  {
   "cell_type": "code",
   "execution_count": null,
   "id": "51e83d95-7ae1-4fd6-92f3-21da57b46d20",
   "metadata": {},
   "outputs": [],
   "source": [
    "# Load data from specified path\n",
    "adata = sc.read(\n",
    "    filename=\"data/fede_data/scdi_hypothalamus_reduced.h5ad\"\n",
    ")"
   ]
  },
  {
   "cell_type": "code",
   "execution_count": null,
   "id": "c3bf6a97-4763-4c9a-b3df-7dad2b607463",
   "metadata": {},
   "outputs": [],
   "source": []
  },
  {
   "cell_type": "code",
   "execution_count": null,
   "id": "7eb4c9af-4a73-44ce-970e-1b8667462d4b",
   "metadata": {},
   "outputs": [],
   "source": []
  },
  {
   "cell_type": "markdown",
   "id": "45b0bef1-71f8-4664-9db5-c139e16814fa",
   "metadata": {},
   "source": [
    "# Clustering"
   ]
  },
  {
   "cell_type": "code",
   "execution_count": null,
   "id": "7a9e4a51-92ad-4f09-b1c1-2ebff8375ef4",
   "metadata": {},
   "outputs": [],
   "source": [
    "# Compute cell graph and run leiden clustering algorithm\n",
    "sc.pp.neighbors(adata, use_rep='X_pca')\n",
    "sc.tl.leiden(adata, resolution=0.3)"
   ]
  },
  {
   "cell_type": "code",
   "execution_count": null,
   "id": "01c2dbcc-fdf3-45c2-baf0-c77be505708f",
   "metadata": {},
   "outputs": [],
   "source": [
    "# Replace cluster id by the cell name most representative of that cluster\n",
    "assign_unique_cell_type_names(adata, cluster_key='leiden', cluster_types=['class_name', 'subclass_name', 'supertype_name'])"
   ]
  },
  {
   "cell_type": "markdown",
   "id": "79995e92-9f3f-4543-b489-dc0a5ad88da2",
   "metadata": {},
   "source": [
    "# Visualization"
   ]
  },
  {
   "cell_type": "code",
   "execution_count": null,
   "id": "7a1a6c22-76dc-4cf1-a56a-24f64cd10bcd",
   "metadata": {},
   "outputs": [],
   "source": [
    "# Compute 2D UMAP\n",
    "sc.tl.umap(adata)"
   ]
  },
  {
   "cell_type": "markdown",
   "id": "af9a678f-5b7a-4fd4-b0ce-ea1325697263",
   "metadata": {},
   "source": [
    "### Leiden cluster visualization"
   ]
  },
  {
   "cell_type": "code",
   "execution_count": null,
   "id": "b2730230-e956-4269-b1e6-4e191163cbbf",
   "metadata": {},
   "outputs": [],
   "source": [
    "fig, axs = plt.subplots(1, 3, figsize=(20, 8))\n",
    "sc.pl.umap(adata, color='Sample_Tag', ax=axs[0], show=False)\n",
    "sc.pl.umap(adata, color='cluster_subclass_name', ax=axs[1], show=False)\n",
    "sc.pl.umap(adata, color='pct_counts_mt', ax=axs[2], show=False)\n",
    "plt.subplots_adjust(wspace=0.4, hspace=0.4)\n",
    "plt.tight_layout()\n",
    "plt.savefig('figures/umap_leiden.png', bbox_inches='tight')\n",
    "plt.show()"
   ]
  },
  {
   "cell_type": "code",
   "execution_count": null,
   "id": "319603fd-55cf-4333-a412-06c1c35effd8",
   "metadata": {},
   "outputs": [],
   "source": []
  },
  {
   "cell_type": "markdown",
   "id": "df62fc95-e068-46e3-8af7-ff05bb09f96f",
   "metadata": {},
   "source": [
    "### Cell type visualization by experimental group"
   ]
  },
  {
   "cell_type": "code",
   "execution_count": null,
   "id": "9eb5168f-24f1-492d-ad02-f9910f21a29c",
   "metadata": {
    "scrolled": true
   },
   "outputs": [],
   "source": [
    "plot_umap(adata, cluster_type='cluster_subclass_name', legend_fontsize=7, save_path='_sample_tag')"
   ]
  },
  {
   "cell_type": "code",
   "execution_count": null,
   "id": "ce34e0f0-0475-4bbf-9b76-9fff42ddc0cc",
   "metadata": {},
   "outputs": [],
   "source": []
  },
  {
   "cell_type": "markdown",
   "id": "44f9e03c-9db8-4e05-93c0-60a28d2c417e",
   "metadata": {},
   "source": [
    "### Homogeneity analysis"
   ]
  },
  {
   "cell_type": "code",
   "execution_count": null,
   "id": "105884a2-fc04-4ec1-a594-316732232c39",
   "metadata": {},
   "outputs": [],
   "source": [
    "class_level, cluster_type = 'subclass_name', 'cluster_subclass_name'"
   ]
  },
  {
   "cell_type": "code",
   "execution_count": null,
   "id": "db88ddcc-9dce-4ef0-aa39-a5ed2700fde6",
   "metadata": {},
   "outputs": [],
   "source": [
    "create_ditto_plot(adata, ['WT-DMSO', '3xTg-DMSO', 'WT-SCDi', '3xTg-SCDi', 'Undetermined'], class_level=class_level, cluster_type=cluster_type, min_cell=50, save_path='figures/all_ditto.png')"
   ]
  },
  {
   "cell_type": "code",
   "execution_count": null,
   "id": "3465243d-c873-408f-8ac5-c06d9895eba6",
   "metadata": {},
   "outputs": [],
   "source": []
  },
  {
   "cell_type": "markdown",
   "id": "c720d6fa-a174-4651-a454-4a22cde8f724",
   "metadata": {},
   "source": [
    "# Evaluating embedding quality"
   ]
  },
  {
   "cell_type": "code",
   "execution_count": null,
   "id": "9d0b2725-9fb8-4f93-9063-788159dd8f0e",
   "metadata": {},
   "outputs": [],
   "source": [
    "# Calculate the fraction of neighbors for each cell that have the same label as the cell itself.\n",
    "# Also returns the labels of the neighbors for each embedding method.\n",
    "subclass_name = adata.obs['subclass_name'].values.tolist()\n",
    "sample_tag = adata.obs['Sample_Tag'].values.tolist()\n",
    "# PCA\n",
    "pca_neighbor_fracs, pca_labels = tl.frac_unique_neighbors(\n",
    "    adata.obsm['X_pca'], np.array(subclass_name), metric=1, neighbors=30\n",
    ")\n",
    "\n",
    "# scVI\n",
    "scvi_neighbor_fracs, scvi_labels = tl.frac_unique_neighbors(\n",
    "    adata.obsm['X_scVI'], np.array(subclass_name), metric=1, neighbors=30\n",
    ")\n",
    "\n",
    "# MCML\n",
    "mcml_neighbor_fracs, mcml_labels = tl.frac_unique_neighbors(\n",
    "    adata.obsm['X_mcml'], np.array(subclass_name), metric=1, neighbors=30\n",
    ")\n",
    "\n",
    "# Identify the most common cell types\n",
    "common_cell_types = [x[0] for x in Counter(adata.obs['subclass_name']).most_common(15)]\n",
    "\n",
    "# Filter fractions to include only the most common cell types and calculate the mean for each type\n",
    "pca_neighbor_fracs = {x: np.mean(y) for x, y in pca_neighbor_fracs.items() if x in common_cell_types}\n",
    "scvi_neighbor_fracs = {x: np.mean(y) for x, y in scvi_neighbor_fracs.items() if x in common_cell_types}\n",
    "mcml_neighbor_fracs = {x: np.mean(y) for x, y in mcml_neighbor_fracs.items() if x in common_cell_types}\n",
    "\n",
    "# Combine the results into a single DataFrame\n",
    "combined_df = pd.DataFrame({\n",
    "    'PCA': pca_neighbor_fracs,\n",
    "    'MCML': mcml_neighbor_fracs,\n",
    "    'scVI': scvi_neighbor_fracs\n",
    "})\n"
   ]
  },
  {
   "cell_type": "code",
   "execution_count": null,
   "id": "e0dab72f-0a54-4c89-b6f7-8d5601aa2256",
   "metadata": {},
   "outputs": [],
   "source": [
    "output_path = \"figures/combined_cell_type_data.xlsx\"\n",
    "combined_df.to_excel(output_path)"
   ]
  },
  {
   "cell_type": "code",
   "execution_count": null,
   "id": "5b895a66-89da-4b30-b9fe-4e2dd8123de1",
   "metadata": {},
   "outputs": [],
   "source": [
    "combined_df"
   ]
  },
  {
   "cell_type": "code",
   "execution_count": null,
   "id": "ef14a28e-85cc-4546-8b76-9aef3daa9096",
   "metadata": {},
   "outputs": [],
   "source": []
  },
  {
   "cell_type": "markdown",
   "id": "930d1080-6e73-4a6d-89c0-bd0519c3f502",
   "metadata": {},
   "source": [
    "# Dump data"
   ]
  },
  {
   "cell_type": "code",
   "execution_count": null,
   "id": "c14a1fb0-564f-4bca-a34a-afbf4684f310",
   "metadata": {},
   "outputs": [],
   "source": [
    "adata.write(\"data/fede_data/scdi_hypothalamus_clustered.h5ad\")"
   ]
  },
  {
   "cell_type": "code",
   "execution_count": null,
   "id": "d82c3ead-2f34-4f5e-8143-f961816ad1ff",
   "metadata": {},
   "outputs": [],
   "source": []
  },
  {
   "cell_type": "code",
   "execution_count": null,
   "id": "0e8a68fd-d737-40fc-b90d-e06784460e62",
   "metadata": {},
   "outputs": [],
   "source": []
  },
  {
   "cell_type": "code",
   "execution_count": null,
   "id": "612c4806-c8b3-47c4-80a1-595793d88797",
   "metadata": {},
   "outputs": [],
   "source": []
  }
 ],
 "metadata": {
  "kernelspec": {
   "display_name": "Python 3 (ipykernel)",
   "language": "python",
   "name": "python3"
  },
  "language_info": {
   "codemirror_mode": {
    "name": "ipython",
    "version": 3
   },
   "file_extension": ".py",
   "mimetype": "text/x-python",
   "name": "python",
   "nbconvert_exporter": "python",
   "pygments_lexer": "ipython3",
   "version": "3.10.12"
  }
 },
 "nbformat": 4,
 "nbformat_minor": 5
}
