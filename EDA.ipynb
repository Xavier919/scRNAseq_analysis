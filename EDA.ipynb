{
 "cells": [
  {
   "cell_type": "code",
   "execution_count": 1,
   "id": "76f8e864",
   "metadata": {},
   "outputs": [
    {
     "name": "stderr",
     "output_type": "stream",
     "text": [
      "/home/client/projects/sc_alz/sc_env/lib/python3.10/site-packages/tqdm/auto.py:21: TqdmWarning: IProgress not found. Please update jupyter and ipywidgets. See https://ipywidgets.readthedocs.io/en/stable/user_install.html\n",
      "  from .autonotebook import tqdm as notebook_tqdm\n",
      "2024-06-06 12:41:28.564850: I tensorflow/core/platform/cpu_feature_guard.cc:210] This TensorFlow binary is optimized to use available CPU instructions in performance-critical operations.\n",
      "To enable the following instructions: AVX2 FMA, in other operations, rebuild TensorFlow with the appropriate compiler flags.\n",
      "2024-06-06 12:41:29.110628: W tensorflow/compiler/tf2tensorrt/utils/py_utils.cc:38] TF-TRT Warning: Could not find TensorRT\n"
     ]
    }
   ],
   "source": [
    "import pandas as pd\n",
    "import numpy as np\n",
    "import matplotlib.pyplot as plt\n",
    "import pickle\n",
    "from modules.process_data import *\n",
    "from modules.utils import *"
   ]
  },
  {
   "cell_type": "code",
   "execution_count": null,
   "id": "d9132e69-4d52-46b8-a559-7518f3207856",
   "metadata": {},
   "outputs": [],
   "source": []
  },
  {
   "cell_type": "code",
   "execution_count": 2,
   "id": "b3722f83-fcaa-4bd4-b38b-bacbce3774e2",
   "metadata": {},
   "outputs": [
    {
     "name": "stdout",
     "output_type": "stream",
     "text": [
      "2024-06-06 12:41:30.734759: I tensorflow/core/platform/cpu_feature_guard.cc:210] This TensorFlow binary is optimized to use available CPU instructions in performance-critical operations.\n",
      "To enable the following instructions: AVX2 FMA, in other operations, rebuild TensorFlow with the appropriate compiler flags.\n",
      "2024-06-06 12:41:31.270805: W tensorflow/compiler/tf2tensorrt/utils/py_utils.cc:38] TF-TRT Warning: Could not find TensorRT\n",
      "/home/client/projects/sc_alz/sc_env/lib/python3.10/site-packages/anndata/_core/anndata.py:1818: UserWarning: Observation names are not unique. To make them unique, call `.obs_names_make_unique`.\n",
      "  utils.warn_names_duplicates(\"obs\")\n",
      "Number of pairs: 5\n",
      "Batch_size: 256\n",
      "Learning rate: 0.0001\n",
      "Epochs: 15\n",
      "Split: 0\n",
      "Tag: kan\n",
      "Hidden layers: [256, 32]\n",
      "100%|█████████████████████████████████████████| 759/759 [01:28<00:00,  8.59it/s]\n",
      "Epoch 0, Train Loss: 8.4922441217425, Validation Accuracy: 0.49729173103956026\n",
      "Model saved as best model\n",
      "100%|█████████████████████████████████████████| 759/759 [01:26<00:00,  8.74it/s]\n",
      "Epoch 1, Train Loss: 0.8065717439210148, Validation Accuracy: 0.4971681598316517\n",
      "100%|█████████████████████████████████████████| 759/759 [01:26<00:00,  8.78it/s]\n",
      "Epoch 2, Train Loss: 0.18060085877324594, Validation Accuracy: 0.6921429308199045\n",
      "Model saved as best model\n",
      "100%|█████████████████████████████████████████| 759/759 [01:27<00:00,  8.71it/s]\n",
      "Epoch 3, Train Loss: 0.06812136956000987, Validation Accuracy: 0.7809906293086124\n",
      "Model saved as best model\n",
      "100%|█████████████████████████████████████████| 759/759 [01:27<00:00,  8.69it/s]\n",
      "Epoch 4, Train Loss: 0.06626181179542237, Validation Accuracy: 0.7793636083774765\n",
      "100%|█████████████████████████████████████████| 759/759 [01:27<00:00,  8.69it/s]\n",
      "Epoch 5, Train Loss: 0.07632213260006646, Validation Accuracy: 0.7741942126882787\n",
      "100%|█████████████████████████████████████████| 759/759 [01:27<00:00,  8.68it/s]\n",
      "Epoch 6, Train Loss: 0.04385631716391747, Validation Accuracy: 0.7636494696662006\n",
      "100%|█████████████████████████████████████████| 759/759 [01:27<00:00,  8.66it/s]\n",
      "Epoch 7, Train Loss: 0.03774666166293762, Validation Accuracy: 0.7560704356597069\n",
      "  2%|▉                                         | 18/759 [00:03<01:24,  8.74it/s]^C\n"
     ]
    }
   ],
   "source": [
    "!python \"modules/train_script.py\" 256 15 0.0001 5 0 kan -s_layers 256 32"
   ]
  },
  {
   "cell_type": "code",
   "execution_count": null,
   "id": "ccd775f7-76b6-4d80-9a0c-e34266c76c5f",
   "metadata": {},
   "outputs": [],
   "source": []
  },
  {
   "cell_type": "code",
   "execution_count": null,
   "id": "d823cf1d-2f6d-40d9-bf10-1ecd8afcdd92",
   "metadata": {},
   "outputs": [],
   "source": [
    "!python \"modules/eval_script.py\" kan kan_0_5_32.pth 0 -s_layers 256 32"
   ]
  },
  {
   "cell_type": "code",
   "execution_count": null,
   "id": "e0211cc6-af0f-479f-b606-8a483ffceee1",
   "metadata": {},
   "outputs": [],
   "source": []
  },
  {
   "cell_type": "code",
   "execution_count": null,
   "id": "f00f8afe-9cb2-4186-b7cf-51176d9ce368",
   "metadata": {},
   "outputs": [],
   "source": [
    "X, Y = pickle.load(open('embed_kan_0_5_32.pth.pkl', 'rb'))"
   ]
  },
  {
   "cell_type": "code",
   "execution_count": null,
   "id": "dc0d8d98-b476-4d1c-b4e6-3b526b10c5d9",
   "metadata": {},
   "outputs": [],
   "source": [
    "#PCA dim. reduction\n",
    "#pca = PCA(n_components=10, random_state=42)\n",
    "#pca_result = pca.fit_transform(X)"
   ]
  },
  {
   "cell_type": "code",
   "execution_count": null,
   "id": "e6169cfd-a0a6-4160-a994-52e1bdbc24cc",
   "metadata": {},
   "outputs": [],
   "source": [
    "#UMAP dim. reduction\n",
    "reducer = UMAP(n_neighbors=100, n_components=2, random_state=42)\n",
    "umap_result = reducer.fit_transform(X)"
   ]
  },
  {
   "cell_type": "code",
   "execution_count": null,
   "id": "678deca8-8f3c-4bef-8ecf-bbb779f162b5",
   "metadata": {},
   "outputs": [],
   "source": [
    "mapping2 = {'LD_5xFAD': 1,\n",
    "            'LD_NC': 2,\n",
    "            'run_5xFAD': 3,\n",
    "            'run_NC': 4}\n",
    "\n",
    "mapping2 = {'Multiplet': 1,\n",
    "            'SampleTag17_flex': 2,\n",
    "            'SampleTag18_flex': 3,\n",
    "            'SampleTag19_flex': 4,\n",
    "            'SampleTag20_flex': 5,\n",
    "            'Undetermined': 6}"
   ]
  },
  {
   "cell_type": "code",
   "execution_count": null,
   "id": "2f1b6208-7b65-4580-a99f-44280205c122",
   "metadata": {},
   "outputs": [],
   "source": [
    "mapping = {y:x for x,y in mapping1.items()}"
   ]
  },
  {
   "cell_type": "code",
   "execution_count": null,
   "id": "9462adea-3df0-440e-86f1-7f9136cc096b",
   "metadata": {},
   "outputs": [],
   "source": [
    "visualize_umap(umap_result, Y, mapping)"
   ]
  },
  {
   "cell_type": "code",
   "execution_count": null,
   "id": "52a113f7-4642-4469-ba5a-9a618fcff37b",
   "metadata": {},
   "outputs": [],
   "source": [
    "#KMEANS clustering\n",
    "kmeans = KMeans(n_clusters=2, random_state=42)\n",
    "kmeans_result = kmeans.fit_predict(umap_result)"
   ]
  },
  {
   "cell_type": "code",
   "execution_count": null,
   "id": "d87f554f-e190-4afb-a6bf-bbaa1d47c352",
   "metadata": {},
   "outputs": [],
   "source": [
    "#DBSCAN clustering\n",
    "dbscan = DBSCAN(eps=0.5, min_samples=100)\n",
    "dbscan_result = dbscan.fit_predict(umap_result)"
   ]
  },
  {
   "cell_type": "code",
   "execution_count": null,
   "id": "3e310498-6317-47c7-8370-e20723204afe",
   "metadata": {},
   "outputs": [],
   "source": [
    "get_clustering(umap_result, dbscan_result)"
   ]
  },
  {
   "cell_type": "code",
   "execution_count": null,
   "id": "d79be293-1a39-4612-be79-c13ecc8d0791",
   "metadata": {
    "scrolled": true
   },
   "outputs": [],
   "source": [
    "cluster_composition = get_cluster_composition(dbscan_result, Y)"
   ]
  },
  {
   "cell_type": "code",
   "execution_count": null,
   "id": "d2f148ab-39e7-40af-b17d-1d07f3debb66",
   "metadata": {},
   "outputs": [],
   "source": []
  },
  {
   "cell_type": "code",
   "execution_count": null,
   "id": "c89a0ccc-fb27-4a47-89f1-d68384d3dca5",
   "metadata": {},
   "outputs": [],
   "source": [
    "plot_cluster_composition(cluster_composition, mapping)"
   ]
  },
  {
   "cell_type": "code",
   "execution_count": null,
   "id": "7e3172b9-330c-4466-8c0e-fc7ed701b113",
   "metadata": {},
   "outputs": [],
   "source": []
  },
  {
   "cell_type": "code",
   "execution_count": null,
   "id": "011fcec4-2f2e-4e7d-9e75-9cd42af4dbf2",
   "metadata": {},
   "outputs": [],
   "source": [
    "get_pie_chart(cluster_composition[2], mapping, min_pct=5)"
   ]
  },
  {
   "cell_type": "code",
   "execution_count": null,
   "id": "a8ddd363-85dd-4473-93f8-dee004aa0b07",
   "metadata": {},
   "outputs": [],
   "source": []
  },
  {
   "cell_type": "code",
   "execution_count": null,
   "id": "09454f7f-603e-47e8-aa03-4f2588c25457",
   "metadata": {},
   "outputs": [],
   "source": []
  },
  {
   "cell_type": "code",
   "execution_count": null,
   "id": "7196ae98-3a79-4052-925f-a85397d13152",
   "metadata": {},
   "outputs": [],
   "source": []
  },
  {
   "cell_type": "code",
   "execution_count": null,
   "id": "072b827f-9d89-425f-a914-22bdcd7dfbe7",
   "metadata": {},
   "outputs": [],
   "source": []
  },
  {
   "cell_type": "code",
   "execution_count": null,
   "id": "372b5ba5-1dfd-4796-85ab-a2cfe6242499",
   "metadata": {},
   "outputs": [],
   "source": []
  },
  {
   "cell_type": "code",
   "execution_count": null,
   "id": "e219fea8-da9f-4f06-8cf6-9e4f69f05355",
   "metadata": {},
   "outputs": [],
   "source": []
  },
  {
   "cell_type": "code",
   "execution_count": null,
   "id": "68512abf-6320-4f84-84de-6e69d86a8fb8",
   "metadata": {},
   "outputs": [],
   "source": []
  },
  {
   "cell_type": "code",
   "execution_count": null,
   "id": "13688a52-57be-4ed8-8672-7bd5871ea96b",
   "metadata": {},
   "outputs": [],
   "source": [
    "from torch import nn\n",
    "from modules.kan_model import DeepKAN\n",
    "import torch\n",
    "from matplotlib import pyplot as plt"
   ]
  },
  {
   "cell_type": "code",
   "execution_count": null,
   "id": "2021d0fa-a9d3-4095-8421-ab1727f324bc",
   "metadata": {},
   "outputs": [],
   "source": [
    "device = torch.device(\"cuda\" if torch.cuda.is_available() else \"cpu\")"
   ]
  },
  {
   "cell_type": "code",
   "execution_count": null,
   "id": "653f3ed3-b8e0-4d7c-832f-0577a73ec85b",
   "metadata": {},
   "outputs": [],
   "source": [
    "input_dim = 29535\n",
    "shared_layers = [1024,256,32]\n",
    "num_knots = 5\n",
    "spline_order = 3\n",
    "noise_scale = 0.1\n",
    "base_scale = 1.0\n",
    "spline_scale = 1.0\n",
    "activation = nn.SiLU\n",
    "grid_epsilon = 0.02\n",
    "grid_range = [-1, 1]"
   ]
  },
  {
   "cell_type": "code",
   "execution_count": null,
   "id": "7fdf8d6c-9f14-4722-aa32-340b68607396",
   "metadata": {},
   "outputs": [],
   "source": [
    "base_net = DeepKAN(input_dim, shared_layers, num_knots, spline_order,\n",
    "                noise_scale, base_scale, spline_scale, activation, grid_epsilon, grid_range)"
   ]
  },
  {
   "cell_type": "code",
   "execution_count": null,
   "id": "ffe488ff-9991-4c81-86e4-0ed2ca3e7808",
   "metadata": {},
   "outputs": [],
   "source": [
    "model_path = \"kan_0_5_32.pth\"\n",
    "checkpoint = torch.load(model_path, map_location=device)\n",
    "base_net.load_state_dict(checkpoint)\n",
    "base_net.to(device)"
   ]
  },
  {
   "cell_type": "code",
   "execution_count": null,
   "id": "2d89ccd8-1e82-4173-8025-e43c80a11f13",
   "metadata": {},
   "outputs": [],
   "source": [
    "# Prune the network\n",
    "pruning_threshold = 0.01\n",
    "base_net.prune_network(pruning_threshold)\n",
    "mask = [(param != 0).float() for param in base_net.parameters()]\n",
    "def apply_pruning_mask(model, mask):\n",
    "    with torch.no_grad():\n",
    "        for param, mask in zip(model.parameters(), mask):\n",
    "            param.mul_(mask)\n",
    "apply_pruning_mask(base_net, mask)"
   ]
  },
  {
   "cell_type": "code",
   "execution_count": null,
   "id": "181194dd-83be-4623-967b-488828ad7f1d",
   "metadata": {},
   "outputs": [],
   "source": []
  },
  {
   "cell_type": "code",
   "execution_count": null,
   "id": "f6311584-af9d-401d-87a3-589ea4db5bbc",
   "metadata": {},
   "outputs": [],
   "source": []
  },
  {
   "cell_type": "code",
   "execution_count": null,
   "id": "bdd0c97a-f20b-459f-ad95-0c1492811651",
   "metadata": {},
   "outputs": [],
   "source": [
    "def print_network_parameters(model):\n",
    "    for i, layer in enumerate(model.layers):\n",
    "        print(f\"Layer {i + 1}:\")\n",
    "        print(\"Base Weights:\")\n",
    "        print(layer.base_weights.data)\n",
    "        print(\"Spline Weights:\")\n",
    "        print(layer.spline_weights.data)\n",
    "        if layer.standalone_spline_scaling:\n",
    "            print(\"Spline Scales:\")\n",
    "            print(layer.spline_scales.data)\n",
    "        print(\"-\" * 50)"
   ]
  },
  {
   "cell_type": "code",
   "execution_count": null,
   "id": "96f032f2-06ca-4780-a66a-61cb6e3edbd4",
   "metadata": {},
   "outputs": [],
   "source": [
    "print_network_parameters(base_net)"
   ]
  },
  {
   "cell_type": "code",
   "execution_count": null,
   "id": "76c9c2cb-ef6e-4367-bcc8-ed52559c8131",
   "metadata": {},
   "outputs": [],
   "source": [
    "plt.plot(base_net.layers[0].spline_weights[0][0].cpu().detach().numpy())"
   ]
  },
  {
   "cell_type": "code",
   "execution_count": null,
   "id": "00652c32-df25-4217-be44-b48719a16206",
   "metadata": {},
   "outputs": [],
   "source": []
  }
 ],
 "metadata": {
  "kernelspec": {
   "display_name": "Python 3 (ipykernel)",
   "language": "python",
   "name": "python3"
  },
  "language_info": {
   "codemirror_mode": {
    "name": "ipython",
    "version": 3
   },
   "file_extension": ".py",
   "mimetype": "text/x-python",
   "name": "python",
   "nbconvert_exporter": "python",
   "pygments_lexer": "ipython3",
   "version": "3.10.12"
  }
 },
 "nbformat": 4,
 "nbformat_minor": 5
}
