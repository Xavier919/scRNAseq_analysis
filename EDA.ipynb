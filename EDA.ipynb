{
 "cells": [
  {
   "cell_type": "code",
   "execution_count": 1,
   "id": "76f8e864",
   "metadata": {},
   "outputs": [],
   "source": [
    "import pandas as pd\n",
    "import numpy as np\n",
    "import matplotlib.pyplot as plt"
   ]
  },
  {
   "cell_type": "code",
   "execution_count": 2,
   "id": "21190170-cba0-45b7-a5fd-d22e12a4019b",
   "metadata": {},
   "outputs": [],
   "source": [
    "!export PYTHONPATH=/projects/sc_alz:$PYTHONPATH"
   ]
  },
  {
   "cell_type": "code",
   "execution_count": null,
   "id": "b3722f83-fcaa-4bd4-b38b-bacbce3774e2",
   "metadata": {},
   "outputs": [],
   "source": [
    "!python \"modules/train_script.py\" 32 5 0.0001 5 0 kan -s_layers 1024 256 32"
   ]
  },
  {
   "cell_type": "code",
   "execution_count": null,
   "id": "5deebf44-224f-4da2-ba14-3532b5cdeea6",
   "metadata": {},
   "outputs": [],
   "source": []
  },
  {
   "cell_type": "code",
   "execution_count": null,
   "id": "f53d78f6-ed79-4881-838d-02cda52e881a",
   "metadata": {},
   "outputs": [],
   "source": []
  },
  {
   "cell_type": "code",
   "execution_count": null,
   "id": "4ad6ca9e-126e-4b68-8eb3-660c7ac4ba5b",
   "metadata": {},
   "outputs": [],
   "source": []
  },
  {
   "cell_type": "code",
   "execution_count": 3,
   "id": "d823cf1d-2f6d-40d9-bf10-1ecd8afcdd92",
   "metadata": {},
   "outputs": [
    {
     "name": "stdout",
     "output_type": "stream",
     "text": [
      "2024-05-27 22:02:04.787152: I tensorflow/core/platform/cpu_feature_guard.cc:210] This TensorFlow binary is optimized to use available CPU instructions in performance-critical operations.\n",
      "To enable the following instructions: AVX2 FMA, in other operations, rebuild TensorFlow with the appropriate compiler flags.\n",
      "2024-05-27 22:02:05.312275: W tensorflow/compiler/tf2tensorrt/utils/py_utils.cc:38] TF-TRT Warning: Could not find TensorRT\n",
      "Size of sc_df before removing columns: (23555, 31032)\n",
      "Size of sc_df after removing columns: (23555, 18424)\n",
      "/home/client/projects/sc_alz/sc_env/lib/python3.10/site-packages/scanpy/preprocessing/_normalization.py:206: UserWarning: Received a view of an AnnData. Making a copy.\n",
      "  view_to_actual(adata)\n",
      "Size of merged_df: (23555, 18425)\n",
      "         0610009B22Rik  0610009E02Rik  ...   mt-Nd6  class_name\n",
      "cell_id                                ...                     \n",
      "1767         -0.241849      -0.268014  ... -0.08667           6\n",
      "3728         -0.241849      -0.268014  ... -0.08667           1\n",
      "4136         -0.241849      -0.268014  ... -0.08667          31\n",
      "7167         -0.241849      -0.268014  ... -0.08667          30\n",
      "9471         -0.241849      -0.268014  ... -0.08667          33\n",
      "\n",
      "[5 rows x 18425 columns]\n",
      "Size of sc_df before removing columns: (25000, 30548)\n",
      "Size of sc_df after removing columns: (25000, 17597)\n",
      "/home/client/projects/sc_alz/sc_env/lib/python3.10/site-packages/scanpy/preprocessing/_normalization.py:206: UserWarning: Received a view of an AnnData. Making a copy.\n",
      "  view_to_actual(adata)\n",
      "Size of merged_df: (25000, 17598)\n",
      "         0610009B22Rik  0610009E02Rik  ...     mt-Nd6  class_name\n",
      "cell_id                                ...                       \n",
      "4487         -0.243214      -0.248343  ...  10.000000          31\n",
      "6632         -0.243214       2.323330  ...  -0.084392           1\n",
      "11916        -0.243214      -0.248343  ...  -0.084392          30\n",
      "13772        -0.243214      -0.248343  ...  -0.084392           4\n",
      "15495        -0.243214      -0.248343  ...  -0.084392           1\n",
      "\n",
      "[5 rows x 17598 columns]\n",
      "Size of sc_df before removing columns: (22204, 30860)\n",
      "Size of sc_df after removing columns: (22204, 18105)\n",
      "/home/client/projects/sc_alz/sc_env/lib/python3.10/site-packages/scanpy/preprocessing/_normalization.py:206: UserWarning: Received a view of an AnnData. Making a copy.\n",
      "  view_to_actual(adata)\n",
      "Size of merged_df: (22204, 18106)\n",
      "         0610009B22Rik  0610009E02Rik  ...    mt-Nd6  class_name\n",
      "cell_id                                ...                      \n",
      "2170         -0.243101      -0.291112  ... -0.075747           1\n",
      "4053         -0.243101      -0.291112  ... -0.075747           1\n",
      "4782         -0.243101      -0.291112  ... -0.075747           3\n",
      "6287         -0.243101      -0.291112  ... -0.075747           6\n",
      "7120         -0.243101      -0.291112  ... -0.075747           1\n",
      "\n",
      "[5 rows x 18106 columns]\n",
      "Size of sc_df before removing columns: (24357, 30951)\n",
      "Size of sc_df after removing columns: (24357, 18082)\n",
      "/home/client/projects/sc_alz/sc_env/lib/python3.10/site-packages/scanpy/preprocessing/_normalization.py:206: UserWarning: Received a view of an AnnData. Making a copy.\n",
      "  view_to_actual(adata)\n",
      "Size of merged_df: (24357, 18083)\n",
      "         0610009B22Rik  0610009E02Rik  ...    mt-Nd6  class_name\n",
      "cell_id                                ...                      \n",
      "1001         -0.255547      -0.273146  ... -0.091091          31\n",
      "2670         -0.255547      -0.273146  ... -0.091091           4\n",
      "4066         -0.255547      -0.273146  ... -0.091091           1\n",
      "4319         -0.255547      -0.273146  ... -0.091091           2\n",
      "9679         -0.255547      -0.273146  ... -0.091091           4\n",
      "\n",
      "[5 rows x 18083 columns]\n",
      "    Csnk1a1     Maml2    Gm6787  ...    Spin2c    Gm5095  phenotype\n",
      "0  0.335732  1.306969 -0.069425  ... -0.075712 -0.127323          0\n",
      "1  0.659255 -0.919919 -0.069425  ... -0.075712 -0.127323          0\n",
      "2 -1.782243  0.956595 -0.069425  ... -0.075712 -0.127323          0\n",
      "3  0.952825  1.973105 -0.069425  ... -0.075712 -0.127323          0\n",
      "4  1.034594 -0.919919 -0.069425  ... -0.075712 -0.127323          0\n",
      "\n",
      "[5 rows x 17386 columns]\n",
      "100%|████████████████████████████████████| 19024/19024 [01:36<00:00, 198.07it/s]\n",
      "Figure(1000x800)\n"
     ]
    }
   ],
   "source": [
    "!python \"modules/eval_script.py\" kan kan_0_5_32.pth 0 -s_layers 1024 256 32"
   ]
  },
  {
   "cell_type": "code",
   "execution_count": null,
   "id": "004d861f-04f6-4dcf-a1a5-89d82d450bb2",
   "metadata": {},
   "outputs": [],
   "source": []
  },
  {
   "cell_type": "code",
   "execution_count": null,
   "id": "a3c96af9",
   "metadata": {},
   "outputs": [],
   "source": []
  }
 ],
 "metadata": {
  "kernelspec": {
   "display_name": "Python 3 (ipykernel)",
   "language": "python",
   "name": "python3"
  },
  "language_info": {
   "codemirror_mode": {
    "name": "ipython",
    "version": 3
   },
   "file_extension": ".py",
   "mimetype": "text/x-python",
   "name": "python",
   "nbconvert_exporter": "python",
   "pygments_lexer": "ipython3",
   "version": "3.10.12"
  }
 },
 "nbformat": 4,
 "nbformat_minor": 5
}
