{
 "cells": [
  {
   "cell_type": "code",
   "execution_count": null,
   "id": "76f8e864",
   "metadata": {},
   "outputs": [],
   "source": [
    "import pandas as pd\n",
    "import numpy as np\n",
    "import scanpy as sc\n",
    "import matplotlib.pyplot as plt\n",
    "import harmonypy as hm\n",
    "from modules.visualize import *\n",
    "from modules.deg_analysis import *"
   ]
  },
  {
   "cell_type": "code",
   "execution_count": null,
   "id": "f3224e5c-282b-4033-83e1-a3c06e2bb8bb",
   "metadata": {},
   "outputs": [],
   "source": [
    "sample_tag_mapping = {'SampleTag17_flex':'WT-DMSO',\n",
    "                      'SampleTag18_flex':'3xTg-DMSO',\n",
    "                      'SampleTag19_flex':'WT-SCDi',\n",
    "                      'SampleTag20_flex':'3xTg-SCDi',\n",
    "                      'Undetermined':'Undetermined',\n",
    "                      'Multiplet':'Multiplet'}\n",
    "# Load h5ad object\n",
    "adata = anndata.read_h5ad(\"data/fede_count.h5ad\")\n",
    "# Map appropriate condition tags\n",
    "adata.obs['Sample_Tag'] = adata.obs['Sample_Tag'].map(sample_tag_mapping)\n",
    "\n",
    "# Load cell annotation info\n",
    "anno_df = pd.read_csv(\"data/fede_mapping.csv\", skiprows=4)\n",
    "anno_df = anno_df.set_index('cell_id')[['class_name', \"subclass_name\", \"supertype_name\", 'cluster_name']]"
   ]
  },
  {
   "cell_type": "code",
   "execution_count": null,
   "id": "01403daa-f2bc-4a7b-9ccc-5604b79de890",
   "metadata": {},
   "outputs": [],
   "source": [
    "# Initial QC and filtering\n",
    "sc.pp.filter_cells(adata, min_genes=150)\n",
    "sc.pp.filter_genes(adata, min_cells=3)"
   ]
  },
  {
   "cell_type": "code",
   "execution_count": null,
   "id": "a607698a-444e-4719-8632-37572731119f",
   "metadata": {},
   "outputs": [],
   "source": [
    "# Calculate mitochondrial genes percentage\n",
    "adata.var['mt'] = adata.var_names.str.startswith('mt-')\n",
    "sc.pp.calculate_qc_metrics(adata, qc_vars=['mt'], percent_top=None, log1p=False, inplace=True)"
   ]
  },
  {
   "cell_type": "code",
   "execution_count": null,
   "id": "8dd45f2b-922d-46c8-a8bb-af96def8d33b",
   "metadata": {
    "scrolled": true
   },
   "outputs": [],
   "source": [
    "# Plot QC metrics\n",
    "sc.pl.violin(adata, ['n_genes_by_counts', 'total_counts', 'pct_counts_mt'], jitter=0.4, multi_panel=True, save='violin.png')"
   ]
  },
  {
   "cell_type": "code",
   "execution_count": null,
   "id": "dea95155-6ce7-4c86-9c0f-d41777d2af32",
   "metadata": {},
   "outputs": [],
   "source": [
    "# Filter cells\n",
    "adata = adata[(adata.obs.pct_counts_mt < 50), :]"
   ]
  },
  {
   "cell_type": "code",
   "execution_count": null,
   "id": "3eae1eaa-44c4-4339-8210-d2391f2417f8",
   "metadata": {
    "scrolled": true
   },
   "outputs": [],
   "source": [
    "# Filter multiplets if applicable (assuming Sample_Name is a column in adata.obs)\n",
    "adata = adata[adata.obs['Sample_Name'] != \"Multiplet\", :]"
   ]
  },
  {
   "cell_type": "code",
   "execution_count": null,
   "id": "d5e3aa74-989a-4839-8417-ae8a9052f0ca",
   "metadata": {},
   "outputs": [],
   "source": [
    "# Saving raw counts before data transformation\n",
    "adata.raw = adata"
   ]
  },
  {
   "cell_type": "code",
   "execution_count": null,
   "id": "11c31b4c-513a-4faf-841c-6955c00762df",
   "metadata": {
    "scrolled": true
   },
   "outputs": [],
   "source": [
    "# Normalization and identifying variable genes\n",
    "sc.pp.normalize_total(adata, target_sum=1, exclude_highly_expressed=True, max_fraction=0.05)\n",
    "sc.pp.log1p(adata)\n",
    "sc.pp.highly_variable_genes(adata, n_top_genes=2000, subset=True)\n",
    "sc.pp.scale(adata, max_value=10)"
   ]
  },
  {
   "cell_type": "code",
   "execution_count": null,
   "id": "22e7eea9-c992-482f-8913-428880e615b0",
   "metadata": {
    "scrolled": true
   },
   "outputs": [],
   "source": [
    "# Plot explained variance vs PCs\n",
    "elbow_plot(adata)"
   ]
  },
  {
   "cell_type": "code",
   "execution_count": null,
   "id": "4ecb40e0-e673-4683-890a-19750c6da90c",
   "metadata": {
    "scrolled": true
   },
   "outputs": [],
   "source": [
    "# Dimension heatmap\n",
    "dimension_heatmap(adata, n_components=15, n_cells=500)"
   ]
  },
  {
   "cell_type": "code",
   "execution_count": null,
   "id": "cda31f88-bf35-4a7f-b5e4-0bea1fdfda47",
   "metadata": {
    "scrolled": true
   },
   "outputs": [],
   "source": [
    "# Harmony batch correction\n",
    "sc.tl.pca(adata, n_comps=10)\n",
    "\n",
    "# Harmony batch correction\n",
    "harmony_out = hm.run_harmony(adata.obsm['X_pca'], adata.obs, 'Sample_Tag')\n",
    "adata.obsm['X_pca_harmony'] = harmony_out.Z_corr.T\n",
    "\n",
    "# Neighbors and clustering using Harmony-corrected PCA\n",
    "sc.pp.neighbors(adata, use_rep='X_pca_harmony', n_pcs=10)\n",
    "sc.tl.leiden(adata, resolution=0.5)\n",
    "\n",
    "# UMAP and t-SNE\n",
    "sc.tl.umap(adata)\n",
    "sc.tl.tsne(adata)"
   ]
  },
  {
   "cell_type": "code",
   "execution_count": null,
   "id": "d04cdc0c-0ad6-4999-9f47-118b29e8ebe9",
   "metadata": {
    "scrolled": true
   },
   "outputs": [],
   "source": [
    "# Plotting\n",
    "sc.pl.umap(adata, color=['leiden'], save='umap.png')\n",
    "sc.pl.tsne(adata, color=['leiden'], save='tsne.png')"
   ]
  },
  {
   "cell_type": "code",
   "execution_count": null,
   "id": "87b8d410-f40d-43e8-b1c6-4dc64e1a929f",
   "metadata": {},
   "outputs": [],
   "source": []
  },
  {
   "cell_type": "code",
   "execution_count": null,
   "id": "72c92ad7-17c3-42b0-b70c-4d95e2d9612e",
   "metadata": {},
   "outputs": [],
   "source": [
    "adata.obs['cell_id'] = adata.obs.index.astype(str)\n",
    "anno_df.index = anno_df.index.astype(str)\n",
    "adata.obs = adata.obs.merge(anno_df, left_on='cell_id', right_index=True, how='left')\n",
    "# Assign unique cell type names to each cluster\n",
    "assign_unique_cell_type_names(adata)\n",
    "# Ensure leiden and annotated_cluster are strings for concatenation\n",
    "adata.obs['leiden'] = adata.obs['leiden'].astype(str)\n",
    "adata.obs['annotated_cluster'] = adata.obs['annotated_cluster'].astype(str)"
   ]
  },
  {
   "cell_type": "code",
   "execution_count": null,
   "id": "76b8e5da-bd32-41a7-9704-d86dc7baaa2a",
   "metadata": {
    "scrolled": true
   },
   "outputs": [],
   "source": [
    "# Plot UMAP with unique cell type annotations\n",
    "sc.pl.umap(adata, color=['annotated_cluster'], save='umap_all_groups.png', title=f'After QC - {adata.shape[0]} cells', size=10)"
   ]
  },
  {
   "cell_type": "code",
   "execution_count": null,
   "id": "edff7148-8827-41af-9ac5-d2736a5659f0",
   "metadata": {
    "scrolled": true
   },
   "outputs": [],
   "source": [
    "sample_tags = adata.obs['Sample_Tag'].unique()\n",
    "plot_umap(adata, sample_tags, legend_loc='on data', legend_fontsize=5)"
   ]
  },
  {
   "cell_type": "code",
   "execution_count": null,
   "id": "92e4aa71-60b3-4dc5-9cbc-f30214460a8f",
   "metadata": {},
   "outputs": [],
   "source": [
    "sample_tag_counts = get_master_table(adata)"
   ]
  },
  {
   "cell_type": "code",
   "execution_count": null,
   "id": "c7c67d6f-482e-4e56-b468-1cff4f825377",
   "metadata": {
    "scrolled": true
   },
   "outputs": [],
   "source": [
    "get_ditto(sample_tag_counts)"
   ]
  },
  {
   "cell_type": "code",
   "execution_count": null,
   "id": "63fa3a14-9776-4b90-93f7-e58f39e825bd",
   "metadata": {},
   "outputs": [],
   "source": []
  },
  {
   "cell_type": "code",
   "execution_count": null,
   "id": "2012e59e-aa8e-4913-ac09-08a167249f8c",
   "metadata": {},
   "outputs": [],
   "source": [
    "#ctr, cnd = 'WT-DMSO', '3xTg-DMSO'\n",
    "ctr, cnd = 'WT-SCDi', '3xTg-SCDi'"
   ]
  },
  {
   "cell_type": "code",
   "execution_count": null,
   "id": "433becc4-3ba4-4803-8b99-c84f10abd4af",
   "metadata": {},
   "outputs": [],
   "source": [
    "cell_types = [x for x in set(adata.obs.annotated_cluster.values)]"
   ]
  },
  {
   "cell_type": "code",
   "execution_count": null,
   "id": "46f4535f-db22-4add-bb4f-1bb183e7dc6c",
   "metadata": {
    "scrolled": true
   },
   "outputs": [],
   "source": [
    "cluster_n_DEGs = []\n",
    "min_fold_change = 0.25\n",
    "max_p_value = 0.05\n",
    "for cell_type in tqdm(cell_types):\n",
    "    df = DEG_analysis(adata, ctr, cnd, [cell_type])\n",
    "    positive_enriched = df[(df['logfoldchanges'] > min_fold_change) & (df['pvals_adj'] < max_p_value)]\n",
    "    negative_enriched = df[(df['logfoldchanges'] < -min_fold_change) & (df['pvals_adj'] < max_p_value)]\n",
    "    positive_count = positive_enriched.shape[0]\n",
    "    negative_count = negative_enriched.shape[0]\n",
    "    cluster_n_DEGs.append((cell_type, positive_count, negative_count))"
   ]
  },
  {
   "cell_type": "code",
   "execution_count": null,
   "id": "e9bf2574-a10c-438b-bcf7-d35a6ec6602b",
   "metadata": {},
   "outputs": [],
   "source": []
  },
  {
   "cell_type": "code",
   "execution_count": null,
   "id": "c60c8a62-de4e-4cc9-a50b-bf4cc34c49f7",
   "metadata": {},
   "outputs": [],
   "source": [
    "horizontal_deg_chart(cluster_n_DEGs)"
   ]
  },
  {
   "cell_type": "code",
   "execution_count": null,
   "id": "dacb3d03-77aa-43c7-86e6-3258f84581ec",
   "metadata": {},
   "outputs": [],
   "source": [
    "results_df = DEG_analysis(adata, ctr, cnd, ['Astro-Epen_3'])"
   ]
  },
  {
   "cell_type": "code",
   "execution_count": null,
   "id": "0fdf2ea4-4511-4e8c-b924-22b4b7ac41f7",
   "metadata": {},
   "outputs": [],
   "source": [
    "get_volcano_plot(results_df)"
   ]
  },
  {
   "cell_type": "code",
   "execution_count": null,
   "id": "e1bee63c-b340-4432-ae02-83857a9ce52a",
   "metadata": {},
   "outputs": [],
   "source": []
  },
  {
   "cell_type": "code",
   "execution_count": null,
   "id": "d5e461f5-2771-49ba-9adb-f88ef17ff7e8",
   "metadata": {},
   "outputs": [],
   "source": []
  }
 ],
 "metadata": {
  "kernelspec": {
   "display_name": "Python 3 (ipykernel)",
   "language": "python",
   "name": "python3"
  },
  "language_info": {
   "codemirror_mode": {
    "name": "ipython",
    "version": 3
   },
   "file_extension": ".py",
   "mimetype": "text/x-python",
   "name": "python",
   "nbconvert_exporter": "python",
   "pygments_lexer": "ipython3",
   "version": "3.10.12"
  }
 },
 "nbformat": 4,
 "nbformat_minor": 5
}
